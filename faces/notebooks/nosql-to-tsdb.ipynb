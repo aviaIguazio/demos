{
 "cells": [
  {
   "cell_type": "code",
   "execution_count": null,
   "metadata": {},
   "outputs": [],
   "source": [
    "# nuclio: ignore\n",
    "# if the nuclio-jupyter package is not installed run !pip install nuclio-jupyter\n",
    "import nuclio "
   ]
  },
  {
   "cell_type": "code",
   "execution_count": null,
   "metadata": {},
   "outputs": [],
   "source": [
    "%nuclio cmd pip install v3io_frames\n"
   ]
  },
  {
   "cell_type": "code",
   "execution_count": null,
   "metadata": {},
   "outputs": [],
   "source": [
    "import v3io_frames as v3f\n",
    "from datetime import datetime, timedelta\n",
    "\n",
    "def handler(context, event):\n",
    "    KV_TABLE_PATH = 'iguazio/demos/testkv'\n",
    "    TSDB_TABLE_PATH = 'iguazio/demos/testtsdb'\n",
    "    client = v3f.Client(\"framesd:8081\", user='iguazio', password='datal@ke!' , container=\"users\")\n",
    "    #client.create(\"tsdb\", TSDB_TABLE_PATH, attrs={\"rate\": \"1/m\"})\n",
    "    interval = 1\n",
    "    today = datetime.utcnow()\n",
    "    delta = timedelta(hours=interval)\n",
    "    delete_date = str((today - delta).timestamp()).replace(\".\",\":\")\n",
    "    print(delete_date)\n",
    "\n",
    "\n",
    "\n",
    "\n",
    "\n",
    "    df = client.read(backend='kv', table=KV_TABLE_PATH,filter=\"time<\"+delete_date)\n",
    "    print(df.columns)\n",
    "    df.reset_index(inplace=True)\n",
    "    df.set_index(['time'], inplace=True)\n",
    "    df2 = df[['fileName','camera','label','imgUrl']]\n",
    "    client.write(\"tsdb\",TSDB_TABLE_PATH,dfs=df2)\n",
    "    print(df2)\n"
   ]
  },
  {
   "cell_type": "code",
   "execution_count": null,
   "metadata": {},
   "outputs": [],
   "source": [
    "# nuclio: ignore\n",
    "event = nuclio.Event(body='b;good morninng')\n",
    "handler(context, event)"
   ]
  },
  {
   "cell_type": "markdown",
   "metadata": {},
   "source": [
    "Before deploying the function\n",
    "\n",
    "Open up the Jupyter shell and run the following\n",
    "pip install --upgrade nuclio-jupyter"
   ]
  },
  {
   "cell_type": "code",
   "execution_count": null,
   "metadata": {},
   "outputs": [],
   "source": [
    "%nuclio deploy -n nosql-to-tsdb -p test -c"
   ]
  },
  {
   "cell_type": "code",
   "execution_count": null,
   "metadata": {},
   "outputs": [],
   "source": []
  },
  {
   "cell_type": "code",
   "execution_count": null,
   "metadata": {},
   "outputs": [],
   "source": []
  }
 ],
 "metadata": {
  "kernelspec": {
   "display_name": "Python 3",
   "language": "python",
   "name": "python3"
  },
  "language_info": {
   "codemirror_mode": {
    "name": "ipython",
    "version": 3
   },
   "file_extension": ".py",
   "mimetype": "text/x-python",
   "name": "python",
   "nbconvert_exporter": "python",
   "pygments_lexer": "ipython3",
   "version": "3.6.8"
  }
 },
 "nbformat": 4,
 "nbformat_minor": 4
}
