{
 "cells": [
  {
   "cell_type": "markdown",
   "metadata": {},
   "source": [
    "# Face Recognition Model - Serving Function\n",
    "The function uses PyTorch classifier on top of an opencv deep learning model to encode and recognize faces in given image"
   ]
  },
  {
   "cell_type": "code",
   "execution_count": 1,
   "metadata": {},
   "outputs": [],
   "source": [
    "#nuclio: ignore\n",
    "import nuclio"
   ]
  },
  {
   "cell_type": "markdown",
   "metadata": {},
   "source": [
    "### Install dependencies and set config"
   ]
  },
  {
   "cell_type": "code",
   "execution_count": null,
   "metadata": {},
   "outputs": [],
   "source": [
    "%%nuclio cmd -c\n",
    "pip install opencv-contrib-python\n",
    "pip install imutils\n",
    "pip install torch torchvision\n",
    "pip install pandas\n",
    "pip install v3io_frames\n",
    "pip install scikit-build\n",
    "pip install cmake==3.13.3\n",
    "pip install face_recognition"
   ]
  },
  {
   "cell_type": "code",
   "execution_count": null,
   "metadata": {},
   "outputs": [],
   "source": [
    "%nuclio config spec.build.baseImage = \"python:3.6-jessie\""
   ]
  },
  {
   "cell_type": "markdown",
   "metadata": {},
   "source": [
    "### Perform necessary imports"
   ]
  },
  {
   "cell_type": "code",
   "execution_count": 2,
   "metadata": {},
   "outputs": [],
   "source": [
    "import importlib.util\n",
    "import cv2\n",
    "import face_recognition\n",
    "import imutils\n",
    "import json\n",
    "import torch\n",
    "import torch.nn as nn\n",
    "import torch.nn.functional as F\n",
    "import numpy as np\n",
    "import pandas as pd\n",
    "import random\n",
    "import string\n",
    "import v3io_frames as v3f\n",
    "import os\n",
    "import datetime\n",
    "from pickle import load\n",
    "import shutil"
   ]
  },
  {
   "cell_type": "markdown",
   "metadata": {},
   "source": [
    "### Set function environment variables"
   ]
  },
  {
   "cell_type": "code",
   "execution_count": 5,
   "metadata": {},
   "outputs": [
    {
     "name": "stdout",
     "output_type": "stream",
     "text": [
      "%nuclio: setting 'MODELS_PATH' environment variable\n",
      "%nuclio: setting 'MODEL_PATH' environment variable\n",
      "%nuclio: setting 'DATA_PATH' environment variable\n",
      "%nuclio: setting 'CLASSES_MAP' environment variable\n"
     ]
    }
   ],
   "source": [
    "%%nuclio env\n",
    "MODELS_PATH = /User/demos/demos/faces/models.py\n",
    "MODEL_PATH = /User/demos/demos/faces/artifacts/model.bst\n",
    "DATA_PATH = /User/demos/demos/faces/dataset/\n",
    "CLASSES_MAP = /User/demos/demos/faces/artifacts/idx2name.csv"
   ]
  },
  {
   "cell_type": "code",
   "execution_count": 6,
   "metadata": {},
   "outputs": [
    {
     "name": "stdout",
     "output_type": "stream",
     "text": [
      "%nuclio: setting 'V3IO_ACCESS_KEY' environment variable\n"
     ]
    }
   ],
   "source": [
    "%nuclio env V3IO_ACCESS_KEY=${V3IO_ACCESS_KEY}"
   ]
  },
  {
   "cell_type": "markdown",
   "metadata": {},
   "source": [
    "### Model serving class"
   ]
  },
  {
   "cell_type": "code",
   "execution_count": 11,
   "metadata": {},
   "outputs": [],
   "source": [
    "class PytorchModel(object):\n",
    "    def __init__(self):\n",
    "        self.name = 'model.bst'\n",
    "        self.model_filepath = os.environ['MODEL_PATH']\n",
    "        self.model = None\n",
    "        self.ready = None\n",
    "        self.classes = os.environ['CLASSES_MAP']\n",
    "        self.device = torch.device('cuda') if torch.cuda.is_available() else torch.device('cpu')\n",
    "    \n",
    "    def load(self):\n",
    "        input_dim = 128\n",
    "        hidden_dim = 64\n",
    "        output_dim = self.n_classes\n",
    "\n",
    "        spec = importlib.util.spec_from_file_location('models', os.environ['MODELS_PATH'])\n",
    "        models = importlib.util.module_from_spec(spec)\n",
    "        spec.loader.exec_module(models)\n",
    "\n",
    "        model = models.FeedForwardNeuralNetModel(input_dim, hidden_dim, output_dim)\n",
    "        model.to(self.device)\n",
    "        model = model.double()\n",
    "        model.__dict__['_modules'] = load(open(self.model_filepath, 'rb')) \n",
    "        self.model = model\n",
    "        self.ready = True\n",
    "    \n",
    "    def predict(self, context, data, confidence=0.8):\n",
    "        \n",
    "        # acquires all metadata \n",
    "        time = data['time']\n",
    "        cam_name = data['camera']\n",
    "        img_url = data['file_path']\n",
    "        \n",
    "        # prepares image for use\n",
    "        with open(img_url, 'rb') as f:\n",
    "            content = f.read()\n",
    "        img_bytes = np.frombuffer(content, dtype=np.uint8)\n",
    "        image = cv2.imdecode(img_bytes, flags=1)\n",
    "        \n",
    "        # converts image format to RGB for comptability with face_recognition library and resize for faster processing\n",
    "        rgb = cv2.cvtColor(image, cv2.COLOR_BGR2RGB)\n",
    "        rgb = imutils.resize(image, width=750)\n",
    "        ratio = image.shape[1] / float(rgb.shape[1])\n",
    "        \n",
    "        #gets mapping from label to name and known encodings\n",
    "        idx2name_df = pd.read_csv(self.classes).set_index('value')\n",
    "        self.n_classes = len(idx2name_df)\n",
    "        \n",
    "        if not self.model:\n",
    "            self.load()\n",
    "        \n",
    "        #locates faces in image and extracts embbeding vector for each face\n",
    "        context.logger.info('recognizing faces')\n",
    "        boxes = face_recognition.face_locations(rgb, model='hog')\n",
    "        encodings = face_recognition.face_encodings(rgb, boxes)\n",
    "        \n",
    "        #determines if face is a clear match/ambiguous.\n",
    "        names = []\n",
    "        labels = []\n",
    "        for encoding in encodings:\n",
    "            name = 'unknown'\n",
    "            label = 'unknown'\n",
    "            enc_tensor = torch.tensor(encoding, device=self.device)\n",
    "            self.model.to(self.device)\n",
    "            out = self.model(enc_tensor)\n",
    "            pred_n, pred_i = out.topk(1)\n",
    "            distrib = F.softmax(out, dim=0)\n",
    "            \n",
    "            max_p, max_i = distrib.topk(1)\n",
    "            if max_p.item() > confidence:\n",
    "                label = pred_i.cpu()\n",
    "                name = idx2name_df.loc[label]['name'].values[0].replace('_', ' ')\n",
    "            names.append(name)\n",
    "            labels.append(label)\n",
    "            print(name)\n",
    "        #frames client to save necessary data\n",
    "        client = v3f.Client(\"framesd:8081\", container=\"users\")\n",
    "\n",
    "        #draw boxes with name on the image and performs logic according to match/ambiguous \n",
    "        ret_list = []\n",
    "        for ((top, right, bottom, left), name, encoding, label) in zip(boxes, names, encodings, labels):  \n",
    "\n",
    "            #rescale the face coordinates\n",
    "            top = int(top * ratio)\n",
    "            right = int(right * ratio)\n",
    "            bottom = int(bottom * ratio)\n",
    "            left = int(left * ratio)\n",
    "\n",
    "            #random string for unique name in our saved data\n",
    "            rnd_tag = ''.join(random.choices(string.ascii_uppercase + string.digits, k=5))\n",
    "\n",
    "            new_row = {}\n",
    "            #saves all extracted data to kv.  \n",
    "            new_row = {'c' + str(i).zfill(3): encoding[i] for i in range(128)}\n",
    "            if (name != 'unknown'): \n",
    "                new_row['label'] = label\n",
    "                new_row['fileName'] = name.replace(' ', '_') + '_' + rnd_tag\n",
    "            else:\n",
    "                new_row['label'] = -1\n",
    "                new_path = os.environ['DATA_PATH'] + 'label_pending/unknown_' + img_url.split('/')[-1] +'.jpg'\n",
    "                shutil.move(img_url, new_path)\n",
    "                img_url = new_path\n",
    "                new_row['fileName'] = 'unknown_' + rnd_tag\n",
    "            \n",
    "            new_row['imgUrl'] = img_url\n",
    "            new_row['camera'] = cam_name\n",
    "            new_row['time'] = datetime.datetime.utcnow()\n",
    "            new_row_df = pd.DataFrame(new_row, index=[0])\n",
    "            new_row_df = new_row_df.set_index('fileName')\n",
    "            print(new_row['fileName'])\n",
    "            client.write(backend='kv', table='iguazio/demos/demos/faces/artifacts/encodings', dfs=new_row_df) #, save_mode='createNewItemsOnly')\n",
    "\n",
    "            #appends box and name to the returned list            \n",
    "            ret_list.append(((top, right, bottom, left), name, max_p.item()))\n",
    "\n",
    "        return ret_list"
   ]
  },
  {
   "cell_type": "markdown",
   "metadata": {},
   "source": [
    "### Main function\n",
    "simply initializes the model class and invokes the predict method "
   ]
  },
  {
   "cell_type": "code",
   "execution_count": 12,
   "metadata": {},
   "outputs": [],
   "source": [
    "model = PytorchModel()\n",
    "\n",
    "def handler(context, event):\n",
    "    \n",
    "    return model.predict(context=context, data=event.body)"
   ]
  },
  {
   "cell_type": "code",
   "execution_count": null,
   "metadata": {},
   "outputs": [],
   "source": [
    "#nuclio: end-code"
   ]
  },
  {
   "cell_type": "markdown",
   "metadata": {},
   "source": [
    "### Set configuration for deployment"
   ]
  },
  {
   "cell_type": "code",
   "execution_count": 13,
   "metadata": {},
   "outputs": [
    {
     "data": {
      "text/plain": [
       "<mlrun.runtimes.function.RemoteRuntime at 0x7fbb0ce72860>"
      ]
     },
     "execution_count": 13,
     "metadata": {},
     "output_type": "execute_result"
    }
   ],
   "source": [
    "# converts the notebook code to deployable function with configurations\n",
    "from mlrun import code_to_function, mount_v3io\n",
    "fn = code_to_function('recognize-faces', runtime='nuclio')\n",
    "\n",
    "# set the API/trigger, attach the home dir to the function\n",
    "fn.with_http(workers=2).apply(mount_v3io())\n",
    "\n",
    "# set environment variables\n",
    "fn.set_env('MODELS_PATH', '/User/demos/demos/faces/models.py')\n",
    "fn.set_env('MODEL_PATH', '/User/demos/demos/faces/artifacts/model.bst')\n",
    "fn.set_env('CLASSES_MAP', '/User/demos/demos/faces/artifacts/idx2name.csv')\n",
    "fn.set_env('V3IO_ACCESS_KEY', os.environ['V3IO_ACCESS_KEY'])"
   ]
  },
  {
   "cell_type": "markdown",
   "metadata": {},
   "source": [
    "### Deploy the function to the cluster\n",
    "May take a few minutes due to building of image"
   ]
  },
  {
   "cell_type": "code",
   "execution_count": 14,
   "metadata": {},
   "outputs": [
    {
     "name": "stdout",
     "output_type": "stream",
     "text": [
      "[mlrun] 2020-02-23 14:37:14,011 deploy started\n",
      "[nuclio] 2020-02-23 14:37:15,079 (info) Building processor image\n",
      "[nuclio] 2020-02-23 14:37:20,126 (info) Build complete\n",
      "[nuclio] 2020-02-23 14:37:26,182 (info) Function deploy complete\n",
      "[nuclio] 2020-02-23 14:37:26,188 done updating recognize-faces, function address: 18.190.150.111:32760\n"
     ]
    }
   ],
   "source": [
    "addr = fn.deploy(project='default')"
   ]
  },
  {
   "cell_type": "code",
   "execution_count": null,
   "metadata": {},
   "outputs": [],
   "source": [
    "import nuclio_sdk\n",
    "import logging\n",
    "\n",
    "os.environ['MODEL_PATH']='/User/demos/demos/faces/artifacts/model.bst'\n",
    "os.environ['CLASSES_MAP']='/User/demos/demos/faces/artifacts/idx2name.csv'\n",
    "os.environ['MODELS_PATH']='/User/demos/demos/faces/models.py'\n",
    "os.environ['DATA_PATH']='/User/demos/demos/faces/dataset/'\n",
    "\n",
    "logger = logging.Logger('triggering')\n",
    "ctx = nuclio_sdk.Context(logger=logger)\n",
    "\n",
    "payload = {'file_path': 'pp.jpeg', 'time': '20191110131130', 'camera': 'cammy'}\n",
    "ev = nuclio_sdk.Event(body=payload)\n",
    "handler(ctx,ev)"
   ]
  },
  {
   "cell_type": "code",
   "execution_count": null,
   "metadata": {},
   "outputs": [],
   "source": []
  }
 ],
 "metadata": {
  "kernelspec": {
   "display_name": "Python 3",
   "language": "python",
   "name": "python3"
  },
  "language_info": {
   "codemirror_mode": {
    "name": "ipython",
    "version": 3
   },
   "file_extension": ".py",
   "mimetype": "text/x-python",
   "name": "python",
   "nbconvert_exporter": "python",
   "pygments_lexer": "ipython3",
   "version": "3.6.8"
  }
 },
 "nbformat": 4,
 "nbformat_minor": 4
}
