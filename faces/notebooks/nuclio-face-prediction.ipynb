{
 "cells": [
  {
   "cell_type": "markdown",
   "metadata": {},
   "source": [
    "# Face Recognition Model - Serving Function\n",
    "The function uses PyTorch classifier on top of an opencv deep learning model to encode and recognize faces in given image"
   ]
  },
  {
   "cell_type": "code",
   "execution_count": 4,
   "metadata": {},
   "outputs": [],
   "source": [
    "#nuclio: ignore\n",
    "import nuclio"
   ]
  },
  {
   "cell_type": "markdown",
   "metadata": {},
   "source": [
    "### Install dependencies and set config"
   ]
  },
  {
   "cell_type": "code",
   "execution_count": null,
   "metadata": {},
   "outputs": [],
   "source": [
    "%%nuclio cmd -c\n",
    "pip install opencv-contrib-python\n",
    "pip install imutils\n",
    "pip install torch torchvision\n",
    "pip install pandas\n",
    "pip install v3io_frames\n",
    "pip install mlrun\n",
    "pip install cmake\n",
    "pip install dlib\n",
    "pip install face_recognition"
   ]
  },
  {
   "cell_type": "code",
   "execution_count": null,
   "metadata": {},
   "outputs": [],
   "source": [
    "%nuclio config spec.build.baseImage = \"python:3.6-jessie\""
   ]
  },
  {
   "cell_type": "markdown",
   "metadata": {},
   "source": [
    "### Perform necessary imports"
   ]
  },
  {
   "cell_type": "code",
   "execution_count": 5,
   "metadata": {},
   "outputs": [],
   "source": [
    "import importlib.util\n",
    "import cv2\n",
    "import face_recognition\n",
    "import imutils\n",
    "import json\n",
    "import torch\n",
    "import torch.nn as nn\n",
    "import torch.nn.functional as F\n",
    "import numpy as np\n",
    "import pandas as pd\n",
    "import random\n",
    "import string\n",
    "import v3io_frames as v3f\n",
    "import os\n",
    "import datetime\n",
    "from pickle import load"
   ]
  },
  {
   "cell_type": "markdown",
   "metadata": {},
   "source": [
    "### Set function environment variables"
   ]
  },
  {
   "cell_type": "code",
   "execution_count": null,
   "metadata": {},
   "outputs": [],
   "source": [
    "%%nuclio env\n",
    "MODELS_PATH = /User/demos/demos/faces/models.py\n",
    "MODEL_PATH = /User/demos/demos/faces/artifacts/model.bst\n",
    "CLASSES_MAP = /User/demos/demos/faces/artifacts/idx2name.csv"
   ]
  },
  {
   "cell_type": "code",
   "execution_count": null,
   "metadata": {},
   "outputs": [],
   "source": [
    "%nuclio env V3IO_ACCESS_KEY=${V3IO_ACCESS_KEY}"
   ]
  },
  {
   "cell_type": "markdown",
   "metadata": {},
   "source": [
    "### Model serving class"
   ]
  },
  {
   "cell_type": "code",
   "execution_count": 6,
   "metadata": {},
   "outputs": [],
   "source": [
    "class PytorchModel(object):\n",
    "    def __init__(self):\n",
    "        self.name = 'model.bst'\n",
    "        self.model_filepath = os.environ['MODEL_PATH']\n",
    "        self.model = None\n",
    "        self.ready = None\n",
    "        self.classes = os.environ['CLASSES_MAP']\n",
    "        self.device = torch.device('cuda') if torch.cuda.is_available() else torch.device('cpu')\n",
    "    \n",
    "    def load(self):\n",
    "        input_dim = 128\n",
    "        hidden_dim = 64\n",
    "        output_dim = self.n_classes\n",
    "\n",
    "        spec = importlib.util.spec_from_file_location('models', os.environ['MODELS_PATH'])\n",
    "        models = importlib.util.module_from_spec(spec)\n",
    "        spec.loader.exec_module(models)\n",
    "\n",
    "        model = models.FeedForwardNeuralNetModel(input_dim, hidden_dim, output_dim)\n",
    "        model.to(torch.device('cuda'))\n",
    "        model = model.double()\n",
    "        model.__dict__['_modules'] = load(open(self.model_filepath, 'rb')) \n",
    "        self.model = model\n",
    "        self.ready = True\n",
    "    \n",
    "    def predict(self, context, data, confidence=0.8):\n",
    "        \n",
    "        # acquires all metadata \n",
    "        time = data['time']\n",
    "        cam_name = data['camera']\n",
    "        img_url = data['file_path']\n",
    "        \n",
    "        # prepares image for use\n",
    "        with open(img_url, 'rb') as f:\n",
    "            content = f.read()\n",
    "        img_bytes = np.frombuffer(content, dtype=np.uint8)\n",
    "        image = cv2.imdecode(img_bytes, flags=1)\n",
    "        \n",
    "        # converts image format to RGB for comptability with face_recognition library and resize for faster processing\n",
    "        rgb = cv2.cvtColor(image, cv2.COLOR_BGR2RGB)\n",
    "        rgb = imutils.resize(image, width=750)\n",
    "        ratio = image.shape[1] / float(rgb.shape[1])\n",
    "        \n",
    "        #gets mapping from label to name and known encodings\n",
    "        idx2name_df = pd.read_csv(self.classes).set_index('value')\n",
    "        self.n_classes = len(idx2name_df)\n",
    "        \n",
    "        if not self.model:\n",
    "            self.load()\n",
    "        \n",
    "        print(f'model params: {[p for p in self.model.parameters()]}')\n",
    "        \n",
    "        #locates faces in image and extracts embbeding vector for each face\n",
    "        context.logger.info('recognizing faces')\n",
    "        boxes = face_recognition.face_locations(rgb, model='hog')\n",
    "        encodings = face_recognition.face_encodings(rgb, boxes)\n",
    "        \n",
    "        #determines if face is a clear match/ambiguous.\n",
    "        names = []\n",
    "        labels = []\n",
    "        for encoding in encodings:\n",
    "            name = 'unknown'\n",
    "            label = 'unknown'\n",
    "            out = self.model(torch.tensor(encoding, device=self.device))\n",
    "            pred_n, pred_i = out.topk(1)\n",
    "            distrib = F.softmax(out, dim=0)\n",
    "            \n",
    "            max_p, max_i = distrib.topk(1)\n",
    "            if max_p.item() > confidence:\n",
    "                label = pred_i\n",
    "                name = idx2name_df.loc[label]['name'].values[0].replace('_', ' ')\n",
    "            names.append(name)\n",
    "            labels.append(label)\n",
    "            print(name)\n",
    "        #frames client to save necessary data\n",
    "        client = v3f.Client(\"framesd:8081\", container=\"users\")\n",
    "\n",
    "        #draw boxes with name on the image and performs logic according to match/ambiguous \n",
    "        ret_list = []\n",
    "        for ((top, right, bottom, left), name, encoding, label) in zip(boxes, names, encodings, labels):  \n",
    "\n",
    "            #rescale the face coordinates\n",
    "            top = int(top * ratio)\n",
    "            right = int(right * ratio)\n",
    "            bottom = int(bottom * ratio)\n",
    "            left = int(left * ratio)\n",
    "\n",
    "            #random string for unique name in our saved data\n",
    "            rnd_tag = ''.join(random.choices(string.ascii_uppercase + string.digits, k=5))\n",
    "\n",
    "            new_row = {}\n",
    "            #saves all extracted data to kv.  \n",
    "            new_row = {'c' + str(i).zfill(3): encoding[i] for i in range(128)}\n",
    "            if (name != 'unknown'): \n",
    "                new_row['label'] = label\n",
    "            else:\n",
    "                new_row['label'] = -1\n",
    "            new_row['imgUrl'] = img_url\n",
    "            new_row['fileName'] = name.replace(' ', '_') + '_' + rnd_tag\n",
    "            new_row['camera'] = cam_name\n",
    "            new_row['time'] = datetime.datetime.utcnow()\n",
    "            new_row_df = pd.DataFrame(new_row, index=[0])\n",
    "            new_row_df = new_row_df.set_index('fileName')\n",
    "            print(new_row['fileName'])\n",
    "            display(new_row_df)\n",
    "            client.write(backend='kv', table='iguazio/demos/demos/faces/artifacts/encodings', dfs=new_row_df, save_mode='createNewItemsOnly')\n",
    "\n",
    "            #appends box and name to the returned list            \n",
    "            ret_list.append(((top, right, bottom, left), name, max_p.item()))\n",
    "\n",
    "        return ret_list"
   ]
  },
  {
   "cell_type": "markdown",
   "metadata": {},
   "source": [
    "### Main function\n",
    "simply initializes the model class and invokes the predict method "
   ]
  },
  {
   "cell_type": "code",
   "execution_count": 7,
   "metadata": {},
   "outputs": [],
   "source": [
    "def handler(context, event):\n",
    "    model = PytorchModel()\n",
    "    return model.predict(context=context, data=event.body)"
   ]
  },
  {
   "cell_type": "code",
   "execution_count": null,
   "metadata": {},
   "outputs": [],
   "source": [
    "#nuclio: end-code"
   ]
  },
  {
   "cell_type": "markdown",
   "metadata": {},
   "source": [
    "### Set configuration for deployment"
   ]
  },
  {
   "cell_type": "code",
   "execution_count": 9,
   "metadata": {},
   "outputs": [
    {
     "data": {
      "text/plain": [
       "<mlrun.runtimes.function.RemoteRuntime at 0x7fb159761080>"
      ]
     },
     "execution_count": 9,
     "metadata": {},
     "output_type": "execute_result"
    }
   ],
   "source": [
    "# converts the notebook code to deployable function with configurations\n",
    "from mlrun import code_to_function, mount_v3io, new_model_server\n",
    "serving_function = new_model_server('recognize-faces',\n",
    "                                    filename='./nuclio-face-prediction.ipynb',\n",
    "                                    model_class='PytorchModel')\n",
    "\n",
    "serving_function.set_env('MODELS_PATH', '/User/demos/demos/faces/models.py')\n",
    "serving_function.set_env('MODEL_PATH', '/User/demos/demos/faces/artifacts/model.bst')\n",
    "serving_function.set_env('CLASSES_MAP', '/User/demos/demos/faces/artifacts/idx2name.csv')\n",
    "serving_function.set_env('V3IO_ACCESS_KEY', os.environ['V3IO_ACCESS_KEY'])\n",
    "\n",
    "# set the API/trigger, attach the home dir to the function\n",
    "serving_function.with_http(workers=2).apply(mount_v3io())"
   ]
  },
  {
   "cell_type": "markdown",
   "metadata": {},
   "source": [
    "### Deploy the function to the cluster\n",
    "May take a few minutes due to building of image"
   ]
  },
  {
   "cell_type": "code",
   "execution_count": 10,
   "metadata": {},
   "outputs": [
    {
     "name": "stdout",
     "output_type": "stream",
     "text": [
      "[mlrun] 2020-01-16 14:49:42,482 deploy started\n",
      "[nuclio] 2020-01-16 14:49:44,257 (info) Building processor image\n",
      "[nuclio] 2020-01-16 14:49:50,314 (info) Build complete\n",
      "[nuclio] 2020-01-16 14:50:51,577 (error) Failed to deploy. Details:\n",
      "\n",
      "Error - NuclioFunction in error state (\n",
      "Error - context deadline exceeded\n",
      "    .../platform/kube/controller/nucliofunction.go:122\n",
      "\n",
      "Call stack:\n",
      "Failed to wait for function resources to be available\n",
      "    .../platform/kube/controller/nucliofunction.go:122\n",
      ")\n",
      "    .../nuclio/nuclio/pkg/platform/kube/deployer.go:197\n",
      "\n",
      "Call stack:\n",
      "NuclioFunction in error state (\n",
      "Error - context deadline exceeded\n",
      "    .../platform/kube/controller/nucliofunction.go:122\n",
      "\n",
      "Call stack:\n",
      "Failed to wait for function resources to be available\n",
      "    .../platform/kube/controller/nucliofunction.go:122\n",
      ")\n",
      "    .../nuclio/nuclio/pkg/platform/kube/deployer.go:197\n",
      "Failed to wait for function readiness.\n",
      "\n",
      "Pod logs:\n",
      "\n",
      "* recognize-faces-548f58c45f-z928n\n",
      "{\"level\":\"debug\",\"time\":\"2020-01-16T08:39:24.467Z\",\"name\":\"processor\",\"message\":\"Read configuration\",\"more\":\"config=&{Config:{Meta:{Name:recognize-faces Namespace:default-tenant Labels:map[] Annotations:map[nuclio.io/generated_by:function generated at 16-01-2020 by iguazio from ./nuclio-face-prediction.ipynb]} Spec:{Description: Disabled:false Publish:false Handler:nuclio-face-prediction:handler Runtime:python:3.6 Env:[{Name:MODELS_PATH Value:/User/demos/demos/faces/models.py ValueFrom:nil} {Name:MODEL_PATH Value:/User/demos/demos/faces/artifacts/model.bst ValueFrom:nil} {Name:CLASSES_MAP Value:/User/demos/demos/faces/artifacts/idx2name.csv ValueFrom:nil} {Name:V3IO_ACCESS_KEY Value:5a7e46f5-20fa-4a59-88b8-f29abf3e6591 ValueFrom:nil} {Name:V3IO_API Value:v3io-webapi.default-tenant.svc:8081 ValueFrom:nil} {Name:V3IO_USERNAME Value:iguazio ValueFrom:nil} {Name:SERVING_MODEL_face_rec_v1 Value:/User/demos/demos/faces/artifacts ValueFrom:nil}] Resources:{Limits:map[] Requests:map[]} Image:docker-registry.default-tenant.app.app-lab-aws-3.iguazio-cd2.com:80/nuclio/processor-recognize-faces:latest ImageHash:1579163556508341874 Replicas:<nil> MinReplicas:<nil> MaxReplicas:<nil> TargetCPU:0 DataBindings:map[] Triggers:map[http:{Class: Kind:http Disabled:false MaxWorkers:2 URL: Paths:[] Username: Password: Secret: Partitions:[] Annotations:map[] WorkerAvailabilityTimeoutMilliseconds:0 WorkerAllocatorName: TotalTasks:0 MaxTaskAllocation:0 Attributes:map[ingresses:map[]]}] Volumes:[{Volume:{Name:v3io VolumeSource:{HostPath:nil EmptyDir:nil GCEPersistentDisk:nil AWSElasticBlockStore:nil GitRepo:nil Secret:nil NFS:nil ISCSI:nil Glusterfs:nil PersistentVolumeClaim:nil RBD:nil FlexVolume:&FlexVolumeSource{Driver:v3io/fuse,FSType:,SecretRef:nil,ReadOnly:false,Options:map[string]string{accessKey: 5a7e46f5-20fa-4a59-88b8-f29abf3e6591,container: users,subPath: /iguazio,},} Cinder:nil CephFS:nil Flocker:nil DownwardAPI:nil FC:nil AzureFile:nil ConfigMap:nil VsphereVolume:nil Quobyte:nil AzureDisk:nil PhotonPersistentDisk:nil Projected:nil PortworxVolume:nil ScaleIO:nil StorageOS:nil}} VolumeMount:{Name:v3io ReadOnly:false MountPath:/User SubPath: MountPropagation:<nil>}}] Version:-1 Alias:latest Build:{Path: FunctionSourceCode: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 FunctionConfigPath: TempDir: Registry:docker-registry.default-tenant.app.app-lab-aws-3.iguazio-cd2.com:80 Image: NoBaseImagesPull:true NoCache:false NoCleanup:false BaseImage:python:3.6-jessie Commands:[pip install opencv-contrib-python pip install imutils pip install torch torchvision pip install pandas pip install v3io_frames pip install mlrun pip install cmake pip install dlib pip install face_recognition] Directives:map[] ScriptPaths:[] AddedObjectPaths:map[] Dependencies:[] OnbuildImage: Offline:true RuntimeAttributes:map[] CodeEntryType:sourceCode CodeEntryAttributes:map[] Timestamp:1579163962 Mode:} RunRegistry:docker-registry.default-tenant.app.app-lab-aws-3.iguazio-cd2.com:80 RuntimeAttributes:map[] LoggerSinks:[] DealerURI: Platform:{Attributes:map[]} ReadinessTimeoutSeconds:0 Avatar: ServiceType:NodePort ImagePullPolicy: ServiceAccount: EventTimeout:}} PlatformConfig:<nil>} || platformConfig=&{Kind:kube WebAdmin:{Enabled:<nil> ListenAddress:} HealthCheck:{Enabled:<nil> ListenAddress:} Logger:{Sinks:map[myStdoutLoggerSink:{Kind:stdout URL: Attributes:map[timeFieldName:time varGroupName:more encoding:json timeFieldEncoding:iso8601]}] System:[{Level:debug Sink:myStdoutLoggerSink}] Functions:[{Level:debug Sink:myStdoutLoggerSink}]} Metrics:{Sinks:map[myPrometheusPull:{Enabled:<nil> Kind:prometheusPull URL: Attributes:map[]}] System:[myPrometheusPull] Functions:[myPrometheusPull]} ScaleToZero:{MetricName:nuclio_processor_handled_events_total WindowSize:10m PollerInterval:10s ScalerInterval:1m} AutoScale:{MetricName: TargetValue:20} FunctionAugmentedConfigs:[]}\"}{\"level\":\"debug\",\"time\":\"2020-01-16T08:39:24.467Z\",\"name\":\"processor.http\",\"message\":\"Creating worker pool\",\"more\":\"num=2\"}{\"level\":\"debug\",\"time\":\"2020-01-16T08:39:24.467Z\",\"name\":\"processor.http.w1.python.logger\",\"message\":\"Creating listener socket\",\"more\":\"path=/tmp/nuclio-rpc-bog22f71creg00epprpg.sock\"}{\"level\":\"debug\",\"time\":\"2020-01-16T08:39:24.467Z\",\"name\":\"processor.http.w0.python.logger\",\"message\":\"Creating listener socket\",\"more\":\"path=/tmp/nuclio-rpc-bog22f71creg00epprq0.sock\"}{\"level\":\"debug\",\"time\":\"2020-01-16T08:39:24.468Z\",\"name\":\"processor.http.w1.python.logger\",\"message\":\"Using Python wrapper script path\",\"more\":\"path=/opt/nuclio/_nuclio_wrapper.py\"}{\"level\":\"debug\",\"time\":\"2020-01-16T08:39:24.468Z\",\"name\":\"processor.http.w1.python.logger\",\"message\":\"Using Python handler\",\"more\":\"handler=nuclio-face-prediction:handler\"}{\"level\":\"debug\",\"time\":\"2020-01-16T08:39:24.468Z\",\"name\":\"processor.http.w0.python.logger\",\"message\":\"Using Python wrapper script path\",\"more\":\"path=/opt/nuclio/_nuclio_wrapper.py\"}{\"level\":\"debug\",\"time\":\"2020-01-16T08:39:24.468Z\",\"name\":\"processor.http.w0.python.logger\",\"message\":\"Using Python handler\",\"more\":\"handler=nuclio-face-prediction:handler\"}{\"level\":\"debug\",\"time\":\"2020-01-16T08:39:24.468Z\",\"name\":\"processor.http.w1.python.logger\",\"message\":\"Using Python executable\",\"more\":\"path=/usr/local/bin/python3\"}{\"level\":\"debug\",\"time\":\"2020-01-16T08:39:24.468Z\",\"name\":\"processor.http.w0.python.logger\",\"message\":\"Using Python executable\",\"more\":\"path=/usr/local/bin/python3\"}{\"level\":\"debug\",\"time\":\"2020-01-16T08:39:24.468Z\",\"name\":\"processor.http.w1.python.logger\",\"message\":\"Setting PYTHONPATH\",\"more\":\"value=PYTHONPATH=/opt/nuclio\"}{\"level\":\"debug\",\"time\":\"2020-01-16T08:39:24.468Z\",\"name\":\"processor.http.w0.python.logger\",\"message\":\"Setting PYTHONPATH\",\"more\":\"value=PYTHONPATH=/opt/nuclio\"}{\"level\":\"debug\",\"time\":\"2020-01-16T08:39:24.468Z\",\"name\":\"processor.http.w1.python.logger\",\"message\":\"Running wrapper\",\"more\":\"command=/usr/local/bin/python3 -u /opt/nuclio/_nuclio_wrapper.py --handler nuclio-face-prediction:handler --socket-path /tmp/nuclio-rpc-bog22f71creg00epprpg.sock --platform-kind kube --namespace default-tenant --worker-id 1 --trigger-name \"}{\"level\":\"debug\",\"time\":\"2020-01-16T08:39:24.468Z\",\"name\":\"processor.http.w0.python.logger\",\"message\":\"Running wrapper\",\"more\":\"command=/usr/local/bin/python3 -u /opt/nuclio/_nuclio_wrapper.py --handler nuclio-face-prediction:handler --socket-path /tmp/nuclio-rpc-bog22f71creg00epprq0.sock --platform-kind kube --namespace default-tenant --worker-id 0 --trigger-name \"}{\"level\":\"info\",\"time\":\"2020-01-16T08:39:26.884Z\",\"name\":\"processor.http.w1.python.logger\",\"message\":\"Wrapper connected\"}{\"level\":\"debug\",\"time\":\"2020-01-16T08:39:26.884Z\",\"name\":\"processor.http.w1.python.logger\",\"message\":\"Waiting for start\"}{\"level\":\"info\",\"time\":\"2020-01-16T08:39:26.884Z\",\"name\":\"processor.http.w0.python.logger\",\"message\":\"Wrapper connected\"}{\"level\":\"debug\",\"time\":\"2020-01-16T08:39:26.884Z\",\"name\":\"processor.http.w0.python.logger\",\"message\":\"Waiting for start\"}Python> 2020-01-16 08:39:26,884 [info] Replacing logger outputPython> 2020-01-16 08:39:26,884 [info] Replacing logger output{\"level\":\"debug\",\"time\":\"2020-01-16T08:39:26.884Z\",\"name\":\"processor.http.w1.python.logger\",\"message\":\"Started\"}{\"level\":\"debug\",\"time\":\"2020-01-16T08:39:26.884Z\",\"name\":\"processor.http.w0.python.logger\",\"message\":\"Started\"}{\"level\":\"debug\",\"time\":\"2020-01-16T08:39:26.885Z\",\"name\":\"processor.webadmin.server.triggers\",\"message\":\"Registered custom route\",\"more\":\"pattern=/{id}/stats || method=GET\"}{\"level\":\"debug\",\"time\":\"2020-01-16T08:39:26.885Z\",\"name\":\"processor.webadmin.server\",\"message\":\"Registered resource\",\"more\":\"name=triggers\"}{\"level\":\"info\",\"time\":\"2020-01-16T08:39:26.885Z\",\"name\":\"processor.prompull.myPrometheusPull\",\"message\":\"Created\",\"more\":\"env=recognize-faces-548f58c45f-z928n || instanceName=recognize-faces-548f58c45f-z928n || listenAddr=:8090\"}{\"level\":\"debug\",\"time\":\"2020-01-16T08:39:26.885Z\",\"name\":\"processor\",\"message\":\"Starting\"}{\"level\":\"info\",\"time\":\"2020-01-16T08:39:26.885Z\",\"name\":\"processor.healthcheck.server\",\"message\":\"Listening\",\"more\":\"listenAddress=:8082\"}{\"level\":\"info\",\"time\":\"2020-01-16T08:39:26.885Z\",\"name\":\"processor.http\",\"message\":\"Starting\",\"more\":\"listenAddress=:8080 || readBufferSize=4096\"}{\"level\":\"info\",\"time\":\"2020-01-16T08:39:26.885Z\",\"name\":\"processor.webadmin.server\",\"message\":\"Listening\",\"more\":\"listenAddress=:8081\"}{\"level\":\"debug\",\"time\":\"2020-01-16T08:39:26.885Z\",\"name\":\"processor.prompull.myPrometheusPull\",\"message\":\"Listening\",\"more\":\"addr=:8090\"}\n",
      "* recognize-faces-d476d645b-ddzlf\n",
      "{\"level\":\"debug\",\"time\":\"2020-01-16T14:50:41.031Z\",\"name\":\"processor\",\"message\":\"Read configuration\",\"more\":\"config=&{Config:{Meta:{Name:recognize-faces Namespace:default-tenant Labels:map[] Annotations:map[nuclio.io/generated_by:function generated at 16-01-2020 by iguazio from ./nuclio-face-prediction.ipynb]} Spec:{Description: Disabled:false Publish:false Handler:nuclio-face-prediction:handler Runtime:python:3.6 Env:[{Name:MODELS_PATH Value:/User/demos/demos/faces/models.py ValueFrom:nil} {Name:MODEL_PATH Value:/User/demos/demos/faces/artifacts/model.bst ValueFrom:nil} {Name:CLASSES_MAP Value:/User/demos/demos/faces/artifacts/idx2name.csv ValueFrom:nil} {Name:V3IO_ACCESS_KEY Value:5a7e46f5-20fa-4a59-88b8-f29abf3e6591 ValueFrom:nil} {Name:TRANSPORT_PROTOCOL Value:seldon ValueFrom:nil} {Name:ENABLE_EXPLAINER Value:False ValueFrom:nil} {Name:MODEL_CLASS Value:PytorchModel ValueFrom:nil} {Name:V3IO_API Value:v3io-webapi.default-tenant.svc:8081 ValueFrom:nil} {Name:V3IO_USERNAME Value:iguazio ValueFrom:nil}] Resources:{Limits:map[] Requests:map[]} Image:docker-registry.default-tenant.app.app-lab-aws-3.iguazio-cd2.com:80/nuclio/processor-recognize-faces:latest ImageHash:1579186183160672417 Replicas:<nil> MinReplicas:<nil> MaxReplicas:<nil> TargetCPU:0 DataBindings:map[] Triggers:map[http:{Class: Kind:http Disabled:false MaxWorkers:2 URL: Paths:[] Username: Password: Secret: Partitions:[] Annotations:map[] WorkerAvailabilityTimeoutMilliseconds:0 WorkerAllocatorName: TotalTasks:0 MaxTaskAllocation:0 Attributes:map[ingresses:map[]]}] Volumes:[{Volume:{Name:v3io VolumeSource:{HostPath:nil EmptyDir:nil GCEPersistentDisk:nil AWSElasticBlockStore:nil GitRepo:nil Secret:nil NFS:nil ISCSI:nil Glusterfs:nil PersistentVolumeClaim:nil RBD:nil FlexVolume:&FlexVolumeSource{Driver:v3io/fuse,FSType:,SecretRef:nil,ReadOnly:false,Options:map[string]string{accessKey: 5a7e46f5-20fa-4a59-88b8-f29abf3e6591,container: users,subPath: /iguazio,},} Cinder:nil CephFS:nil Flocker:nil DownwardAPI:nil FC:nil AzureFile:nil ConfigMap:nil VsphereVolume:nil Quobyte:nil AzureDisk:nil PhotonPersistentDisk:nil Projected:nil PortworxVolume:nil ScaleIO:nil StorageOS:nil}} VolumeMount:{Name:v3io ReadOnly:false MountPath:/User SubPath: MountPropagation:<nil>}}] Version:-1 Alias:latest Build:{Path: FunctionSourceCode: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 FunctionConfigPath: TempDir: Registry:docker-registry.default-tenant.app.app-lab-aws-3.iguazio-cd2.com:80 Image: NoBaseImagesPull:true NoCache:false NoCleanup:false BaseImage:python:3.6-jessie Commands:[pip install opencv-contrib-python pip install imutils pip install torch torchvision pip install pandas pip install v3io_frames pip install mlrun pip install cmake pip install dlib pip install face_recognition] Directives:map[] ScriptPaths:[] AddedObjectPaths:map[] Dependencies:[] OnbuildImage: Offline:true RuntimeAttributes:map[] CodeEntryType:sourceCode CodeEntryAttributes:map[] Timestamp:1579186189 Mode:} RunRegistry:docker-registry.default-tenant.app.app-lab-aws-3.iguazio-cd2.com:80 RuntimeAttributes:map[] LoggerSinks:[] DealerURI: Platform:{Attributes:map[]} ReadinessTimeoutSeconds:0 Avatar: ServiceType:NodePort ImagePullPolicy: ServiceAccount: EventTimeout:}} PlatformConfig:<nil>} || platformConfig=&{Kind:kube WebAdmin:{Enabled:<nil> ListenAddress:} HealthCheck:{Enabled:<nil> ListenAddress:} Logger:{Sinks:map[myStdoutLoggerSink:{Kind:stdout URL: Attributes:map[timeFieldEncoding:iso8601 timeFieldName:time varGroupName:more encoding:json]}] System:[{Level:debug Sink:myStdoutLoggerSink}] Functions:[{Level:debug Sink:myStdoutLoggerSink}]} Metrics:{Sinks:map[myPrometheusPull:{Enabled:<nil> Kind:prometheusPull URL: Attributes:map[]}] System:[myPrometheusPull] Functions:[myPrometheusPull]} ScaleToZero:{MetricName:nuclio_processor_handled_events_total WindowSize:10m PollerInterval:10s ScalerInterval:1m} AutoScale:{MetricName: TargetValue:20} FunctionAugmentedConfigs:[]}\"}{\"level\":\"debug\",\"time\":\"2020-01-16T14:50:41.031Z\",\"name\":\"processor.http\",\"message\":\"Creating worker pool\",\"more\":\"num=2\"}{\"level\":\"debug\",\"time\":\"2020-01-16T14:50:41.031Z\",\"name\":\"processor.http.w1.python.logger\",\"message\":\"Creating listener socket\",\"more\":\"path=/tmp/nuclio-rpc-bog7ggf61ccg0085nvu0.sock\"}{\"level\":\"debug\",\"time\":\"2020-01-16T14:50:41.031Z\",\"name\":\"processor.http.w0.python.logger\",\"message\":\"Creating listener socket\",\"more\":\"path=/tmp/nuclio-rpc-bog7ggf61ccg0085nvug.sock\"}{\"level\":\"debug\",\"time\":\"2020-01-16T14:50:41.031Z\",\"name\":\"processor.http.w1.python.logger\",\"message\":\"Using Python wrapper script path\",\"more\":\"path=/opt/nuclio/_nuclio_wrapper.py\"}{\"level\":\"debug\",\"time\":\"2020-01-16T14:50:41.032Z\",\"name\":\"processor.http.w1.python.logger\",\"message\":\"Using Python handler\",\"more\":\"handler=nuclio-face-prediction:handler\"}{\"level\":\"debug\",\"time\":\"2020-01-16T14:50:41.032Z\",\"name\":\"processor.http.w0.python.logger\",\"message\":\"Using Python wrapper script path\",\"more\":\"path=/opt/nuclio/_nuclio_wrapper.py\"}{\"level\":\"debug\",\"time\":\"2020-01-16T14:50:41.032Z\",\"name\":\"processor.http.w0.python.logger\",\"message\":\"Using Python handler\",\"more\":\"handler=nuclio-face-prediction:handler\"}{\"level\":\"debug\",\"time\":\"2020-01-16T14:50:41.032Z\",\"name\":\"processor.http.w1.python.logger\",\"message\":\"Using Python executable\",\"more\":\"path=/usr/local/bin/python3\"}{\"level\":\"debug\",\"time\":\"2020-01-16T14:50:41.032Z\",\"name\":\"processor.http.w0.python.logger\",\"message\":\"Using Python executable\",\"more\":\"path=/usr/local/bin/python3\"}{\"level\":\"debug\",\"time\":\"2020-01-16T14:50:41.032Z\",\"name\":\"processor.http.w1.python.logger\",\"message\":\"Setting PYTHONPATH\",\"more\":\"value=PYTHONPATH=/opt/nuclio\"}{\"level\":\"debug\",\"time\":\"2020-01-16T14:50:41.032Z\",\"name\":\"processor.http.w0.python.logger\",\"message\":\"Setting PYTHONPATH\",\"more\":\"value=PYTHONPATH=/opt/nuclio\"}{\"level\":\"debug\",\"time\":\"2020-01-16T14:50:41.032Z\",\"name\":\"processor.http.w1.python.logger\",\"message\":\"Running wrapper\",\"more\":\"command=/usr/local/bin/python3 -u /opt/nuclio/_nuclio_wrapper.py --handler nuclio-face-prediction:handler --socket-path /tmp/nuclio-rpc-bog7ggf61ccg0085nvu0.sock --platform-kind kube --namespace default-tenant --worker-id 1 --trigger-name \"}{\"level\":\"debug\",\"time\":\"2020-01-16T14:50:41.032Z\",\"name\":\"processor.http.w0.python.logger\",\"message\":\"Running wrapper\",\"more\":\"command=/usr/local/bin/python3 -u /opt/nuclio/_nuclio_wrapper.py --handler nuclio-face-prediction:handler --socket-path /tmp/nuclio-rpc-bog7ggf61ccg0085nvug.sock --platform-kind kube --namespace default-tenant --worker-id 0 --trigger-name \"}{\"level\":\"info\",\"time\":\"2020-01-16T14:50:44.383Z\",\"name\":\"processor.http.w1.python.logger\",\"message\":\"Wrapper connected\"}{\"level\":\"debug\",\"time\":\"2020-01-16T14:50:44.383Z\",\"name\":\"processor.http.w1.python.logger\",\"message\":\"Waiting for start\"}Python> 2020-01-16 14:50:44,383 [info] Replacing logger output{\"level\":\"info\",\"time\":\"2020-01-16T14:50:44.384Z\",\"name\":\"processor.http.w0.python.logger\",\"message\":\"Wrapper connected\"}{\"level\":\"debug\",\"time\":\"2020-01-16T14:50:44.384Z\",\"name\":\"processor.http.w0.python.logger\",\"message\":\"Waiting for start\"}Python> 2020-01-16 14:50:44,384 [info] Replacing logger output{\"level\":\"warn\",\"time\":\"2020-01-16T14:50:44.385Z\",\"name\":\"processor.http.w1.python.logger\",\"message\":\"Caught unhandled exception while initializing\",\"err\":\"No models were loaded!\\n Please load a model by using the environment variable SERVING_MODEL_{model_name} = model_path\",\"traceback\":\"Traceback (most recent call last):\\n  File \\\"/opt/nuclio/_nuclio_wrapper.py\\\", line 314, in run_wrapper\\n    args.trigger_name)\\n  File \\\"/opt/nuclio/_nuclio_wrapper.py\\\", line 71, in __init__\\n    getattr(entrypoint_module, 'init_context')(self._context)\\n  File \\\"/opt/nuclio/nuclio-face-prediction.py\\\", line 127, in init_context\\n    nuclio_init_hook(context, globals(), 'serving')\\n  File \\\"/usr/local/lib/python3.6/site-packages/mlrun/runtimes/nuclio.py\\\", line 27, in nuclio_init_hook\\n    nuclio_serving_init(context, data)\\n  File \\\"/usr/local/lib/python3.6/site-packages/mlrun/runtimes/serving.py\\\", line 36, in nuclio_serving_init\\n    models) > 0, \\\"No models were loaded!\\\\n Please load a model by using the environment variable SERVING_MODEL_{model_name} = model_path\\\"\\nAssertionError: No models were loaded!\\n Please load a model by using the environment variable SERVING_MODEL_{model_name} = model_path\\n\"}{\"level\":\"warn\",\"time\":\"2020-01-16T14:50:44.385Z\",\"name\":\"processor.http.w0.python.logger\",\"message\":\"Caught unhandled exception while initializing\",\"err\":\"No models were loaded!\\n Please load a model by using the environment variable SERVING_MODEL_{model_name} = model_path\",\"traceback\":\"Traceback (most recent call last):\\n  File \\\"/opt/nuclio/_nuclio_wrapper.py\\\", line 314, in run_wrapper\\n    args.trigger_name)\\n  File \\\"/opt/nuclio/_nuclio_wrapper.py\\\", line 71, in __init__\\n    getattr(entrypoint_module, 'init_context')(self._context)\\n  File \\\"/opt/nuclio/nuclio-face-prediction.py\\\", line 127, in init_context\\n    nuclio_init_hook(context, globals(), 'serving')\\n  File \\\"/usr/local/lib/python3.6/site-packages/mlrun/runtimes/nuclio.py\\\", line 27, in nuclio_init_hook\\n    nuclio_serving_init(context, data)\\n  File \\\"/usr/local/lib/python3.6/site-packages/mlrun/runtimes/serving.py\\\", line 36, in nuclio_serving_init\\n    models) > 0, \\\"No models were loaded!\\\\n Please load a model by using the environment variable SERVING_MODEL_{model_name} = model_path\\\"\\nAssertionError: No models were loaded!\\n Please load a model by using the environment variable SERVING_MODEL_{model_name} = model_path\\n\"}{\"level\":\"warn\",\"time\":\"2020-01-16T14:50:44.708Z\",\"name\":\"processor.http.w1.python.logger\",\"message\":\"Failed to read from connection\",\"err\":\"EOF\"}{\"level\":\"warn\",\"time\":\"2020-01-16T14:50:44.708Z\",\"name\":\"processor.http.w0.python.logger\",\"message\":\"Failed to read from connection\",\"err\":\"EOF\"}\n",
      "    .../nuclio/nuclio/pkg/platform/kube/deployer.go:169\n",
      "\n"
     ]
    },
    {
     "ename": "DeployError",
     "evalue": "cannot deploy ",
     "output_type": "error",
     "traceback": [
      "\u001b[0;31m---------------------------------------------------------------------------\u001b[0m",
      "\u001b[0;31mDeployError\u001b[0m                               Traceback (most recent call last)",
      "\u001b[0;32m<ipython-input-10-c2c0cb1b068e>\u001b[0m in \u001b[0;36m<module>\u001b[0;34m\u001b[0m\n\u001b[0;32m----> 1\u001b[0;31m \u001b[0maddr\u001b[0m \u001b[0;34m=\u001b[0m \u001b[0mserving_function\u001b[0m\u001b[0;34m.\u001b[0m\u001b[0mdeploy\u001b[0m\u001b[0;34m(\u001b[0m\u001b[0mproject\u001b[0m\u001b[0;34m=\u001b[0m\u001b[0;34m'default'\u001b[0m\u001b[0;34m)\u001b[0m\u001b[0;34m\u001b[0m\u001b[0;34m\u001b[0m\u001b[0m\n\u001b[0m",
      "\u001b[0;32m~/.pythonlibs/lib/python3.6/site-packages/mlrun/runtimes/function.py\u001b[0m in \u001b[0;36mdeploy\u001b[0;34m(self, dashboard, project, tag, kind)\u001b[0m\n\u001b[1;32m    232\u001b[0m                 \u001b[0mconfig\u001b[0m\u001b[0;34m,\u001b[0m \u001b[0mdashboard\u001b[0m\u001b[0;34m,\u001b[0m \u001b[0mname\u001b[0m\u001b[0;34m=\u001b[0m\u001b[0mself\u001b[0m\u001b[0;34m.\u001b[0m\u001b[0mmetadata\u001b[0m\u001b[0;34m.\u001b[0m\u001b[0mname\u001b[0m\u001b[0;34m,\u001b[0m\u001b[0;34m\u001b[0m\u001b[0;34m\u001b[0m\u001b[0m\n\u001b[1;32m    233\u001b[0m                 \u001b[0mproject\u001b[0m\u001b[0;34m=\u001b[0m\u001b[0mproject\u001b[0m\u001b[0;34m,\u001b[0m \u001b[0mtag\u001b[0m\u001b[0;34m=\u001b[0m\u001b[0mtag\u001b[0m\u001b[0;34m,\u001b[0m \u001b[0mverbose\u001b[0m\u001b[0;34m=\u001b[0m\u001b[0mself\u001b[0m\u001b[0;34m.\u001b[0m\u001b[0mverbose\u001b[0m\u001b[0;34m,\u001b[0m\u001b[0;34m\u001b[0m\u001b[0;34m\u001b[0m\u001b[0m\n\u001b[0;32m--> 234\u001b[0;31m                 create_new=True)\n\u001b[0m\u001b[1;32m    235\u001b[0m         \u001b[0;32melse\u001b[0m\u001b[0;34m:\u001b[0m\u001b[0;34m\u001b[0m\u001b[0;34m\u001b[0m\u001b[0m\n\u001b[1;32m    236\u001b[0m \u001b[0;34m\u001b[0m\u001b[0m\n",
      "\u001b[0;32m~/.pythonlibs/lib/python3.6/site-packages/nuclio/deploy.py\u001b[0m in \u001b[0;36mdeploy_config\u001b[0;34m(config, dashboard_url, name, project, tag, verbose, create_new)\u001b[0m\n\u001b[1;32m    257\u001b[0m     \u001b[0;32mif\u001b[0m \u001b[0mstate\u001b[0m \u001b[0;34m!=\u001b[0m \u001b[0;34m'ready'\u001b[0m\u001b[0;34m:\u001b[0m\u001b[0;34m\u001b[0m\u001b[0;34m\u001b[0m\u001b[0m\n\u001b[1;32m    258\u001b[0m         \u001b[0mlog\u001b[0m\u001b[0;34m(\u001b[0m\u001b[0;34m'ERROR: {}'\u001b[0m\u001b[0;34m.\u001b[0m\u001b[0mformat\u001b[0m\u001b[0;34m(\u001b[0m\u001b[0mresp\u001b[0m\u001b[0;34m.\u001b[0m\u001b[0mtext\u001b[0m\u001b[0;34m)\u001b[0m\u001b[0;34m)\u001b[0m\u001b[0;34m\u001b[0m\u001b[0;34m\u001b[0m\u001b[0m\n\u001b[0;32m--> 259\u001b[0;31m         \u001b[0;32mraise\u001b[0m \u001b[0mDeployError\u001b[0m\u001b[0;34m(\u001b[0m\u001b[0;34m'cannot deploy '\u001b[0m \u001b[0;34m+\u001b[0m \u001b[0mresp\u001b[0m\u001b[0;34m.\u001b[0m\u001b[0mtext\u001b[0m\u001b[0;34m)\u001b[0m\u001b[0;34m\u001b[0m\u001b[0;34m\u001b[0m\u001b[0m\n\u001b[0m\u001b[1;32m    260\u001b[0m \u001b[0;34m\u001b[0m\u001b[0m\n\u001b[1;32m    261\u001b[0m     \u001b[0mlogger\u001b[0m\u001b[0;34m.\u001b[0m\u001b[0minfo\u001b[0m\u001b[0;34m(\u001b[0m\u001b[0;34m'done %s %s, function address: %s'\u001b[0m\u001b[0;34m,\u001b[0m \u001b[0mverb\u001b[0m\u001b[0;34m,\u001b[0m \u001b[0mname\u001b[0m\u001b[0;34m,\u001b[0m \u001b[0maddress\u001b[0m\u001b[0;34m)\u001b[0m\u001b[0;34m\u001b[0m\u001b[0;34m\u001b[0m\u001b[0m\n",
      "\u001b[0;31mDeployError\u001b[0m: cannot deploy "
     ]
    }
   ],
   "source": [
    "addr = serving_function.deploy(project='default')"
   ]
  },
  {
   "cell_type": "code",
   "execution_count": null,
   "metadata": {},
   "outputs": [],
   "source": [
    "import nuclio_sdk\n",
    "import logging\n",
    "\n",
    "os.environ['MODEL_PATH']='/User/demos/demos/faces/artifacts/model.bst'\n",
    "os.environ['CLASSES_MAP']='/User/demos/demos/faces/artifacts/idx2name.csv'\n",
    "\n",
    "logger = logging.Logger('triggering')\n",
    "ctx = nuclio_sdk.Context(logger=logger)\n",
    "\n",
    "payload = {'file_path': 'pp.jpeg', 'time': '20191110131130', 'camera': 'cammy'}\n",
    "ev = nuclio_sdk.Event(body=payload)\n",
    "handler(ctx,ev)"
   ]
  },
  {
   "cell_type": "code",
   "execution_count": null,
   "metadata": {},
   "outputs": [],
   "source": []
  }
 ],
 "metadata": {
  "kernelspec": {
   "display_name": "Python 3",
   "language": "python",
   "name": "python3"
  },
  "language_info": {
   "codemirror_mode": {
    "name": "ipython",
    "version": 3
   },
   "file_extension": ".py",
   "mimetype": "text/x-python",
   "name": "python",
   "nbconvert_exporter": "python",
   "pygments_lexer": "ipython3",
   "version": "3.6.8"
  }
 },
 "nbformat": 4,
 "nbformat_minor": 4
}
