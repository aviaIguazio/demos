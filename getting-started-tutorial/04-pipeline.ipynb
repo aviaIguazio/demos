{
 "cells": [
  {
   "cell_type": "markdown",
   "metadata": {},
   "source": [
    "# Part 4: Creating an Automated ML Pipeline\n",
    "\n",
    "This part of the MLRun getting-started tutorial walks you through the steps for creating an automated pipeline for our project.\n",
    "The pipeline is created using [Kubeflow Pipelines](https://www.kubeflow.org/docs/pipelines/pipelines-quickstart/).\n",
    "The Iguazio Data Science Platform (\"the platform\") has a default (pre-deployed) shared Kubeflow Pipelines service (`pipelines`).\n",
    "The integration of MLRun with Kubeflow Pipelines enables you to take the functions in your project and build a pipeline that contains these functions.\n",
    "\n",
    "The tutorial consists of the following steps:\n",
    "\n",
    "1. [Setup](#gs-tutorial-4-step-setup)\n",
    "3. [Defining and Saving a Pipeline Workflow](#gs-tutorial-4-step-pipeline-workflow-define-n-save)\n",
    "3. [Registering the Workflow](#gs-tutorial-4-step-register-workflow)\n",
    "4. [Saving Your Project](#gs-tutorial-4-step-save-project)\n",
    "5. [Viewing the Pipeline on the Dashboard (UI)](#gs-tutorial-4-step-ui-pipeline-view)"
   ]
  },
  {
   "cell_type": "markdown",
   "metadata": {},
   "source": [
    "<a id=\"gs-tutorial-4-prerequisites\"></a>"
   ]
  },
  {
   "cell_type": "markdown",
   "metadata": {},
   "source": [
    "## Prerequisites\n",
    "\n",
    "The following steps are a continuation of the previous parts of this getting-started tutorial and rely on the generated outputs.\n",
    "Therefore, make sure to first run parts 1&mdash;[3](03-model-serving.ipynb) of the tutorial."
   ]
  },
  {
   "cell_type": "markdown",
   "metadata": {},
   "source": [
    "<a id=\"gs-tutorial-4-step-setup\"></a>"
   ]
  },
  {
   "cell_type": "markdown",
   "metadata": {},
   "source": [
    "## Step 1: Setup"
   ]
  },
  {
   "cell_type": "markdown",
   "metadata": {},
   "source": [
    "<a id=\"gs-tutorial-4-load-project\"></a>"
   ]
  },
  {
   "cell_type": "markdown",
   "metadata": {},
   "source": [
    "### Loading Your Project\n",
    "\n",
    "Run the following code to Load the project that you created and worked on in the previous parts of this tutorial:"
   ]
  },
  {
   "cell_type": "code",
   "execution_count": 1,
   "metadata": {},
   "outputs": [
    {
     "name": "stdout",
     "output_type": "stream",
     "text": [
      "Project path: /User/demos/getting-started-tutorial/conf\n",
      "Project name: getting-started-tutorial-admin\n",
      "Artifacts path: /v3io/projects/{{run.project}}/artifacts\n"
     ]
    }
   ],
   "source": [
    "from os import path, getenv\n",
    "from mlrun import load_project\n",
    "import mlrun\n",
    "\n",
    "project_path = path.abspath('conf')\n",
    "project = load_project(project_path)\n",
    "\n",
    "print(f'Project path: {project_path}\\nProject name: {project.name}')\n",
    "print(f'Artifacts path: {mlrun.mlconf.artifact_path}')"
   ]
  },
  {
   "cell_type": "markdown",
   "metadata": {},
   "source": [
    "<a id=\"gs-tutorial-4-view-project-functions\"></a>"
   ]
  },
  {
   "cell_type": "markdown",
   "metadata": {},
   "source": [
    "### Viewing all Existing Functions in Your Project"
   ]
  },
  {
   "cell_type": "markdown",
   "metadata": {},
   "source": [
    "Run `get_run_db.list_functions` to get the list of the functions for this project.\n",
    "Use the latest tag.\n",
    "In the getting-started tutorial project you should expect to have the following functions:\n",
    "\n",
    "- `get_data` &mdash; the first function, which ingests the Iris data set into the platform\n",
    "- `describe` &mdash; generates statistics on the data set\n",
    "- `train-iris` &mdash; the model-training function\n",
    "- `test-classifier` &mdash; th model-testing function\n",
    "- `mlrun-model` &mdash; the model-serving function"
   ]
  },
  {
   "cell_type": "code",
   "execution_count": null,
   "metadata": {},
   "outputs": [],
   "source": [
    "from mlrun import get_run_db\n",
    "get_run_db().list_functions(project={project.name}, tag='latest')"
   ]
  },
  {
   "cell_type": "markdown",
   "metadata": {},
   "source": [
    "<a id=\"gs-tutorial-4-kubeflow-pipelines\"></a>"
   ]
  },
  {
   "cell_type": "markdown",
   "metadata": {},
   "source": [
    "### Using Kubeflow Pipelines\n",
    "\n",
    "You're now ready to create a full ML pipeline.\n",
    "This is done by using [Kubeflow Pipelines](https://www.kubeflow.org/docs/pipelines/overview/pipelines-overview/) &mdash; is an open-source framework for building and deploying portable, scalable machine-learning workflows based on Docker containers.\n",
    "MLRun leverages this framework to take your existing code and deploy it as steps in the pipeline.\n",
    "\n",
    "Kubeflow Pipelines is integrated into the Iguazio Data Science Platform (\"the platform\") and available as a default (pre-deployed) shared platform service."
   ]
  },
  {
   "cell_type": "markdown",
   "metadata": {},
   "source": [
    "<a id=\"gs-tutorial-4-step-pipeline-workflow-define-n-save\"></a>"
   ]
  },
  {
   "cell_type": "markdown",
   "metadata": {},
   "source": [
    "## Step 2: Defining and Saving a Pipeline Workflow\n",
    "\n",
    "A pipeline is created by running an MLRun **\"workflow\"**.\n",
    "The following code defines a workflow and writes it to a file in your project conf directory (file name is workflow.py).\n",
    "The workflow describes a directed acyclic graph (DAG) for execution using Kubeflow Pipelines, and depicts the connections between the functions and the data as part of an end-to-end pipeline.\n",
    "The workflow file has two parts &mdash; initialization of the function objects, and definition of a pipeline DSL (domain-specific language) for connecting the function inputs and outputs.\n",
    "Examine the code to see how functions objects are initialized and used (by name) within the workflow.\n",
    "\n",
    "The defined pipeline includes the following steps:\n",
    "\n",
    "- Ingest the Iris flower data set (`ingest`).\n",
    "- Train and the model (`train`).\n",
    "- Test the model with its test dataset\n",
    "- Deploy the model as a real-time serverless function (`deploy`).\n",
    "\n",
    "> **Note**: A pipeline can also include continuous build integration and deployment (CI/CD) steps, such as building container images and deploying models."
   ]
  },
  {
   "cell_type": "code",
   "execution_count": 3,
   "metadata": {},
   "outputs": [
    {
     "name": "stdout",
     "output_type": "stream",
     "text": [
      "Overwriting /User/demos/getting-started-tutorial/conf/workflow.py\n"
     ]
    }
   ],
   "source": [
    "%%writefile {path.join(project_path, 'workflow.py')}\n",
    "\n",
    "from kfp import dsl\n",
    "from mlrun import mount_v3io\n",
    "import mlrun\n",
    "from mlrun.platforms import mount_v3io_extended, mount_v3io\n",
    "\n",
    "\n",
    "funcs = {}\n",
    "DATASET = 'source_data'\n",
    "LABELS = \"label\"\n",
    "\n",
    "# Configure function resources and local settings\n",
    "def init_functions(functions: dict, project=None, secrets=None):\n",
    "    for f in functions.values():\n",
    "#        f.apply(mount_v3io_extended())\n",
    "         f.apply(mount_v3io(remote='projects',mount_path='/v3io/projects'))\n",
    "\n",
    "# Create a Kubeflow Pipelines pipeline\n",
    "@dsl.pipeline(\n",
    "    name=\"Getting-started-tutorial\",\n",
    "    description=\"This tutorial is designed to demonstrate some of the main \"\n",
    "                \"capabilities of the Iguazio Data Science Platform.\\n\"\n",
    "                \"The tutorial uses the Iris flower data set.\"\n",
    ")\n",
    "def kfpipeline(source_url='https://s3.wasabisys.com/iguazio/data/iris/iris_dataset.csv'):\n",
    "\n",
    "    # Ingest the data set\n",
    "    ingest = funcs['get-data'].as_step(\n",
    "        name=\"get-data\",\n",
    "        handler='get_data',\n",
    "        inputs={'source_url': source_url},\n",
    "        params={'format': 'csv'},\n",
    "        outputs=[DATASET])\n",
    "    \n",
    "    # Train a model   \n",
    "    train = funcs[\"train-iris\"].as_step(\n",
    "        name=\"train\",\n",
    "        params={\"label_column\": LABELS},\n",
    "        inputs={\"dataset\": ingest.outputs[DATASET]},\n",
    "        outputs=['model', 'test_set'])\n",
    "    \n",
    "    # Test and visualize the model\n",
    "    test = funcs[\"test\"].as_step(\n",
    "        name=\"test\",\n",
    "        params={\"label_column\": LABELS},\n",
    "        inputs={\"models_path\": train.outputs['model'],\n",
    "                \"test_set\": train.outputs['test_set']})\n",
    "    \n",
    "    # Deploy the model as a serverless function\n",
    "    deploy = funcs[\"serving\"].deploy_step(\n",
    "        models={f\"{DATASET}_v1\": train.outputs['model']})"
   ]
  },
  {
   "cell_type": "markdown",
   "metadata": {},
   "source": [
    "<a id=\"gs-tutorial-4-step-register-workflow\"></a>"
   ]
  },
  {
   "cell_type": "markdown",
   "metadata": {},
   "source": [
    "## Step 3: Registering the Workflow\n",
    "\n",
    "Use the `set_workflow` MLRun project method to register your workflow with MLRun.\n",
    "The following code sets the `name` parameter to the selected workflow name (\"main\") and the `code` parameter to the name of the workflow file that is found in your project directory (**workflow.py**)."
   ]
  },
  {
   "cell_type": "code",
   "execution_count": 4,
   "metadata": {},
   "outputs": [],
   "source": [
    "# Register the workflow file as \"main\"\n",
    "project.set_workflow('main', 'workflow.py')"
   ]
  },
  {
   "cell_type": "markdown",
   "metadata": {},
   "source": [
    "<a id=\"gs-tutorial-4-step-save-project\"></a>"
   ]
  },
  {
   "cell_type": "markdown",
   "metadata": {},
   "source": [
    "## Step 4: Saving Your Project\n",
    "\n",
    "Run the following code to save your project:"
   ]
  },
  {
   "cell_type": "code",
   "execution_count": 5,
   "metadata": {},
   "outputs": [],
   "source": [
    "project.save()"
   ]
  },
  {
   "cell_type": "markdown",
   "metadata": {},
   "source": [
    "Use the `run` MLRun project method to execute your workflow pipeline with Kubeflow Pipelines.\n",
    "The tutorial code sets the following method parameters; (for the full parameters list, see the MLRun documentation or embedded help):\n",
    "\n",
    "- **`name`** &mdash; the workflow name (in this case, \"main\" &mdash; see the previous step).\n",
    "- **`arguments`** &mdash; A dictionary of Kubeflow Pipelines arguments (parameters).\n",
    "  The tutorial code sets this parameter to an empty arguments list (`{}`), but you can edit the code to add arguments.\n",
    "- **`artifact_path`** &mdash; a path or URL that identifies a location for storing the workflow artifacts.\n",
    "  You can use `{{workflow.uid}}` in the path to signify the ID of the current workflow run iteration.\n",
    "  The tutorial code sets the artifacts path to a **&lt;worker ID&gt;** directory (`{{workflow.uid}}`) in a **pipeline** directory under the projects container (**/v3io/projects/getting-started-tutorial-project name/pipeline/&lt;worker ID&gt;**).\n",
    "- **`dirty`** &mdash; set to `True` to allow running the workflow also when the project's Git repository is dirty (i.e., contains uncommitted changes).\n",
    "  (When the notebook that contains the execution code is in the same Git directory as the executed workflow, the directory will always be dirty during the execution.)\n",
    "\n",
    "The `run` method returns the ID of the executed workflow, which the code stores in a `run_id` variable.\n",
    "You can use this ID to track the progress or your workflow, as demonstrated in the following sections.\n",
    "\n",
    "> **Note**: You can also run the workflow from a command-line shell by using the `mlrun` CLI.\n",
    "> The following CLI command defines a similar execution logic as that of the `run` call in the tutorial:\n",
    "> ```\n",
    "> mlrun project /User/getting-started-tutorial/conf -r main -p \"$V3IO_HOME_URL/getting-started-tutorial/pipeline/{{workflow.uid}}/\"\n",
    "> ```"
   ]
  },
  {
   "cell_type": "code",
   "execution_count": 6,
   "metadata": {},
   "outputs": [],
   "source": [
    "import os \n",
    "from os import environ, path\n",
    "from mlrun import mlconf"
   ]
  },
  {
   "cell_type": "code",
   "execution_count": 7,
   "metadata": {},
   "outputs": [
    {
     "name": "stdout",
     "output_type": "stream",
     "text": [
      "> 2021-01-04 14:31:51,710 [info] using in-cluster config.\n"
     ]
    },
    {
     "data": {
      "text/html": [
       "Experiment link <a href=\"https://dashboard.default-tenant.app.product-a.iguazio-cd0.com/pipelines/#/experiments/details/034bee55-09fd-4643-82a9-f15507ab0c5e\" target=\"_blank\" >here</a>"
      ],
      "text/plain": [
       "<IPython.core.display.HTML object>"
      ]
     },
     "metadata": {},
     "output_type": "display_data"
    },
    {
     "data": {
      "text/html": [
       "Run link <a href=\"https://dashboard.default-tenant.app.product-a.iguazio-cd0.com/pipelines/#/runs/details/f07c7c0d-ce73-4ce2-9298-d9ecfc4a7b68\" target=\"_blank\" >here</a>"
      ],
      "text/plain": [
       "<IPython.core.display.HTML object>"
      ]
     },
     "metadata": {},
     "output_type": "display_data"
    },
    {
     "name": "stdout",
     "output_type": "stream",
     "text": [
      "> 2021-01-04 14:31:52,143 [info] Pipeline run id=f07c7c0d-ce73-4ce2-9298-d9ecfc4a7b68, check UI or DB for progress\n",
      "> 2021-01-04 14:31:52,144 [info] waiting for pipeline run completion\n"
     ]
    },
    {
     "data": {
      "text/html": [
       "<h2>Run Results</h2>Workflow f07c7c0d-ce73-4ce2-9298-d9ecfc4a7b68 finished, status=Succeeded<br>click the hyper links below to see detailed results<br><table border=\"1\" class=\"dataframe\">\n",
       "  <thead>\n",
       "    <tr style=\"text-align: right;\">\n",
       "      <th>uid</th>\n",
       "      <th>start</th>\n",
       "      <th>state</th>\n",
       "      <th>name</th>\n",
       "      <th>results</th>\n",
       "      <th>artifacts</th>\n",
       "    </tr>\n",
       "  </thead>\n",
       "  <tbody>\n",
       "    <tr>\n",
       "      <td><div title=\"a18d552a5f1b404caf80ad4c3b7a65cf\"><a href=\"https://mlrun-ui.default-tenant.app.product-a.iguazio-cd0.com/projects/getting-started-tutorial-admin/jobs/monitor/a18d552a5f1b404caf80ad4c3b7a65cf/info\" target=\"_blank\" >...3b7a65cf</a></div></td>\n",
       "      <td>Jan 04 14:32:22</td>\n",
       "      <td>completed</td>\n",
       "      <td>test</td>\n",
       "      <td><div class=\"dictlist\">accuracy=1.0</div><div class=\"dictlist\">test-error=0.0</div><div class=\"dictlist\">auc-micro=1.0</div><div class=\"dictlist\">auc-weighted=1.0</div><div class=\"dictlist\">f1-score=1.0</div><div class=\"dictlist\">precision_score=1.0</div><div class=\"dictlist\">recall_score=1.0</div></td>\n",
       "      <td><div title=\"/v3io/projects/getting-started-tutorial-admin/artifacts/pipeline/f07c7c0d-ce73-4ce2-9298-d9ecfc4a7b68/plots/confusion-matrix.html\">confusion-matrix</div><div title=\"/v3io/projects/getting-started-tutorial-admin/artifacts/pipeline/f07c7c0d-ce73-4ce2-9298-d9ecfc4a7b68/plots/precision-recall-multiclass.html\">precision-recall-multiclass</div><div title=\"/v3io/projects/getting-started-tutorial-admin/artifacts/pipeline/f07c7c0d-ce73-4ce2-9298-d9ecfc4a7b68/plots/roc-multiclass.html\">roc-multiclass</div><div title=\"/v3io/projects/getting-started-tutorial-admin/artifacts/pipeline/f07c7c0d-ce73-4ce2-9298-d9ecfc4a7b68/test_set_preds.parquet\">test_set_preds</div></td>\n",
       "    </tr>\n",
       "    <tr>\n",
       "      <td><div title=\"92b57f94cd224b10acc07aeff90f9aa6\"><a href=\"https://mlrun-ui.default-tenant.app.product-a.iguazio-cd0.com/projects/getting-started-tutorial-admin/jobs/monitor/92b57f94cd224b10acc07aeff90f9aa6/info\" target=\"_blank\" >...f90f9aa6</a></div></td>\n",
       "      <td>Jan 04 14:32:10</td>\n",
       "      <td>completed</td>\n",
       "      <td>train</td>\n",
       "      <td><div class=\"dictlist\">accuracy=1.0</div><div class=\"dictlist\">test-error=0.0</div><div class=\"dictlist\">auc-micro=1.0</div><div class=\"dictlist\">auc-weighted=1.0</div><div class=\"dictlist\">f1-score=1.0</div><div class=\"dictlist\">precision_score=1.0</div><div class=\"dictlist\">recall_score=1.0</div></td>\n",
       "      <td><div title=\"/v3io/projects/getting-started-tutorial-admin/artifacts/pipeline/f07c7c0d-ce73-4ce2-9298-d9ecfc4a7b68/data/train_set.csv\">train_set</div><div title=\"/v3io/projects/getting-started-tutorial-admin/artifacts/pipeline/f07c7c0d-ce73-4ce2-9298-d9ecfc4a7b68/data/test_set.csv\">test_set</div><div title=\"/v3io/projects/getting-started-tutorial-admin/artifacts/pipeline/f07c7c0d-ce73-4ce2-9298-d9ecfc4a7b68/plots/confusion-matrix.html\">confusion-matrix</div><div title=\"/v3io/projects/getting-started-tutorial-admin/artifacts/pipeline/f07c7c0d-ce73-4ce2-9298-d9ecfc4a7b68/plots/precision-recall-multiclass.html\">precision-recall-multiclass</div><div title=\"/v3io/projects/getting-started-tutorial-admin/artifacts/pipeline/f07c7c0d-ce73-4ce2-9298-d9ecfc4a7b68/plots/roc-multiclass.html\">roc-multiclass</div><div title=\"/v3io/projects/getting-started-tutorial-admin/artifacts/pipeline/f07c7c0d-ce73-4ce2-9298-d9ecfc4a7b68/models\">model</div></td>\n",
       "    </tr>\n",
       "    <tr>\n",
       "      <td><div title=\"97e1de1100e74f539f9845ae074c44a5\"><a href=\"https://mlrun-ui.default-tenant.app.product-a.iguazio-cd0.com/projects/getting-started-tutorial-admin/jobs/monitor/97e1de1100e74f539f9845ae074c44a5/info\" target=\"_blank\" >...074c44a5</a></div></td>\n",
       "      <td>Jan 04 14:31:58</td>\n",
       "      <td>completed</td>\n",
       "      <td>get-data</td>\n",
       "      <td></td>\n",
       "      <td><div title=\"/v3io/projects/getting-started-tutorial-admin/artifacts/pipeline/f07c7c0d-ce73-4ce2-9298-d9ecfc4a7b68/source_data.csv\">source_data</div></td>\n",
       "    </tr>\n",
       "  </tbody>\n",
       "</table>"
      ],
      "text/plain": [
       "<IPython.core.display.HTML object>"
      ]
     },
     "metadata": {},
     "output_type": "display_data"
    }
   ],
   "source": [
    "pipeline_path = mlconf.artifact_path\n",
    "\n",
    "run_id = project.run(\n",
    "    'main',\n",
    "    arguments={}, \n",
    "    artifact_path=os.path.join(pipeline_path, \"pipeline\", '{{workflow.uid}}'),\n",
    "    dirty=True,\n",
    "    watch=True)"
   ]
  },
  {
   "cell_type": "markdown",
   "metadata": {},
   "source": [
    "<a id=\"gs-tutorial-4-step-ui-pipeline-view\"></a>"
   ]
  },
  {
   "cell_type": "markdown",
   "metadata": {},
   "source": [
    "## Step 5: Viewing the Pipeline on the Dashboard (UI)\n",
    "\n",
    "Navigate to the **Pipelines** page on the dashboard (UI).\n",
    "After the pipelines execution completes, you should be able to view the pipeline and see its three functions: \n",
    "\n",
    "- `get-data`\n",
    "- `train`\n",
    "- `test`"
   ]
  },
  {
   "cell_type": "markdown",
   "metadata": {},
   "source": [
    "<img src=\"./images/kubeflow-pipeline.JPG\" alt=\"pipeline\" width=\"600\"/>"
   ]
  },
  {
   "cell_type": "markdown",
   "metadata": {},
   "source": [
    "<a id='gs-pipeline-workflow-run'></a>"
   ]
  },
  {
   "cell_type": "markdown",
   "metadata": {},
   "source": [
    "## Done!"
   ]
  },
  {
   "cell_type": "markdown",
   "metadata": {},
   "source": [
    "Congratulation! You've completed the getting started tutorial of the Iguazio Data Science Platform."
   ]
  }
 ],
 "metadata": {
  "kernelspec": {
   "display_name": "Python 3",
   "language": "python",
   "name": "python3"
  },
  "language_info": {
   "codemirror_mode": {
    "name": "ipython",
    "version": 3
   },
   "file_extension": ".py",
   "mimetype": "text/x-python",
   "name": "python",
   "nbconvert_exporter": "python",
   "pygments_lexer": "ipython3",
   "version": "3.7.6"
  }
 },
 "nbformat": 4,
 "nbformat_minor": 4
}
