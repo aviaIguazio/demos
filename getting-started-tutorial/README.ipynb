{
 "cells": [
  {
   "cell_type": "markdown",
   "metadata": {},
   "source": [
    "# Getting Started with Data Science and MLOps Using MLRun"
   ]
  },
  {
   "cell_type": "markdown",
   "metadata": {},
   "source": [
    "This tutorial provides a hands-on introduction to using MLRun to implement a data science workflow and automate machine-learning operations (MLOps).\n",
    "\n",
    "MLRun is integrated as a default (pre-deployed) shared service in the Iguazio Data Science Platform (**\"the platform\"**).\n",
    "The tutorial covers MLRun and platform fundamentals such as creation of projects and data ingestion and preparation, and demonstrates how to create an end-to-end machine-learning (ML) pipeline.\n",
    "\n",
    "You'll learn how to\n",
    "\n",
    "- Collect (ingest), prepare, and analyze data\n",
    "- Train, deploy, and monitor an ML model\n",
    "- Create and run an automated ML pipeline\n",
    "\n",
    "You'll also learn about the basic concepts, components, and APIs that allow you to perform these tasks, including\n",
    "\n",
    "- Setting up MLRun\n",
    "- Creating and working with projects\n",
    "- Creating, deploying and running MLRun functions\n",
    "- Using MLRun to run functions, jobs, and full workflows\n",
    "- Deploying a model to a serving layer using serverless functions\n",
    "\n",
    "The tutorial is divided into four parts, each with a dedicated Jupyter notebook.\n",
    "The notebooks are designed to be run sequentially, as each notebook relies on the execution of the previous notebook:\n",
    "\n",
    "1. [Part 1: MLRun Basics](./01-mlrun-basics.ipynb)\n",
    "2. [Part 2: Training an ML Model](./02-model-training.ipynb)\n",
    "3. [Part 3: Serving an ML Model](./03-model-serving.ipynb)\n",
    "4. [Part 4: Creating an Automated ML Pipeline](./04-pipeline.ipynb)"
   ]
  }
 ],
 "metadata": {
  "kernelspec": {
   "display_name": "Python 3",
   "language": "python",
   "name": "python3"
  },
  "language_info": {
   "codemirror_mode": {
    "name": "ipython",
    "version": 3
   },
   "file_extension": ".py",
   "mimetype": "text/x-python",
   "name": "python",
   "nbconvert_exporter": "python",
   "pygments_lexer": "ipython3",
   "version": "3.7.6"
  }
 },
 "nbformat": 4,
 "nbformat_minor": 4
}
