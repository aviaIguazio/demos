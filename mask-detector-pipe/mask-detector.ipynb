{
 "cells": [
  {
   "cell_type": "markdown",
   "metadata": {},
   "source": [
    "# Mask vs. No Mask Demo\n",
    "## Image classification workflow with distributed training\n",
    "The following example demonstrates an end to end data science workflow for building an an image classifier <br>\n",
    "The model is trained on an images dataset of people with masks / no masks. <br>\n",
    "Then the model is deployed as a function in a serving layer <br>\n",
    "Users can send http request with an image of eople with masks / no masksimage and get a respond back that identify whether it has a mask or not.\n",
    "\n",
    "This typical data science workflow comprises of the following:\n",
    "* Download dataset\n",
    "* Training a model on the images dataset\n",
    "* Deploy a function with the new model in a serving layer\n",
    "* Testing the function\n",
    "\n",
    "Key technologies:\n",
    "* Tensorflow-Keras for training the model\n",
    "* Horovod for running a distributed training\n",
    "* MLRun (open source library for tracking experiments https://github.com/mlrun/mlrun) for building the functions and tracking experiments\n",
    "* Nuclio function for creating a funciton that runs the model in a serving layer\n",
    "\n",
    "Based on: https://www.kaggle.com/notadithyabhat/face-mask-detector"
   ]
  },
  {
   "cell_type": "code",
   "execution_count": 1,
   "metadata": {},
   "outputs": [],
   "source": [
    "# nuclio: ignore\n",
    "import nuclio"
   ]
  },
  {
   "cell_type": "markdown",
   "metadata": {},
   "source": [
    "#### Function config and code"
   ]
  },
  {
   "cell_type": "code",
   "execution_count": 2,
   "metadata": {},
   "outputs": [],
   "source": [
    "import os\n",
    "import zipfile\n",
    "import json\n",
    "from tempfile import mktemp\n",
    "import pandas as pd\n",
    "from mlrun import DataItem\n",
    "\n",
    "# download the image archive\n",
    "def open_archive(context, \n",
    "                 archive_url: DataItem,\n",
    "                 target_path,\n",
    "                 refresh=False):\n",
    "    \"\"\"Open a file/object archive into a target directory\n",
    "    \n",
    "    Currently supports zip and tar.gz\n",
    "    \n",
    "    :param context:      function execution context\n",
    "    :param archive_url:  url of archive file\n",
    "    :param target_path:  file system path to store extracted files\n",
    "    :param key:          key of archive contents in artifact store\n",
    "    \"\"\"\n",
    "    os.makedirs(target_path, exist_ok=True)\n",
    "    \n",
    "    # get the archive as a local file (download if needed)\n",
    "    archive_url = archive_url.local()\n",
    "    \n",
    "    context.logger.info('Extracting zip')\n",
    "    zip_ref = zipfile.ZipFile(archive_url, 'r')\n",
    "    zip_ref.extractall(target_path)\n",
    "    zip_ref.close()\n",
    "    \n",
    "    context.logger.info(f'extracted archive to {target_path}')\n",
    "    context.log_artifact('content', target_path=target_path)"
   ]
  },
  {
   "cell_type": "code",
   "execution_count": 3,
   "metadata": {},
   "outputs": [],
   "source": [
    "# nuclio: end-code"
   ]
  },
  {
   "cell_type": "markdown",
   "metadata": {},
   "source": [
    "### Setup Project and Enviorment\n",
    "Set project name and dir with MLRun. <br>\n",
    "Set the MLRun database location where all the artifacts will be saved.<br>\n",
    "Set projects dirs."
   ]
  },
  {
   "cell_type": "code",
   "execution_count": 4,
   "metadata": {},
   "outputs": [
    {
     "data": {
      "text/plain": [
       "('/User/demos/winjit',\n",
       " '/User/artifacts/fm-images',\n",
       " '/User/demos/winjit/models')"
      ]
     },
     "execution_count": 4,
     "metadata": {},
     "output_type": "execute_result"
    }
   ],
   "source": [
    "import mlrun\n",
    "import os\n",
    "\n",
    "# set up project\n",
    "project_name='fm-hvd'\n",
    "project_dir = './'\n",
    "hvdproj = mlrun.new_project(project_name, project_dir)\n",
    "artifact_path = mlrun.set_environment(api_path = mlrun.mlconf.dbpath or 'https://mlrun-api:8080',\n",
    "                                      artifact_path = mlrun.mlconf.artifact_path or f'{os.environ[\"HOME\"]}/artifacts')\n",
    "\n",
    "# specify paths\n",
    "code_dir = os.path.abspath('./') # Where our source code files are saved\n",
    "images_path = os.path.join(artifact_path, 'fm-images') \n",
    "model_path = os.path.join(os.path.abspath('./'),'models')\n",
    "code_dir, images_path, model_path"
   ]
  },
  {
   "cell_type": "markdown",
   "metadata": {},
   "source": [
    "### Test locally, Download and extract image archive\n",
    "The dataset is taken from the Iguazio-sample bucket in S3 <br>\n",
    "**Note that this step is captured in the MLRun database. <br>\n",
    "\n",
    "We create a new local function with our inline code from above.  \n",
    "We then define a `NewTask` with the `open_archive` function handler and the needed parameters and run it.  "
   ]
  },
  {
   "cell_type": "code",
   "execution_count": 5,
   "metadata": {},
   "outputs": [],
   "source": [
    "download_and_open = mlrun.NewTask(name=\"download\",\n",
    "                                  handler=open_archive,\n",
    "                                  params={\"target_path\": images_path},\n",
    "                                  inputs={\"archive_url\": \"https://s3.wasabisys.com/iguazio/data/masks_no_masks/archive.zip\"})"
   ]
  },
  {
   "cell_type": "code",
   "execution_count": 6,
   "metadata": {},
   "outputs": [
    {
     "name": "stdout",
     "output_type": "stream",
     "text": [
      "> 2020-12-20 11:26:44,271 [info] starting run download uid=9692629e257049aa88cf2bd417c0ddbc DB=http://mlrun-api:8080\n",
      "> 2020-12-20 11:26:44,360 [info] downloading https://s3.wasabisys.com/iguazio/data/masks_no_masks/archive.zip to local tmp\n",
      "> 2020-12-20 11:27:08,120 [info] Extracting zip\n",
      "> 2020-12-20 11:27:17,973 [info] extracted archive to /User/artifacts/fm-images\n"
     ]
    },
    {
     "data": {
      "text/html": [
       "<style>\n",
       ".dictlist {\n",
       "  background-color: #ca8452;\n",
       "  text-align: center;\n",
       "  margin: 4px;\n",
       "  border-radius: 3px; padding: 0px 3px 1px 3px; display: inline-block;}\n",
       ".artifact {\n",
       "  cursor: pointer;\n",
       "  background-color: #ca8452;\n",
       "  text-align: left;\n",
       "  margin: 4px; border-radius: 3px; padding: 0px 3px 1px 3px; display: inline-block;\n",
       "}\n",
       "div.block.hidden {\n",
       "  display: none;\n",
       "}\n",
       ".clickable {\n",
       "  cursor: pointer;\n",
       "}\n",
       ".ellipsis {\n",
       "  display: inline-block;\n",
       "  max-width: 60px;\n",
       "  white-space: nowrap;\n",
       "  overflow: hidden;\n",
       "  text-overflow: ellipsis;\n",
       "}\n",
       ".master-wrapper {\n",
       "  display: flex;\n",
       "  flex-flow: row nowrap;\n",
       "  justify-content: flex-start;\n",
       "  align-items: stretch;\n",
       "}\n",
       ".master-tbl {\n",
       "  flex: 3\n",
       "}\n",
       ".master-wrapper > div {\n",
       "  margin: 4px;\n",
       "  padding: 10px;\n",
       "}\n",
       "iframe.fileview {\n",
       "  border: 0 none;\n",
       "  height: 100%;\n",
       "  width: 100%;\n",
       "  white-space: pre-wrap;\n",
       "}\n",
       ".pane-header-title {\n",
       "  width: 80%;\n",
       "  font-weight: 500;\n",
       "}\n",
       ".pane-header {\n",
       "  line-height: 1;\n",
       "  background-color: #ca8452;\n",
       "  padding: 3px;\n",
       "}\n",
       ".pane-header .close {\n",
       "  font-size: 20px;\n",
       "  font-weight: 700;\n",
       "  float: right;\n",
       "  margin-top: -5px;\n",
       "}\n",
       ".master-wrapper .right-pane {\n",
       "  border: 1px inset silver;\n",
       "  width: 40%;\n",
       "  min-height: 300px;\n",
       "  flex: 3\n",
       "  min-width: 500px;\n",
       "}\n",
       ".master-wrapper * {\n",
       "  box-sizing: border-box;\n",
       "}\n",
       "</style><script>\n",
       "function copyToClipboard(fld) {\n",
       "    if (document.queryCommandSupported && document.queryCommandSupported('copy')) {\n",
       "        var textarea = document.createElement('textarea');\n",
       "        textarea.textContent = fld.innerHTML;\n",
       "        textarea.style.position = 'fixed';\n",
       "        document.body.appendChild(textarea);\n",
       "        textarea.select();\n",
       "\n",
       "        try {\n",
       "            return document.execCommand('copy'); // Security exception may be thrown by some browsers.\n",
       "        } catch (ex) {\n",
       "\n",
       "        } finally {\n",
       "            document.body.removeChild(textarea);\n",
       "        }\n",
       "    }\n",
       "}\n",
       "function expandPanel(el) {\n",
       "  const panelName = \"#\" + el.getAttribute('paneName');\n",
       "  console.log(el.title);\n",
       "\n",
       "  document.querySelector(panelName + \"-title\").innerHTML = el.title\n",
       "  iframe = document.querySelector(panelName + \"-body\");\n",
       "\n",
       "  const tblcss = `<style> body { font-family: Arial, Helvetica, sans-serif;}\n",
       "    #csv { margin-bottom: 15px; }\n",
       "    #csv table { border-collapse: collapse;}\n",
       "    #csv table td { padding: 4px 8px; border: 1px solid silver;} </style>`;\n",
       "\n",
       "  function csvToHtmlTable(str) {\n",
       "    return '<div id=\"csv\"><table><tr><td>' +  str.replace(/[\\n\\r]+$/g, '').replace(/[\\n\\r]+/g, '</td></tr><tr><td>')\n",
       "      .replace(/,/g, '</td><td>') + '</td></tr></table></div>';\n",
       "  }\n",
       "\n",
       "  function reqListener () {\n",
       "    if (el.title.endsWith(\".csv\")) {\n",
       "      iframe.setAttribute(\"srcdoc\", tblcss + csvToHtmlTable(this.responseText));\n",
       "    } else {\n",
       "      iframe.setAttribute(\"srcdoc\", this.responseText);\n",
       "    }\n",
       "    console.log(this.responseText);\n",
       "  }\n",
       "\n",
       "  const oReq = new XMLHttpRequest();\n",
       "  oReq.addEventListener(\"load\", reqListener);\n",
       "  oReq.open(\"GET\", el.title);\n",
       "  oReq.send();\n",
       "\n",
       "\n",
       "  //iframe.src = el.title;\n",
       "  const resultPane = document.querySelector(panelName + \"-pane\");\n",
       "  if (resultPane.classList.contains(\"hidden\")) {\n",
       "    resultPane.classList.remove(\"hidden\");\n",
       "  }\n",
       "}\n",
       "function closePanel(el) {\n",
       "  const panelName = \"#\" + el.getAttribute('paneName')\n",
       "  const resultPane = document.querySelector(panelName + \"-pane\");\n",
       "  if (!resultPane.classList.contains(\"hidden\")) {\n",
       "    resultPane.classList.add(\"hidden\");\n",
       "  }\n",
       "}\n",
       "\n",
       "</script>\n",
       "<div class=\"master-wrapper\">\n",
       "  <div class=\"block master-tbl\"><div>\n",
       "<style scoped>\n",
       "    .dataframe tbody tr th:only-of-type {\n",
       "        vertical-align: middle;\n",
       "    }\n",
       "\n",
       "    .dataframe tbody tr th {\n",
       "        vertical-align: top;\n",
       "    }\n",
       "\n",
       "    .dataframe thead th {\n",
       "        text-align: right;\n",
       "    }\n",
       "</style>\n",
       "<table border=\"1\" class=\"dataframe\">\n",
       "  <thead>\n",
       "    <tr style=\"text-align: right;\">\n",
       "      <th>project</th>\n",
       "      <th>uid</th>\n",
       "      <th>iter</th>\n",
       "      <th>start</th>\n",
       "      <th>state</th>\n",
       "      <th>name</th>\n",
       "      <th>labels</th>\n",
       "      <th>inputs</th>\n",
       "      <th>parameters</th>\n",
       "      <th>results</th>\n",
       "      <th>artifacts</th>\n",
       "    </tr>\n",
       "  </thead>\n",
       "  <tbody>\n",
       "    <tr>\n",
       "      <td>fm-hvd</td>\n",
       "      <td><div title=\"9692629e257049aa88cf2bd417c0ddbc\"><a href=\"https://mlrun-ui.default-tenant.app.dev6.lab.iguazeng.com/projects/fm-hvd/jobs/9692629e257049aa88cf2bd417c0ddbc/info\" target=\"_blank\" >...17c0ddbc</a></div></td>\n",
       "      <td>0</td>\n",
       "      <td>Dec 20 11:26:44</td>\n",
       "      <td>completed</td>\n",
       "      <td>download</td>\n",
       "      <td><div class=\"dictlist\">v3io_user=idanb</div><div class=\"dictlist\">kind=handler</div><div class=\"dictlist\">owner=idanb</div><div class=\"dictlist\">host=jupyter-idan-59777cc66f-67wtp</div></td>\n",
       "      <td><div title=\"https://s3.wasabisys.com/iguazio/data/masks_no_masks/archive.zip\">archive_url</div></td>\n",
       "      <td><div class=\"dictlist\">target_path=/User/artifacts/fm-images</div></td>\n",
       "      <td></td>\n",
       "      <td><div title=\"/User/artifacts/fm-images\">content</div></td>\n",
       "    </tr>\n",
       "  </tbody>\n",
       "</table>\n",
       "</div></div>\n",
       "  <div id=\"resultce6a6fc8-pane\" class=\"right-pane block hidden\">\n",
       "    <div class=\"pane-header\">\n",
       "      <span id=\"resultce6a6fc8-title\" class=\"pane-header-title\">Title</span>\n",
       "      <span onclick=\"closePanel(this)\" paneName=\"resultce6a6fc8\" class=\"close clickable\">&times;</span>\n",
       "    </div>\n",
       "    <iframe class=\"fileview\" id=\"resultce6a6fc8-body\"></iframe>\n",
       "  </div>\n",
       "</div>\n"
      ],
      "text/plain": [
       "<IPython.core.display.HTML object>"
      ]
     },
     "metadata": {},
     "output_type": "display_data"
    },
    {
     "name": "stdout",
     "output_type": "stream",
     "text": [
      "to track results use .show() or .logs() or in CLI: \n",
      "!mlrun get run 9692629e257049aa88cf2bd417c0ddbc --project fm-hvd , !mlrun logs 9692629e257049aa88cf2bd417c0ddbc --project fm-hvd\n",
      "> 2020-12-20 11:27:18,110 [info] run executed, status=completed\n"
     ]
    }
   ],
   "source": [
    "download_run = mlrun.run_local(download_and_open,\n",
    "                               project=project_name)"
   ]
  },
  {
   "cell_type": "markdown",
   "metadata": {},
   "source": [
    "### Create Pipeline with MLRun and Kubeflow\n",
    "\n",
    "We are using a library called MLRun for running the functions and storing the experiments meta data in the MLRun database <br>\n",
    "Users can query the database to view all the experiments along with their associated meta data <br>\n",
    "- Get data\n",
    "- Train horovod model on the cluster\n",
    "- Deploy model"
   ]
  },
  {
   "cell_type": "code",
   "execution_count": 7,
   "metadata": {},
   "outputs": [],
   "source": [
    "# turn our \"open_archive\" function into serverless function as a job\n",
    "# based on docker image mlrun/mlrun\n",
    "utils = mlrun.code_to_function(kind='job', \n",
    "                               name='utils',\n",
    "                               image='mlrun/mlrun')"
   ]
  },
  {
   "cell_type": "code",
   "execution_count": 8,
   "metadata": {},
   "outputs": [
    {
     "data": {
      "text/plain": [
       "<mlrun.runtimes.kubejob.KubejobRuntime at 0x7f329417e550>"
      ]
     },
     "execution_count": 8,
     "metadata": {},
     "output_type": "execute_result"
    }
   ],
   "source": [
    "# set the function to part of our project\n",
    "hvdproj.set_function(utils)"
   ]
  },
  {
   "cell_type": "code",
   "execution_count": 9,
   "metadata": {},
   "outputs": [
    {
     "data": {
      "text/plain": [
       "<mlrun.runtimes.kubejob.KubejobRuntime at 0x7f329417e550>"
      ]
     },
     "execution_count": 9,
     "metadata": {},
     "output_type": "execute_result"
    }
   ],
   "source": [
    "# mount v3io (database) for shared data access between our k8s pod \n",
    "# and our file system (data containers)\n",
    "hvdproj.func('utils').apply(mlrun.mount_v3io())"
   ]
  },
  {
   "cell_type": "markdown",
   "metadata": {},
   "source": [
    "### Define a new function for distributed Training with TensorFlow, Keras and Horovod\n",
    "\n",
    "Here we use the same structure as before to deploy our **fm-hvd.py** to run on the defined horovod cluster in a distributed manner.  \n",
    "\n",
    "We define the input parameters for the training function.  \n",
    "We set the function's `kind='mpijob'` to let MLRun know to apply the job to the MPI CRD and create the requested horovod cluster.  \n",
    "We set the number of workers for the horovod cluster to use by setting `trainer.spec.replicas = 4` (default is 1 replica).  \n",
    "We set the number of GPUs each worker will receive by setting `trainer.gpus(1)` (default is 0 GPUs).<br>\n",
    "**Please verify that the `HOROVOD_FILE` path is available from the cluster (Local path and Mounted path may vary)**"
   ]
  },
  {
   "cell_type": "code",
   "execution_count": 10,
   "metadata": {},
   "outputs": [
    {
     "data": {
      "text/plain": [
       "<mlrun.runtimes.mpijob.v1.MpiRuntimeV1 at 0x7f328d300910>"
      ]
     },
     "execution_count": 10,
     "metadata": {},
     "output_type": "execute_result"
    }
   ],
   "source": [
    "# Set horovod function parameters using MLRun\n",
    "HOROVOD_FILE = os.path.join(code_dir, 'fm_hvd.py')\n",
    "trainer = mlrun.new_function(name='trainer',\n",
    "                             kind='mpijob',\n",
    "                             command=HOROVOD_FILE)\n",
    "\n",
    "# build our docker image (within the pod) based on mlrun image\n",
    "# with addtion required modules like opencv\n",
    "trainer.spec.build.base_image = \"mlrun/ml-models-gpu\"\n",
    "trainer.spec.build.commands=[\"python -m conda install opencv -y\",\n",
    "                             \"apt-get update\",\n",
    "                             \"apt-get install 'ffmpeg' -y\\\n",
    "                             'libsm6' -y\\\n",
    "                             'libxext6' -y\"]\n",
    "\n",
    "trainer.gpus(1)\n",
    "# set the function to part of our project\n",
    "hvdproj.set_function(trainer)"
   ]
  },
  {
   "cell_type": "code",
   "execution_count": null,
   "metadata": {},
   "outputs": [],
   "source": [
    "# deploy will build and deploy our docker image for usage\n",
    "trainer.deploy()"
   ]
  },
  {
   "cell_type": "markdown",
   "metadata": {},
   "source": [
    "### Test Before Building a Pipeline"
   ]
  },
  {
   "cell_type": "code",
   "execution_count": 14,
   "metadata": {},
   "outputs": [
    {
     "name": "stdout",
     "output_type": "stream",
     "text": [
      "> 2020-12-20 12:58:28,780 [info] starting run 2-replica uid=6add72c8d2a34ed39dfab1b6b5f759e7 DB=http://mlrun-api:8080\n",
      "> 2020-12-20 12:59:24,259 [info] MpiJob 2-replica-569ced8d launcher pod 2-replica-569ced8d-launcher state active\n",
      "final state: completed\n"
     ]
    },
    {
     "data": {
      "text/html": [
       "<style>\n",
       ".dictlist {\n",
       "  background-color: #ca8452;\n",
       "  text-align: center;\n",
       "  margin: 4px;\n",
       "  border-radius: 3px; padding: 0px 3px 1px 3px; display: inline-block;}\n",
       ".artifact {\n",
       "  cursor: pointer;\n",
       "  background-color: #ca8452;\n",
       "  text-align: left;\n",
       "  margin: 4px; border-radius: 3px; padding: 0px 3px 1px 3px; display: inline-block;\n",
       "}\n",
       "div.block.hidden {\n",
       "  display: none;\n",
       "}\n",
       ".clickable {\n",
       "  cursor: pointer;\n",
       "}\n",
       ".ellipsis {\n",
       "  display: inline-block;\n",
       "  max-width: 60px;\n",
       "  white-space: nowrap;\n",
       "  overflow: hidden;\n",
       "  text-overflow: ellipsis;\n",
       "}\n",
       ".master-wrapper {\n",
       "  display: flex;\n",
       "  flex-flow: row nowrap;\n",
       "  justify-content: flex-start;\n",
       "  align-items: stretch;\n",
       "}\n",
       ".master-tbl {\n",
       "  flex: 3\n",
       "}\n",
       ".master-wrapper > div {\n",
       "  margin: 4px;\n",
       "  padding: 10px;\n",
       "}\n",
       "iframe.fileview {\n",
       "  border: 0 none;\n",
       "  height: 100%;\n",
       "  width: 100%;\n",
       "  white-space: pre-wrap;\n",
       "}\n",
       ".pane-header-title {\n",
       "  width: 80%;\n",
       "  font-weight: 500;\n",
       "}\n",
       ".pane-header {\n",
       "  line-height: 1;\n",
       "  background-color: #ca8452;\n",
       "  padding: 3px;\n",
       "}\n",
       ".pane-header .close {\n",
       "  font-size: 20px;\n",
       "  font-weight: 700;\n",
       "  float: right;\n",
       "  margin-top: -5px;\n",
       "}\n",
       ".master-wrapper .right-pane {\n",
       "  border: 1px inset silver;\n",
       "  width: 40%;\n",
       "  min-height: 300px;\n",
       "  flex: 3\n",
       "  min-width: 500px;\n",
       "}\n",
       ".master-wrapper * {\n",
       "  box-sizing: border-box;\n",
       "}\n",
       "</style><script>\n",
       "function copyToClipboard(fld) {\n",
       "    if (document.queryCommandSupported && document.queryCommandSupported('copy')) {\n",
       "        var textarea = document.createElement('textarea');\n",
       "        textarea.textContent = fld.innerHTML;\n",
       "        textarea.style.position = 'fixed';\n",
       "        document.body.appendChild(textarea);\n",
       "        textarea.select();\n",
       "\n",
       "        try {\n",
       "            return document.execCommand('copy'); // Security exception may be thrown by some browsers.\n",
       "        } catch (ex) {\n",
       "\n",
       "        } finally {\n",
       "            document.body.removeChild(textarea);\n",
       "        }\n",
       "    }\n",
       "}\n",
       "function expandPanel(el) {\n",
       "  const panelName = \"#\" + el.getAttribute('paneName');\n",
       "  console.log(el.title);\n",
       "\n",
       "  document.querySelector(panelName + \"-title\").innerHTML = el.title\n",
       "  iframe = document.querySelector(panelName + \"-body\");\n",
       "\n",
       "  const tblcss = `<style> body { font-family: Arial, Helvetica, sans-serif;}\n",
       "    #csv { margin-bottom: 15px; }\n",
       "    #csv table { border-collapse: collapse;}\n",
       "    #csv table td { padding: 4px 8px; border: 1px solid silver;} </style>`;\n",
       "\n",
       "  function csvToHtmlTable(str) {\n",
       "    return '<div id=\"csv\"><table><tr><td>' +  str.replace(/[\\n\\r]+$/g, '').replace(/[\\n\\r]+/g, '</td></tr><tr><td>')\n",
       "      .replace(/,/g, '</td><td>') + '</td></tr></table></div>';\n",
       "  }\n",
       "\n",
       "  function reqListener () {\n",
       "    if (el.title.endsWith(\".csv\")) {\n",
       "      iframe.setAttribute(\"srcdoc\", tblcss + csvToHtmlTable(this.responseText));\n",
       "    } else {\n",
       "      iframe.setAttribute(\"srcdoc\", this.responseText);\n",
       "    }\n",
       "    console.log(this.responseText);\n",
       "  }\n",
       "\n",
       "  const oReq = new XMLHttpRequest();\n",
       "  oReq.addEventListener(\"load\", reqListener);\n",
       "  oReq.open(\"GET\", el.title);\n",
       "  oReq.send();\n",
       "\n",
       "\n",
       "  //iframe.src = el.title;\n",
       "  const resultPane = document.querySelector(panelName + \"-pane\");\n",
       "  if (resultPane.classList.contains(\"hidden\")) {\n",
       "    resultPane.classList.remove(\"hidden\");\n",
       "  }\n",
       "}\n",
       "function closePanel(el) {\n",
       "  const panelName = \"#\" + el.getAttribute('paneName')\n",
       "  const resultPane = document.querySelector(panelName + \"-pane\");\n",
       "  if (!resultPane.classList.contains(\"hidden\")) {\n",
       "    resultPane.classList.add(\"hidden\");\n",
       "  }\n",
       "}\n",
       "\n",
       "</script>\n",
       "<div class=\"master-wrapper\">\n",
       "  <div class=\"block master-tbl\"><div>\n",
       "<style scoped>\n",
       "    .dataframe tbody tr th:only-of-type {\n",
       "        vertical-align: middle;\n",
       "    }\n",
       "\n",
       "    .dataframe tbody tr th {\n",
       "        vertical-align: top;\n",
       "    }\n",
       "\n",
       "    .dataframe thead th {\n",
       "        text-align: right;\n",
       "    }\n",
       "</style>\n",
       "<table border=\"1\" class=\"dataframe\">\n",
       "  <thead>\n",
       "    <tr style=\"text-align: right;\">\n",
       "      <th>project</th>\n",
       "      <th>uid</th>\n",
       "      <th>iter</th>\n",
       "      <th>start</th>\n",
       "      <th>state</th>\n",
       "      <th>name</th>\n",
       "      <th>labels</th>\n",
       "      <th>inputs</th>\n",
       "      <th>parameters</th>\n",
       "      <th>results</th>\n",
       "      <th>artifacts</th>\n",
       "    </tr>\n",
       "  </thead>\n",
       "  <tbody>\n",
       "    <tr>\n",
       "      <td>fm-hvd</td>\n",
       "      <td><div title=\"6add72c8d2a34ed39dfab1b6b5f759e7\"><a href=\"https://mlrun-ui.default-tenant.app.dev6.lab.iguazeng.com/projects/fm-hvd/jobs/6add72c8d2a34ed39dfab1b6b5f759e7/info\" target=\"_blank\" >...b5f759e7</a></div></td>\n",
       "      <td>0</td>\n",
       "      <td>Dec 20 12:59:28</td>\n",
       "      <td>completed</td>\n",
       "      <td>2-replica</td>\n",
       "      <td><div class=\"dictlist\">v3io_user=idanb</div><div class=\"dictlist\">kind=mpijob</div><div class=\"dictlist\">owner=idanb</div><div class=\"dictlist\">mlrun/job=2-replica-569ced8d</div><div class=\"dictlist\">host=2-replica-569ced8d-worker-0</div></td>\n",
       "      <td></td>\n",
       "      <td><div class=\"dictlist\">epochs=50</div><div class=\"dictlist\">batch_size=32</div><div class=\"dictlist\">imgs=/User/artifacts/fm-images/images</div><div class=\"dictlist\">annot=/User/artifacts/fm-images/annotations</div><div class=\"dictlist\">model_artifacts=/User/demos/winjit/models</div><div class=\"dictlist\">image_width=224</div><div class=\"dictlist\">image_height=224</div><div class=\"dictlist\">image_channels=3</div><div class=\"dictlist\">random_state=1</div><div class=\"dictlist\">test_size=0.3</div></td>\n",
       "      <td><div class=\"dictlist\">loss=0.21965450048446655</div><div class=\"dictlist\">accuracy=0.9140625</div></td>\n",
       "      <td><div class=\"artifact\" onclick=\"expandPanel(this)\" paneName=\"result14bf9ee9\" title=\"/files/demos/winjit/models/training-summary.html\">summary.html</div><div title=\"/User/demos/winjit/models/model-weights.h5\">model-weights</div><div title=\"/User/demos/winjit/models\">model</div></td>\n",
       "    </tr>\n",
       "  </tbody>\n",
       "</table>\n",
       "</div></div>\n",
       "  <div id=\"result14bf9ee9-pane\" class=\"right-pane block hidden\">\n",
       "    <div class=\"pane-header\">\n",
       "      <span id=\"result14bf9ee9-title\" class=\"pane-header-title\">Title</span>\n",
       "      <span onclick=\"closePanel(this)\" paneName=\"result14bf9ee9\" class=\"close clickable\">&times;</span>\n",
       "    </div>\n",
       "    <iframe class=\"fileview\" id=\"result14bf9ee9-body\"></iframe>\n",
       "  </div>\n",
       "</div>\n"
      ],
      "text/plain": [
       "<IPython.core.display.HTML object>"
      ]
     },
     "metadata": {},
     "output_type": "display_data"
    },
    {
     "name": "stdout",
     "output_type": "stream",
     "text": [
      "to track results use .show() or .logs() or in CLI: \n",
      "!mlrun get run 6add72c8d2a34ed39dfab1b6b5f759e7 --project fm-hvd , !mlrun logs 6add72c8d2a34ed39dfab1b6b5f759e7 --project fm-hvd\n",
      "> 2020-12-20 13:04:17,083 [info] run executed, status=completed\n"
     ]
    },
    {
     "data": {
      "text/plain": [
       "<mlrun.model.RunObject at 0x7f328d24e790>"
      ]
     },
     "execution_count": 14,
     "metadata": {},
     "output_type": "execute_result"
    }
   ],
   "source": [
    "# set up functions params for testing \n",
    "epochs = 50\n",
    "replicas = 2\n",
    "batch_size = 32\n",
    "\n",
    "trainer.spec.replicas = replicas\n",
    "\n",
    "# the image_pull_policy param is set in order to use the image \n",
    "# we just built in the cell above\n",
    "trainer.spec.image_pull_policy = 'Always'\n",
    "\n",
    "# mount v3io (database) for shared data access \n",
    "# between our k8s pod and our file system (data containers)\n",
    "trainer.apply(mlrun.mount_v3io())\n",
    "\n",
    "task = mlrun.NewTask(name=f'{replicas}-replica',\n",
    "                     params={'epochs'        : epochs,\n",
    "                            'batch_size'     : batch_size,\n",
    "                            'imgs'           : images_path + '/images',\n",
    "                            'annot'          : images_path + '/annotations',\n",
    "                            'model_artifacts': model_path})\n",
    "\n",
    "# allows the user to filter the NCCL_DEBUG=INFO output based on subsystems. \n",
    "# A comma separated list of the subsystems to include in the NCCL debug log traces\n",
    "trainer.spec.args.append('-x NCCL_DEBUG=INFO')\n",
    "\n",
    "# This bool directly controls whether the no_new_privs flag gets set \n",
    "# on the container process. This flag will prevent setuid binaries \n",
    "# from changing the effective user ID, and prevent files from \n",
    "# enabling extra capabilities (e.g. it will prevent the use of the ping tool). \n",
    "# This behavior is required to effectively enforce MustRunAsNonRoot.\n",
    "trainer.spec.allowPrivilegeEscalation = True\n",
    "\n",
    "# if you like to test your function run the \n",
    "# new task below otherwise move to next cell.\n",
    "trainer.run(task)"
   ]
  },
  {
   "cell_type": "markdown",
   "metadata": {},
   "source": [
    "# Set Serving Function Based on Trained Model"
   ]
  },
  {
   "cell_type": "code",
   "execution_count": 15,
   "metadata": {},
   "outputs": [],
   "source": [
    "# set a serving function from notebook into our project \n",
    "# we can set functions from .py, .ipynb files and from mlrun functions hub ('hub://tf2_serving')\n",
    "# the list of funcitons can be found here : https://github.com/mlrun/functions\n",
    "serv = hvdproj.set_function(os.path.abspath('./')+ '/tf2_serving.ipynb','serving')"
   ]
  },
  {
   "cell_type": "code",
   "execution_count": 16,
   "metadata": {},
   "outputs": [
    {
     "data": {
      "text/plain": [
       "<mlrun.runtimes.function.RemoteRuntime at 0x7f328d2e3f50>"
      ]
     },
     "execution_count": 16,
     "metadata": {},
     "output_type": "execute_result"
    }
   ],
   "source": [
    "# mount v3io (database) for shared data access between our k8s pod \n",
    "# and our file system (data containers)\n",
    "serv.apply(mlrun.mount_v3io())"
   ]
  },
  {
   "cell_type": "code",
   "execution_count": 17,
   "metadata": {},
   "outputs": [
    {
     "data": {
      "text/plain": [
       "<mlrun.runtimes.function.RemoteRuntime at 0x7f328d2e3f50>"
      ]
     },
     "execution_count": 17,
     "metadata": {},
     "output_type": "execute_result"
    }
   ],
   "source": [
    "# set the functions params for our serving function\n",
    "function_envs = {\n",
    "    'IMAGE_HEIGHT': 224,\n",
    "    'IMAGE_WIDTH': 224,\n",
    "    'SERVING_MODEL_model': os.path.join(model_path, 'model.h5'),\n",
    "    'MODEL_CLASS': 'TFModel' #class in tf2_serveing notebook\n",
    "}\n",
    "serv.set_envs(function_envs)"
   ]
  },
  {
   "cell_type": "markdown",
   "metadata": {},
   "source": [
    "## Deploy the serving function to the cluster"
   ]
  },
  {
   "cell_type": "code",
   "execution_count": 18,
   "metadata": {},
   "outputs": [
    {
     "name": "stdout",
     "output_type": "stream",
     "text": [
      "> 2020-12-20 13:10:03,972 [info] deploy started\n",
      "[nuclio] 2020-12-20 13:10:06,101 (info) Build complete\n",
      "[nuclio] 2020-12-20 13:10:24,352 (info) Function deploy complete\n",
      "[nuclio] 2020-12-20 13:10:24,360 done updating fm-hvd-serving, function address: 192.168.224.209:31197\n"
     ]
    }
   ],
   "source": [
    "addr = serv.deploy(project='fm-hvd')"
   ]
  },
  {
   "cell_type": "markdown",
   "metadata": {},
   "source": [
    "## Test the deployed function on the cluster"
   ]
  },
  {
   "cell_type": "code",
   "execution_count": 19,
   "metadata": {},
   "outputs": [],
   "source": [
    "import requests\n",
    "from PIL import Image\n",
    "from io import BytesIO\n",
    "import matplotlib.pyplot as plt\n",
    "import ast\n",
    "import numpy as np"
   ]
  },
  {
   "cell_type": "markdown",
   "metadata": {},
   "source": [
    "### Test the deployed function (with URL)"
   ]
  },
  {
   "cell_type": "code",
   "execution_count": 20,
   "metadata": {},
   "outputs": [
    {
     "name": "stdout",
     "output_type": "stream",
     "text": [
      "Test image:\n"
     ]
    },
    {
     "data": {
      "text/plain": [
       "<matplotlib.image.AxesImage at 0x7f328bd6ae50>"
      ]
     },
     "execution_count": 20,
     "metadata": {},
     "output_type": "execute_result"
    },
    {
     "data": {
      "image/png": "[encoded data removed]",
      "text/plain": [
       "<Figure size 432x288 with 1 Axes>"
      ]
     },
     "metadata": {
      "needs_background": "light"
     },
     "output_type": "display_data"
    }
   ],
   "source": [
    "# get and open an image from web\n",
    "image_url = 'https://image.shutterstock.com/image-photo/health-pandemic-safety-concept-african-260nw-1725434656.jpg'\n",
    "response = requests.get(image_url)\n",
    "image = response.content\n",
    "img = Image.open(BytesIO(image))\n",
    "\n",
    "print('Test image:')\n",
    "plt.imshow(img)"
   ]
  },
  {
   "cell_type": "code",
   "execution_count": 21,
   "metadata": {},
   "outputs": [
    {
     "data": {
      "text/plain": [
       "'{\"Mask probability\": 0.8458470702171326}'"
      ]
     },
     "execution_count": 21,
     "metadata": {},
     "output_type": "execute_result"
    }
   ],
   "source": [
    "# set our serverless serving function address \n",
    "addr = 'http://nuclio-{}-{}:8080'.format(hvdproj.name, hvdproj.func('serving').metadata.name)\n",
    "\n",
    "headers = {'Content-type': 'image/jpeg'}\n",
    "url = addr + f'/model/predict'\n",
    "\n",
    "# invoke our function by https request\n",
    "response = requests.post(url=url, \n",
    "                         data=image, \n",
    "                         headers=headers)\n",
    "# decode our request\n",
    "response.content.decode('utf-8')"
   ]
  },
  {
   "cell_type": "markdown",
   "metadata": {},
   "source": [
    "## Setup Kubeflow Pipeline\n",
    "Register the source images directory as a project artifact (can be accessed by name)"
   ]
  },
  {
   "cell_type": "code",
   "execution_count": 23,
   "metadata": {},
   "outputs": [],
   "source": [
    "hvdproj.log_artifact(\n",
    "    'images', \n",
    "    target_path='https://s3.wasabisys.com/iguazio/data/masks_no_masks/archive.zip',\n",
    "    artifact_path=mlrun.mlconf.artifact_path)"
   ]
  },
  {
   "cell_type": "code",
   "execution_count": 24,
   "metadata": {},
   "outputs": [
    {
     "name": "stdout",
     "output_type": "stream",
     "text": [
      "Overwriting workflow.py\n"
     ]
    }
   ],
   "source": [
    "%%writefile workflow.py\n",
    "from kfp import dsl\n",
    "import mlrun\n",
    "\n",
    "funcs = {}\n",
    "epochs = 70\n",
    "replicas = 2\n",
    "batch_size = 32\n",
    "\n",
    "def init_functions(functions: dict, project=None, secrets=None):\n",
    "    '''\n",
    "    This function will run before running the project.\n",
    "    It allows us to add our specific system configurations to the functions\n",
    "    like mounts or secrets if needed.\n",
    "\n",
    "    In this case we will add Iguazio's user mount to our functions using the\n",
    "    `mount_v3io()` function to automatically set the mount with the needed\n",
    "    variables taken from the environment. \n",
    "    * mount_v3io can be replaced with mlrun.platforms.mount_pvc() for \n",
    "    non-iguazio mount\n",
    "\n",
    "    :param functions:  <function_name: function_yaml> dict of functions in the\n",
    "                        workflow\n",
    "    :param project:    project object\n",
    "    :param secrets:    secrets required for the functions for s3 connections and\n",
    "                       such\n",
    "    '''\n",
    "    for f in functions.values():\n",
    "        f.apply(mlrun.mount_v3io())            # On Iguazio (Auto-mount /User)\n",
    "        # f.apply(mlrun.platforms.mount_pvc()) # Non-Iguazio mount\n",
    "        \n",
    "    functions['serving'].set_env('MODEL_CLASS', 'TFModel')\n",
    "    functions['serving'].set_env('IMAGE_HEIGHT', '224')\n",
    "    functions['serving'].set_env('IMAGE_WIDTH', '224')\n",
    "    functions['serving'].set_env('ENABLE_EXPLAINER', 'False')\n",
    "    functions['serving'].spec.min_replicas = 1\n",
    "    \n",
    "@dsl.pipeline(\n",
    "    name='Image classification demo',\n",
    "    description='Train an Image Classification TF Algorithm using MLRun'\n",
    ")\n",
    "def kfpipeline(\n",
    "    # setup pipeline params\n",
    "        image_archive='store:///images',\n",
    "        target_path='/User/artifacts/fm-images',\n",
    "        checkpoints_dir='/User/artifacts/models/checkpoints',\n",
    "        model_name='mask_vs_no_mask'):\n",
    "\n",
    "    # step 1: download images\n",
    "    open_archive = funcs['utils'].as_step(name='download_and_open',\n",
    "                                          handler='open_archive',\n",
    "                                          params={'target_path': target_path},\n",
    "                                          inputs={'archive_url': image_archive},\n",
    "                                          outputs=['content'])\n",
    "\n",
    "    # step 2: deploy out serveless training function and train a model\n",
    "    # get the output of step 1 and use it as source dir\n",
    "    source_dir = str(open_archive.outputs['content'])\n",
    "    source_dir_images = source_dir +'/images'\n",
    "    source_dir_annot = source_dir +'/annotations'\n",
    "    \n",
    "    # deploy our trainer function \n",
    "    deploy_train = funcs['trainer'].deploy_step(skip_deployed=True)\n",
    "    deploy_train.after(open_archive)\n",
    "    \n",
    "    # train our model\n",
    "    train = funcs['trainer'].as_step(name='train',\n",
    "                                     params={'epochs'         : epochs,\n",
    "                                             'batch_size'     : batch_size,\n",
    "                                             'imgs'           : source_dir_images,\n",
    "                                             'annot'          : source_dir_annot,\n",
    "                                             'model_artifacts': checkpoints_dir},\n",
    "                                     outputs=['model'],\n",
    "                                     image=deploy_train.outputs['image'])\n",
    "    \n",
    "    # the image_pull_policy param is set in order to use the image \n",
    "    # we just built in the cell above\n",
    "    train.container.set_image_pull_policy('Always')\n",
    "    \n",
    "    # set timeout in case the pipeline takes time\n",
    "    train.set_timeout(214748364)\n",
    "    train.after(deploy_train)\n",
    "    \n",
    "    # step 3: deploy the model using nuclio functions\n",
    "    deploy = funcs['serving'].deploy_step(models={model_name: train.outputs['model']})\n",
    "    deploy.after(train)"
   ]
  },
  {
   "cell_type": "code",
   "execution_count": 25,
   "metadata": {},
   "outputs": [],
   "source": [
    "# set the workflow in our MLRun project\n",
    "hvdproj.set_workflow('main', os.path.join(os.path.abspath('./'),'workflow.py'), embed=True)"
   ]
  },
  {
   "cell_type": "code",
   "execution_count": 26,
   "metadata": {},
   "outputs": [],
   "source": [
    "# save the workflow in our MLRun project\n",
    "hvdproj.save()"
   ]
  },
  {
   "cell_type": "code",
   "execution_count": 27,
   "metadata": {},
   "outputs": [
    {
     "name": "stdout",
     "output_type": "stream",
     "text": [
      "> 2020-12-20 13:11:34,430 [info] using in-cluster config.\n"
     ]
    },
    {
     "data": {
      "text/html": [
       "Experiment link <a href=\"https://dashboard.default-tenant.app.dev6.lab.iguazeng.com/pipelines/#/experiments/details/f919b282-89f6-4b66-b1f4-ee41230081aa\" target=\"_blank\" >here</a>"
      ],
      "text/plain": [
       "<IPython.core.display.HTML object>"
      ]
     },
     "metadata": {},
     "output_type": "display_data"
    },
    {
     "data": {
      "text/html": [
       "Run link <a href=\"https://dashboard.default-tenant.app.dev6.lab.iguazeng.com/pipelines/#/runs/details/97a2d0ee-ac3c-4ace-b027-2fd5663888c4\" target=\"_blank\" >here</a>"
      ],
      "text/plain": [
       "<IPython.core.display.HTML object>"
      ]
     },
     "metadata": {},
     "output_type": "display_data"
    },
    {
     "name": "stdout",
     "output_type": "stream",
     "text": [
      "> 2020-12-20 13:11:34,829 [info] Pipeline run id=97a2d0ee-ac3c-4ace-b027-2fd5663888c4, check UI or DB for progress\n",
      "> 2020-12-20 13:11:34,830 [info] waiting for pipeline run completion\n"
     ]
    },
    {
     "data": {
      "text/html": [
       "<h2>Run Results</h2>Workflow 97a2d0ee-ac3c-4ace-b027-2fd5663888c4 finished, status=Succeeded<br>click the hyper links below to see detailed results<br><table border=\"1\" class=\"dataframe\">\n",
       "  <thead>\n",
       "    <tr style=\"text-align: right;\">\n",
       "      <th>uid</th>\n",
       "      <th>start</th>\n",
       "      <th>state</th>\n",
       "      <th>name</th>\n",
       "      <th>results</th>\n",
       "      <th>artifacts</th>\n",
       "    </tr>\n",
       "  </thead>\n",
       "  <tbody>\n",
       "    <tr>\n",
       "      <td><div title=\"cd4930de82b44cbda9d42e1eefa3dd1d\"><a href=\"https://mlrun-ui.default-tenant.app.dev6.lab.iguazeng.com/projects/fm-hvd/jobs/cd4930de82b44cbda9d42e1eefa3dd1d/info\" target=\"_blank\" >...efa3dd1d</a></div></td>\n",
       "      <td>Dec 20 13:13:55</td>\n",
       "      <td>completed</td>\n",
       "      <td>train</td>\n",
       "      <td><div class=\"dictlist\">loss=0.2856277823448181</div><div class=\"dictlist\">accuracy=0.9140625</div></td>\n",
       "      <td><div class=\"artifact\" onclick=\"expandPanel(this)\" paneName=\"result\" title=\"/files/artifacts/models/checkpoints/training-summary.html\">summary.html</div><div title=\"/User/artifacts/models/checkpoints/model-weights.h5\">model-weights</div><div title=\"/User/artifacts/models/checkpoints\">model</div></td>\n",
       "    </tr>\n",
       "    <tr>\n",
       "      <td><div title=\"e4e26381a3e24ec1a1363b6205c2fb90\"><a href=\"https://mlrun-ui.default-tenant.app.dev6.lab.iguazeng.com/projects/fm-hvd/jobs/e4e26381a3e24ec1a1363b6205c2fb90/info\" target=\"_blank\" >...05c2fb90</a></div></td>\n",
       "      <td>Dec 20 13:11:44</td>\n",
       "      <td>completed</td>\n",
       "      <td>download_and_open</td>\n",
       "      <td></td>\n",
       "      <td><div title=\"/User/artifacts/fm-images\">content</div></td>\n",
       "    </tr>\n",
       "  </tbody>\n",
       "</table>"
      ],
      "text/plain": [
       "<IPython.core.display.HTML object>"
      ]
     },
     "metadata": {},
     "output_type": "display_data"
    }
   ],
   "source": [
    "# create dir for every pipeline run\n",
    "artifact_path = os.path.abspath('./pipe/{{workflow.uid}}')\n",
    "\n",
    "# run the pipeline\n",
    "run_id = hvdproj.run(\n",
    "    'main',\n",
    "    arguments={'model_name': 'model'}, \n",
    "    artifact_path=artifact_path, \n",
    "    dirty=True, watch=True)"
   ]
  },
  {
   "cell_type": "markdown",
   "metadata": {},
   "source": [
    "### Test the deployed function from our pipeline (with URL)"
   ]
  },
  {
   "cell_type": "code",
   "execution_count": 28,
   "metadata": {},
   "outputs": [
    {
     "name": "stdout",
     "output_type": "stream",
     "text": [
      "Test image:\n"
     ]
    },
    {
     "data": {
      "text/plain": [
       "<matplotlib.image.AxesImage at 0x7f328bc44bd0>"
      ]
     },
     "execution_count": 28,
     "metadata": {},
     "output_type": "execute_result"
    },
    {
     "data": {
      "image/png": "[encoded data removed]",
      "text/plain": [
       "<Figure size 432x288 with 1 Axes>"
      ]
     },
     "metadata": {
      "needs_background": "light"
     },
     "output_type": "display_data"
    }
   ],
   "source": [
    "image_url = 'https://image.shutterstock.com/image-photo/health-pandemic-safety-concept-african-260nw-1725434656.jpg'\n",
    "response = requests.get(image_url)\n",
    "image = response.content\n",
    "img = Image.open(BytesIO(image))\n",
    "\n",
    "print('Test image:')\n",
    "plt.imshow(img)"
   ]
  },
  {
   "cell_type": "code",
   "execution_count": 29,
   "metadata": {},
   "outputs": [
    {
     "data": {
      "text/plain": [
       "'{\"Mask probability\": 0.8379970788955688}'"
      ]
     },
     "execution_count": 29,
     "metadata": {},
     "output_type": "execute_result"
    }
   ],
   "source": [
    "# set our serverless serving function address \n",
    "addr = 'http://nuclio-{}-{}:8080'.format(hvdproj.name, hvdproj.func('serving').metadata.name)\n",
    "\n",
    "headers = {'Content-type': 'image/jpeg'}\n",
    "url = addr + f'/model/predict'\n",
    "\n",
    "# invoke our function by https request\n",
    "response = requests.post(url=url, \n",
    "                         data=image, \n",
    "                         headers=headers)\n",
    "# decode our request\n",
    "response.content.decode('utf-8')"
   ]
  },
  {
   "cell_type": "code",
   "execution_count": null,
   "metadata": {},
   "outputs": [],
   "source": []
  }
 ],
 "metadata": {
  "kernelspec": {
   "display_name": "Python 3",
   "language": "python",
   "name": "python3"
  },
  "language_info": {
   "codemirror_mode": {
    "name": "ipython",
    "version": 3
   },
   "file_extension": ".py",
   "mimetype": "text/x-python",
   "name": "python",
   "nbconvert_exporter": "python",
   "pygments_lexer": "ipython3",
   "version": "3.7.6"
  }
 },
 "nbformat": 4,
 "nbformat_minor": 4
}