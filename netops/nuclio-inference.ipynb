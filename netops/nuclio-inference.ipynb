{
 "cells": [
  {
   "cell_type": "markdown",
   "metadata": {},
   "source": [
    "# Nuclio - Infer function"
   ]
  },
  {
   "cell_type": "markdown",
   "metadata": {},
   "source": [
    "## Environment"
   ]
  },
  {
   "cell_type": "code",
   "execution_count": 1,
   "metadata": {},
   "outputs": [],
   "source": [
    "# nuclio: ignore\n",
    "import nuclio"
   ]
  },
  {
   "cell_type": "markdown",
   "metadata": {},
   "source": [
    "### Configurations"
   ]
  },
  {
   "cell_type": "code",
   "execution_count": 2,
   "metadata": {},
   "outputs": [
    {
     "name": "stdout",
     "output_type": "stream",
     "text": [
      "%nuclio: setting spec.triggers.retrain.kind to 'cron'\n",
      "%nuclio: setting spec.triggers.retrain.attributes.interval to '1h'\n",
      "%nuclio: setting spec.build.baseImage to 'python:3.6-jessie'\n"
     ]
    }
   ],
   "source": [
    "%%nuclio config\n",
    "\n",
    "# Trigger\n",
    "spec.triggers.retrain.kind = \"cron\"\n",
    "spec.triggers.retrain.attributes.interval = \"1h\"\n",
    "\n",
    "# Base image\n",
    "spec.build.baseImage = \"python:3.6-jessie\""
   ]
  },
  {
   "cell_type": "markdown",
   "metadata": {},
   "source": [
    "### Variables"
   ]
  },
  {
   "cell_type": "code",
   "execution_count": 19,
   "metadata": {},
   "outputs": [],
   "source": [
    "# DB Config\n",
    "%nuclio env %v3io"
   ]
  },
  {
   "cell_type": "code",
   "execution_count": 18,
   "metadata": {},
   "outputs": [
    {
     "name": "stdout",
     "output_type": "stream",
     "text": [
      "%nuclio: setting 'FROM_TSDB' environment variable\n",
      "%nuclio: setting '# FEATURES_TABLE' environment variable\n",
      "%nuclio: setting 'FEATURES_TABLE' environment variable\n",
      "%nuclio: setting '# PREDICTIONS_TABLE' environment variable\n",
      "%nuclio: setting 'PREDICTIONS_TABLE' environment variable\n",
      "%nuclio: setting 'TRAIN_ON_LAST' environment variable\n",
      "%nuclio: setting 'TRAIN_SIZE' environment variable\n",
      "%nuclio: setting 'NUMBER_OF_SHARDS' environment variable\n",
      "%nuclio: setting '# MODEL_FILENAME' environment variable\n",
      "%nuclio: setting 'MODEL_FILENAME' environment variable\n",
      "%nuclio: setting 'SOURCE_MODEL_DIR' environment variable\n",
      "%nuclio: setting 'FIXED_WEB_DIR' environment variable\n"
     ]
    },
    {
     "name": "stderr",
     "output_type": "stream",
     "text": [
      "%nuclio: cannot find \"=\" in line\n",
      "%nuclio: cannot find \"=\" in line\n",
      "%nuclio: cannot find \"=\" in line\n",
      "%nuclio: cannot find \"=\" in line\n",
      "%nuclio: cannot find \"=\" in line\n",
      "%nuclio: cannot find \"=\" in line\n"
     ]
    }
   ],
   "source": [
    "%%nuclio env\n",
    "\n",
    "# Work from TSDB or Parquet?\n",
    "FROM_TSDB=0\n",
    "\n",
    "# Features\n",
    "# FEATURES_TABLE=netops_features\n",
    "FEATURES_TABLE=/v3io/bigdata/netops_features_parquet\n",
    "\n",
    "# Predictions\n",
    "# PREDICTIONS_TABLE=netops_predictions\n",
    "PREDICTIONS_TABLE=/v3io/bigdata/netops_predictions_parquet\n",
    "\n",
    "# Training\n",
    "TRAIN_ON_LAST=1d\n",
    "TRAIN_SIZE=0.7\n",
    "\n",
    "# Parallelizem\n",
    "NUMBER_OF_SHARDS=4\n",
    "\n",
    "# Model\n",
    "# MODEL_FILENAME=netops.model.pickle\n",
    "MODEL_FILENAME=netops.v3.model.pickle\n",
    "SOURCE_MODEL_DIR=/bigdata/netops/models\n",
    "FIXED_WEB_DIR=/models"
   ]
  },
  {
   "cell_type": "code",
   "execution_count": 4,
   "metadata": {},
   "outputs": [
    {
     "name": "stdout",
     "output_type": "stream",
     "text": [
      "%nuclio: setting 'CURRENT_MODEL_DIR' environment variable\n"
     ]
    }
   ],
   "source": [
    "%nuclio env -c CURRENT_MODEL_DIR=/models\n",
    "%nuclio env -l CURRENT_MODEL_DIR=/v3io/bigdata/netops/models"
   ]
  },
  {
   "cell_type": "markdown",
   "metadata": {},
   "source": [
    "### Commands"
   ]
  },
  {
   "cell_type": "code",
   "execution_count": 5,
   "metadata": {},
   "outputs": [],
   "source": [
    "%%nuclio cmd -c\n",
    "\n",
    "############\n",
    "# installs #\n",
    "############\n",
    "\n",
    "# Utils\n",
    "pip install pyarrow\n",
    "pip install pandas\n",
    "\n",
    "# Igz DB\n",
    "pip install v3io_frames --upgrade\n",
    "\n",
    "# Function\n",
    "pip install xgboost\n",
    "pip install scikit-learn==0.20.1\n",
    "\n",
    "apt-get update && apt-get install -y wget\n",
    "mkdir -p ${FIXED_WEB_DIR}"
   ]
  },
  {
   "cell_type": "code",
   "execution_count": 6,
   "metadata": {},
   "outputs": [],
   "source": [
    "%%nuclio cmd -c \n",
    "# Copy the model file into the function\n",
    "wget -O ${FIXED_WEB_DIR}/${MODEL_FILENAME} --header \"x-v3io-session-key: ${V3IO_ACCESS_KEY}\" http://${V3IO_WEBAPI_SERVICE_HOST}:8081${SOURCE_MODEL_DIR}/${MODEL_FILENAME}"
   ]
  },
  {
   "cell_type": "markdown",
   "metadata": {},
   "source": [
    "## Function"
   ]
  },
  {
   "cell_type": "markdown",
   "metadata": {},
   "source": [
    "### Imports"
   ]
  },
  {
   "cell_type": "code",
   "execution_count": 7,
   "metadata": {},
   "outputs": [],
   "source": [
    "import os\n",
    "import pickle\n",
    "\n",
    "import v3io_frames as v3f\n",
    "\n",
    "import pandas as pd\n",
    "import xgboost as xgb"
   ]
  },
  {
   "cell_type": "markdown",
   "metadata": {},
   "source": [
    "### Helper functions"
   ]
  },
  {
   "cell_type": "code",
   "execution_count": 8,
   "metadata": {},
   "outputs": [],
   "source": [
    "def format_df_from_tsdb(context, df):\n",
    "    df.index.names = ['timestamp', 'company', 'data_center', 'device']\n",
    "    return df"
   ]
  },
  {
   "cell_type": "code",
   "execution_count": 9,
   "metadata": {},
   "outputs": [],
   "source": [
    "def set_indexes(df):\n",
    "    df = df.set_index(['timestamp', 'company', 'data_center', 'device'])\n",
    "    return df"
   ]
  },
  {
   "cell_type": "code",
   "execution_count": 10,
   "metadata": {},
   "outputs": [],
   "source": [
    "def get_data_tsdb(context):\n",
    "    df = context.v3f.read(backend='tsdb', query=f'select * from {context.features_table}',\n",
    "                          start=f'now-{context.train_on_last}', end='now', multi_index=True)\n",
    "    df = format_df_from_tsdb(context, df)\n",
    "    \n",
    "    # Keep columns\n",
    "    keep_columns = [col for col in df.columns if 'is_error' not in col]\n",
    "    \n",
    "    # Keep good columns and Sort them\n",
    "    df = df[sorted(keep_columns)]\n",
    "    print(df.columns)\n",
    "    \n",
    "    return df"
   ]
  },
  {
   "cell_type": "code",
   "execution_count": 11,
   "metadata": {},
   "outputs": [],
   "source": [
    "def get_data_parquet(context):\n",
    "    # Get parquet files\n",
    "    mpath = [os.path.join(context.features_table, file) for file in os.listdir(context.features_table)]\n",
    "    \n",
    "    # Get latest filename\n",
    "    latest = max(mpath, key=os.path.getmtime)\n",
    "    print(latest)\n",
    "    context.logger.debug(f'Reading data from: {latest}')\n",
    "    \n",
    "    # Load parquet to dask\n",
    "    df = pd.read_parquet(latest)\n",
    "    \n",
    "    # Keep columns\n",
    "    keep_columns = [col for col in df.columns if 'is_error' not in col]\n",
    "    \n",
    "    # Keep good columns and Sort them\n",
    "    df = df[sorted(keep_columns)]\n",
    "    \n",
    "    return df"
   ]
  },
  {
   "cell_type": "code",
   "execution_count": 12,
   "metadata": {},
   "outputs": [],
   "source": [
    "def save_to_tsdb(context, df: pd.DataFrame):   \n",
    "    # Fix indexes before saving to TSDB\n",
    "    df = set_indexes(df)\n",
    "    \n",
    "    # Save to TSDB\n",
    "    context.v3f.write('tsdb', context.predictions_table, df)"
   ]
  },
  {
   "cell_type": "code",
   "execution_count": 13,
   "metadata": {},
   "outputs": [],
   "source": [
    "def save_to_parquet(context, df: pd.DataFrame):\n",
    "    print('Saving features to Parquet')\n",
    "    \n",
    "    # Need to fix timestamps from ns to ms if we write to parquet\n",
    "    df = df.reset_index()\n",
    "    df['timestamp'] = df.loc[:, 'timestamp'].astype('datetime64[ms]')\n",
    "    \n",
    "    # Fix indexes\n",
    "    df= set_indexes(df)\n",
    "    \n",
    "    # Save parquet\n",
    "    first_timestamp = df.index[0][0].strftime('%Y%m%dT%H%M%S')\n",
    "    last_timestamp = df.index[-1][0].strftime('%Y%m%dT%H%M%S')\n",
    "    filename = first_timestamp + '-' + last_timestamp + '.parquet'\n",
    "    filepath = os.path.join(context.predictions_table, filename)\n",
    "    with open(filepath, 'wb+') as f:\n",
    "        df.to_parquet(f)"
   ]
  },
  {
   "cell_type": "markdown",
   "metadata": {},
   "source": [
    "### Init context"
   ]
  },
  {
   "cell_type": "code",
   "execution_count": 14,
   "metadata": {},
   "outputs": [],
   "source": [
    "def init_context(context):\n",
    "    \n",
    "    # Save features directory\n",
    "    features_table = os.getenv('FEATURES_TABLE', 'netops_features')\n",
    "    setattr(context, 'features_table', features_table)\n",
    "    \n",
    "    # Save predictions directory\n",
    "    predictions_table = os.getenv('PREDICTIONS_TABLE', 'netops_predictions')\n",
    "    setattr(context, 'predictions_table', predictions_table)\n",
    "    \n",
    "    # Get saving configuration\n",
    "    is_from_tsdb = (int(os.getenv('FROM_TSDB', 1)) == 1)\n",
    "    \n",
    "    # Save to TSDB\n",
    "    if is_from_tsdb:\n",
    "        # Create our DB client\n",
    "        v3io_client = v3f.Client(address='framesd:8081', container='bigdata')\n",
    "        setattr(context, 'v3f', v3io_client)\n",
    "        \n",
    "        # Create predictions table if neede\n",
    "        context.v3f.create('tsdb', context.predictions_table, attrs={'rate': '1/s'}, if_exists=1)\n",
    "        \n",
    "        train_on_last = os.getenv('TRAIN_ON_LAST', '1h')\n",
    "        setattr(context, 'train_on_last', train_on_last)\n",
    "        \n",
    "        # Set TSDB reading function\n",
    "        setattr(context, 'read', get_data_tsdb)\n",
    "        \n",
    "        # Set TSDB saving function\n",
    "        setattr(context, 'write', save_to_tsdb)\n",
    "        \n",
    "    # Save to Parquet\n",
    "    else:\n",
    "         # Create saving directory if needed\n",
    "        filepath = os.path.join(context.predictions_table)\n",
    "        if not os.path.exists(filepath):\n",
    "            os.makedirs(filepath)\n",
    "            \n",
    "        # Set Parquet reading function\n",
    "        setattr(context, 'read', get_data_parquet)\n",
    "        \n",
    "        # Set Parquet saving function\n",
    "        setattr(context, 'write', save_to_parquet)\n",
    "    \n",
    "    # Load the model\n",
    "    model_path = os.path.join(os.getenv('CURRENT_MODEL_DIR', '/models'), os.getenv('MODEL_FILENAME', 'netops.v1.model'))\n",
    "    with open(model_path, 'rb') as f:\n",
    "        model = pickle.load(f)\n",
    "    setattr(context, 'model', model)"
   ]
  },
  {
   "cell_type": "markdown",
   "metadata": {},
   "source": [
    "### Handler"
   ]
  },
  {
   "cell_type": "code",
   "execution_count": 15,
   "metadata": {},
   "outputs": [],
   "source": [
    "def handler(context, event):\n",
    "\n",
    "    # Load last hour data\n",
    "    df = context.read(context)\n",
    "    \n",
    "    # limit for testing\n",
    "    df = df.head(2)\n",
    "    \n",
    "    # Predict\n",
    "    df['prediction'] = context.model.predict(df.values)\n",
    "    \n",
    "    print(df.head(1))\n",
    "    \n",
    "    # Prepare to save predictions\n",
    "    df = df.reset_index()\n",
    "    df = df.rename({'level_0': 'time',\n",
    "                    'level_1': 'company',\n",
    "                    'level_2': 'data_center',\n",
    "                    'level_3': 'device'}, axis=1)\n",
    "    \n",
    "    # Save\n",
    "    context.write(context, df)"
   ]
  },
  {
   "cell_type": "markdown",
   "metadata": {},
   "source": [
    "## Test"
   ]
  },
  {
   "cell_type": "code",
   "execution_count": 16,
   "metadata": {},
   "outputs": [],
   "source": [
    "# nuclio: ignore\n",
    "init_context(context)"
   ]
  },
  {
   "cell_type": "code",
   "execution_count": 17,
   "metadata": {},
   "outputs": [
    {
     "name": "stdout",
     "output_type": "stream",
     "text": [
      "/v3io/bigdata/netops_features_parquet/20191222T133150-20191222T143000.parquet\n",
      "                                                                cpu_utilization  \\\n",
      "timestamp               company    data_center   device                           \n",
      "2019-12-22 13:31:50.280 Wilson_LLC Krystal_Wells 9376248881714        60.221371   \n",
      "\n",
      "                                                                cpu_utilization_hourly  \\\n",
      "timestamp               company    data_center   device                                  \n",
      "2019-12-22 13:31:50.280 Wilson_LLC Krystal_Wells 9376248881714               70.272812   \n",
      "\n",
      "                                                                cpu_utilization_minutely  \\\n",
      "timestamp               company    data_center   device                                    \n",
      "2019-12-22 13:31:50.280 Wilson_LLC Krystal_Wells 9376248881714                 65.188694   \n",
      "\n",
      "                                                                 latency  \\\n",
      "timestamp               company    data_center   device                    \n",
      "2019-12-22 13:31:50.280 Wilson_LLC Krystal_Wells 9376248881714  2.324342   \n",
      "\n",
      "                                                                latency_hourly  \\\n",
      "timestamp               company    data_center   device                          \n",
      "2019-12-22 13:31:50.280 Wilson_LLC Krystal_Wells 9376248881714        2.494616   \n",
      "\n",
      "                                                                latency_minutely  \\\n",
      "timestamp               company    data_center   device                            \n",
      "2019-12-22 13:31:50.280 Wilson_LLC Krystal_Wells 9376248881714          2.928534   \n",
      "\n",
      "                                                                packet_loss  \\\n",
      "timestamp               company    data_center   device                       \n",
      "2019-12-22 13:31:50.280 Wilson_LLC Krystal_Wells 9376248881714          0.0   \n",
      "\n",
      "                                                                packet_loss_hourly  \\\n",
      "timestamp               company    data_center   device                              \n",
      "2019-12-22 13:31:50.280 Wilson_LLC Krystal_Wells 9376248881714            0.711046   \n",
      "\n",
      "                                                                packet_loss_minutely  \\\n",
      "timestamp               company    data_center   device                                \n",
      "2019-12-22 13:31:50.280 Wilson_LLC Krystal_Wells 9376248881714          6.106227e-16   \n",
      "\n",
      "                                                                throughput  \\\n",
      "timestamp               company    data_center   device                      \n",
      "2019-12-22 13:31:50.280 Wilson_LLC Krystal_Wells 9376248881714  241.354545   \n",
      "\n",
      "                                                                throughput_hourly  \\\n",
      "timestamp               company    data_center   device                             \n",
      "2019-12-22 13:31:50.280 Wilson_LLC Krystal_Wells 9376248881714         249.985214   \n",
      "\n",
      "                                                                throughput_minutely  \\\n",
      "timestamp               company    data_center   device                               \n",
      "2019-12-22 13:31:50.280 Wilson_LLC Krystal_Wells 9376248881714           241.810661   \n",
      "\n",
      "                                                                prediction  \n",
      "timestamp               company    data_center   device                     \n",
      "2019-12-22 13:31:50.280 Wilson_LLC Krystal_Wells 9376248881714         1.0  \n",
      "Saving features to Parquet\n"
     ]
    }
   ],
   "source": [
    "# nuclio: ignore\n",
    "event = nuclio.Event(body='')\n",
    "output = handler(context, event)\n",
    "output"
   ]
  },
  {
   "cell_type": "markdown",
   "metadata": {},
   "source": [
    "## Deployment"
   ]
  },
  {
   "cell_type": "code",
   "execution_count": 18,
   "metadata": {},
   "outputs": [
    {
     "name": "stdout",
     "output_type": "stream",
     "text": [
      "[nuclio.deploy] 2019-06-20 14:21:34,851 (info) Building processor image\n",
      "[nuclio.deploy] 2019-06-20 14:22:11,183 (info) Pushing image\n",
      "[nuclio.deploy] 2019-06-20 14:22:37,406 (info) Build complete\n",
      "[nuclio.deploy] 2019-06-20 14:22:41,440 (info) Function deploy complete\n",
      "[nuclio.deploy] 2019-06-20 14:22:41,446 done creating predict, function address: 18.185.111.133:32161\n",
      "%nuclio: function deployed\n"
     ]
    }
   ],
   "source": [
    "%nuclio deploy -p netops -n predict -c"
   ]
  },
  {
   "cell_type": "code",
   "execution_count": null,
   "metadata": {},
   "outputs": [],
   "source": []
  }
 ],
 "metadata": {
  "kernelspec": {
   "display_name": "Python 3",
   "language": "python",
   "name": "python3"
  },
  "language_info": {
   "codemirror_mode": {
    "name": "ipython",
    "version": 3
   },
   "file_extension": ".py",
   "mimetype": "text/x-python",
   "name": "python",
   "nbconvert_exporter": "python",
   "pygments_lexer": "ipython3",
   "version": "3.6.8"
  }
 },
 "nbformat": 4,
 "nbformat_minor": 4
}
