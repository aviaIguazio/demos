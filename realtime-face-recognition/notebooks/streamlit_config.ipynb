{
 "cells": [
  {
   "cell_type": "code",
   "execution_count": 14,
   "metadata": {},
   "outputs": [],
   "source": [
    "import os\n",
    "import yaml\n",
    "def configure_streamlit():\n",
    "    '''\n",
    "    opens the streamlit.yaml configuration file and edit necessary info.\n",
    "    '''\n",
    "    yaml_path = \"/\".join(os.getcwd().split(\"/\")[:-1] + [\"streamlit\",\"streamlit.yaml\"])\n",
    "    with open(yaml_path) as f:\n",
    "        doc = yaml.load_all(f,Loader = yaml.FullLoader)\n",
    "        newDoc = []\n",
    "        for i in doc:\n",
    "            newDoc.append(i)\n",
    "        sys_vars = os.environ\n",
    "        newDoc[0][\"spec\"][\"template\"][\"spec\"][\"containers\"][0][\"env\"][0][\"value\"] = sys_vars[\"V3IO_ACCESS_KEY\"]\n",
    "        newDoc[0][\"spec\"][\"template\"][\"spec\"][\"containers\"][0][\"env\"][0][\"name\"] = \"V3IO_ACCESS_KEY\"\n",
    "        # the frames value should be scraped and not hard coded\n",
    "        newDoc[0][\"spec\"][\"template\"][\"spec\"][\"containers\"][0][\"env\"][1][\"value\"] = \"https://framesd.default-tenant.app.nqtvytntqhmn.iguazio-cd1.com\"#\"http://\" + sys_vars[\"V3IO_FRAMESD\"]\n",
    "        newDoc[0][\"spec\"][\"template\"][\"spec\"][\"containers\"][0][\"env\"][2][\"value\"] = \"/\".join([sys_vars[\"V3IO_USERNAME\"]] + newDoc[0][\"spec\"][\"template\"][\"spec\"][\"containers\"][0][\"env\"][2][\"value\"].split(\"/\")[1:])\n",
    "        newDoc[0][\"spec\"][\"template\"][\"spec\"][\"volumes\"][0][\"flexVolume\"][\"options\"][\"accessKey\"] = sys_vars[\"V3IO_ACCESS_KEY\"]\n",
    "        newDoc[0][\"spec\"][\"template\"][\"spec\"][\"volumes\"][0][\"flexVolume\"][\"options\"][\"subPath\"] = \"/\" + sys_vars[\"V3IO_USERNAME\"]\n",
    "    with open(yaml_path,\"w\") as f:   \n",
    "        yaml.dump_all(newDoc,f,default_flow_style=False)"
   ]
  }
 ],
 "metadata": {
  "kernelspec": {
   "display_name": "Python 3",
   "language": "python",
   "name": "python3"
  },
  "language_info": {
   "codemirror_mode": {
    "name": "ipython",
    "version": 3
   },
   "file_extension": ".py",
   "mimetype": "text/x-python",
   "name": "python",
   "nbconvert_exporter": "python",
   "pygments_lexer": "ipython3",
   "version": "3.7.6"
  }
 },
 "nbformat": 4,
 "nbformat_minor": 4
}
