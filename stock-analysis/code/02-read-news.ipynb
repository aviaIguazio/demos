{
 "cells": [
  {
   "cell_type": "markdown",
   "metadata": {},
   "source": [
    "# Scrape news and Analyse sentiments\n",
    "This notebook shows an example of scraping news articles linked to specific traded companies and utilizing our predeployed sentiment analysis model server to predict the sentiment of the author towards said companies."
   ]
  },
  {
   "cell_type": "code",
   "execution_count": 17,
   "metadata": {},
   "outputs": [],
   "source": [
    "# if the nuclio-jupyter package is not installed run !pip install nuclio-jupyter\n",
    "import nuclio \n",
    "import mlrun"
   ]
  },
  {
   "cell_type": "markdown",
   "metadata": {},
   "source": [
    "## Environment"
   ]
  },
  {
   "cell_type": "code",
   "execution_count": 18,
   "metadata": {},
   "outputs": [],
   "source": [
    "%nuclio env -c V3IO_ACCESS_KEY=${V3IO_ACCESS_KEY}\n",
    "%nuclio env -c V3IO_USERNAME=${V3IO_USERNAME}\n",
    "%nuclio env -c V3IO_API=${V3IO_API}"
   ]
  },
  {
   "cell_type": "code",
   "execution_count": 19,
   "metadata": {},
   "outputs": [],
   "source": [
    "%%nuclio cmd -c\n",
    "pip install beautifulsoup4\n",
    "pip install pandas\n",
    "pip install v3io_frames"
   ]
  },
  {
   "cell_type": "code",
   "execution_count": 20,
   "metadata": {},
   "outputs": [
    {
     "name": "stdout",
     "output_type": "stream",
     "text": [
      "%nuclio: setting kind to 'nuclio'\n",
      "%nuclio: setting spec.build.baseImage to 'mlrun/ml-models'\n"
     ]
    }
   ],
   "source": [
    "%%nuclio config \n",
    "kind = \"nuclio\"\n",
    "spec.build.baseImage = \"mlrun/ml-models\""
   ]
  },
  {
   "cell_type": "markdown",
   "metadata": {},
   "source": [
    "## Function"
   ]
  },
  {
   "cell_type": "code",
   "execution_count": 21,
   "metadata": {},
   "outputs": [],
   "source": [
    "# nuclio: start-code"
   ]
  },
  {
   "cell_type": "code",
   "execution_count": 22,
   "metadata": {},
   "outputs": [],
   "source": [
    "from bs4 import BeautifulSoup as bs\n",
    "from urllib.request import Request, urlopen\n",
    "import requests\n",
    "import pandas as pd\n",
    "import v3io_frames as v3f\n",
    "from unicodedata import normalize\n",
    "from datetime import datetime\n",
    "import re\n",
    "import os\n",
    "import mlrun.feature_store as fs\n",
    "import mlrun"
   ]
  },
  {
   "cell_type": "code",
   "execution_count": 23,
   "metadata": {},
   "outputs": [],
   "source": [
    "def get_stock_news_page(stock_string):\n",
    "    request = Request('https://www.investing.com/equities/' + stock_string + '-news', headers={\"User-Agent\": \"Mozilla/5.0\"})\n",
    "    content = urlopen(request).read()\n",
    "    return bs(content, 'html.parser')\n",
    "\n",
    "def get_internal_article_links(page):\n",
    "    news = page.find_all('div', attrs={'class': 'mediumTitle1'})[1]\n",
    "    articles = news.find_all('article', attrs={'class': 'js-article-item articleItem'})\n",
    "    return ['https://www.investing.com' + a.find('a').attrs['href'] for a in articles]\n",
    "\n",
    "def get_article_page(article_link):\n",
    "    request = Request(article_link, headers={\"User-Agent\": \"Mozilla/5.0\"})\n",
    "    content = urlopen(request).read()\n",
    "    return bs(content, 'html.parser')\n",
    "\n",
    "def clean_paragraph(paragraph):\n",
    "    paragraph = re.sub(r'\\(http\\S+', '', paragraph)\n",
    "    paragraph = re.sub(r'\\([A-Z]+:[A-Z]+\\)', '', paragraph)\n",
    "    paragraph = re.sub(r'[\\n\\t\\s\\']', ' ', paragraph)\n",
    "    return normalize('NFKD', paragraph)    \n",
    "\n",
    "def extract_text(article_page):\n",
    "    text_tag = article_page.find('div', attrs={'class': 'WYSIWYG articlePage'})\n",
    "    paragraphs = text_tag.find_all('p')\n",
    "    text = '\\n'.join([clean_paragraph(p.get_text()) for p in paragraphs[:-1]])\n",
    "    return text\n",
    "\n",
    "# this function isnt up-to-date with the structure of the website\n",
    "# def get_publish_time(article_page):\n",
    "#     details = article_page.find('meta', attrs={'itemprop': 'dateModified'})\n",
    "#     publish_date = details.get_attribute_list('content')[0]\n",
    "#     return str(datetime.strptime(publish_date, '%Y-%m-%d %H:%M:%S'))\n",
    "\n",
    "import json\n",
    "def get_publish_time(article):\n",
    "    tag = article.find('script',{\"type\" : \"application/ld+json\"}).contents[0]\n",
    "    tag_dict = json.loads(str(tag))\n",
    "    dateModified = tag_dict[\"dateModified\"]\n",
    "    return datetime.strftime(datetime.strptime(dateModified, '%Y-%m-%d %H:%M:%S'), '%Y-%m-%d %H:%M:%S')\n",
    "\n",
    "def get_score(paragraph_scores):\n",
    "    return sum([score - 1 for score in paragraph_scores['outputs']]) / len(paragraph_scores)\n",
    "\n",
    "def get_article_scores(context, articles, endpoint):\n",
    "    scores = [] \n",
    "    for i, article in enumerate(articles):\n",
    "        context.logger.info(f'getting score for article {i + 1}\\\\{len(articles)}')\n",
    "        event_data = {'inputs': article.split('\\n')}\n",
    "        resp = requests.put(endpoint, json=json.dumps(event_data))\n",
    "        scores.append(get_score(json.loads(resp.text)))\n",
    "    return scores\n",
    "\n",
    "def construct_dataframe(sentiments, items):\n",
    "    tickers = [x[0] for x in items]\n",
    "    stock_sent = pd.DataFrame({\"symbol\": tickers, \"sentiment\": sentiments})\n",
    "    return stock_sent"
   ]
  },
  {
   "cell_type": "code",
   "execution_count": 24,
   "metadata": {},
   "outputs": [],
   "source": [
    "def init_context(context):\n",
    "    context.logger.info(\"init news reader context\")\n",
    "    setattr(context, 'PROJECT_NAME', os.getenv('PROJECT_NAME', 'stocks-test-' + os.getenv('V3IO_USERNAME')))\n",
    "    mlrun.set_environment(project = context.PROJECT_NAME)\n",
    "    # Declaring feature set\n",
    "    stocks_sent_set = fs.FeatureSet(\"news\", entities=[fs.Entity(\"symbol\")])\n",
    "    setattr(context, 'stock_feature_set', stocks_sent_set)\n",
    "    # Add aggregation \n",
    "    context.stock_feature_set.add_aggregation(\"sentiments\",\"sentiment\",[\"min\",\"max\"],[\"1h\"],\"10m\")\n",
    "    \n",
    "    v3io_framesd = os.getenv('V3IO_FRAMESD', 'framesd:8081')\n",
    "    token = os.getenv('TOKEN', '')\n",
    "    client = v3f.Client(v3io_framesd, container=os.getenv('V3IO_CONTAINER', 'users'), token=token)\n",
    "    setattr(context, 'v3c', client)\n",
    "\n",
    "    setattr(context, 'stocks_stream', os.getenv('STOCKS_STREAM', os.getenv('V3IO_USERNAME') + '/stocks/stocks_stream'))\n",
    "    context.v3c.create(backend='stream', table=context.stocks_stream, if_exists=1)\n",
    "\n",
    "    setattr(context, 'stocks_tsdb', os.getenv('STOCKS_TSDB_TABLE', os.getenv('V3IO_USERNAME') + '/stocks/stocks_tsdb'))\n",
    "    context.v3c.create(backend='tsdb', table=context.stocks_tsdb, rate='1/s', if_exists=1)\n",
    "\n",
    "    setattr(context, 'sentiment_model_endpoint',\n",
    "            os.getenv('SENTIMENT_MODEL_ENDPOINT', 'http://stocks-test-dani-sentiment-analysis-serving-stocks-test-dani.default-tenant.app.dev8.lab.iguazeng.com'))\n",
    "    context.logger.info(f\"set sentiment_model_endpoint {context.sentiment_model_endpoint}\")\n",
    "    sym_to_url = {'GOOGL': 'google-inc', 'MSFT': 'microsoft-corp', 'AMZN': 'amazon-com-inc',\n",
    "                  'AAPL': 'apple-computer-inc'}\n",
    "    setattr(context, 'sym_to_url', sym_to_url)\n",
    "    setattr(context, 'stocks_kv', os.getenv('STOCKS_KV', 'stocks/stocks_kv'))\n",
    "    context.logger.info('end init context')"
   ]
  },
  {
   "cell_type": "code",
   "execution_count": 28,
   "metadata": {},
   "outputs": [],
   "source": [
    "def handler(context, event):\n",
    "    context.logger.info(f'Getting news about {context.sym_to_url}')\n",
    "\n",
    "    syms = []\n",
    "    contents = []\n",
    "    links = []\n",
    "    times = []\n",
    "    sentiments = []\n",
    "    last_ticker_sentiment = []\n",
    "    for sym, url_string in context.sym_to_url.items():\n",
    "        context.logger.info(f'Getting news about {sym}')\n",
    "        news_page = get_stock_news_page(url_string)\n",
    "        article_links = get_internal_article_links(news_page)\n",
    "        article_pages = [get_article_page(link) for link in article_links]\n",
    "        articles = [extract_text(article_page) for article_page in article_pages]\n",
    "        curr_sentiments = get_article_scores(context, articles, context.sentiment_model_endpoint)\n",
    "        curr_times = [get_publish_time(article_page) for article_page in article_pages]\n",
    "\n",
    "        sentiments += curr_sentiments\n",
    "        times += curr_times\n",
    "        for article, link, sentiment, time in zip(articles, article_links, curr_sentiments, curr_times):\n",
    "            record = {\n",
    "                'content': article,\n",
    "                'time': time,\n",
    "                'symbol': sym,\n",
    "                'link': link,\n",
    "                'sentiment': sentiment\n",
    "            }\n",
    "            context.v3c.execute('stream', context.stocks_stream, 'put', args={'data': json.dumps(record)})\n",
    "\n",
    "            syms.append(sym)\n",
    "            contents.append(article)\n",
    "            links.append(link)\n",
    "        context.v3c.execute('kv', context.stocks_kv, command='update', args={'key': sym,\n",
    "                                                                             'expression': f'SET sentiment={sentiments[-1]}'})\n",
    "        last_ticker_sentiment.append(sentiments[-1])\n",
    "    stock_sent = construct_dataframe(last_ticker_sentiment, context.sym_to_url.items())\n",
    "    context.logger.info(f'Ingesting new information to feature store')\n",
    "    fs.ingest(context.stock_feature_set, stock_sent, infer_options=fs.InferOptions.default())\n",
    "\n",
    "    if len(sentiments) > 0:\n",
    "        df = pd.DataFrame.from_dict({'sentiment': sentiments,\n",
    "                                     'time': times,\n",
    "                                     'symbol': syms})\n",
    "        df = df.set_index(['time', 'symbol'])\n",
    "        df.index = df.index.set_levels([pd.to_datetime(df.index.levels[0]), df.index.levels[1]])\n",
    "        df = df.sort_index(level=0, axis=0)\n",
    "        context.v3c.write(backend='tsdb', table=context.stocks_tsdb, dfs=df)"
   ]
  },
  {
   "cell_type": "code",
   "execution_count": 26,
   "metadata": {},
   "outputs": [],
   "source": [
    "# nuclio: end-code"
   ]
  },
  {
   "cell_type": "markdown",
   "metadata": {},
   "source": [
    "## Test locally"
   ]
  },
  {
   "cell_type": "code",
   "execution_count": 29,
   "metadata": {},
   "outputs": [
    {
     "name": "stdout",
     "output_type": "stream",
     "text": [
      "Python> 2021-03-22 09:28:57,133 [info] init news reader context\n",
      "Python> 2021-03-22 09:28:57,139 [info] set sentiment_model_endpoint http://stocks-test-dani-sentiment-analysis-serving-stocks-test-dani.default-tenant.app.dev8.lab.iguazeng.com\n",
      "Python> 2021-03-22 09:28:57,140 [info] end init context\n"
     ]
    }
   ],
   "source": [
    "init_context(context)"
   ]
  },
  {
   "cell_type": "code",
   "execution_count": 30,
   "metadata": {},
   "outputs": [],
   "source": [
    "from nuclio import Event\n",
    "event = Event()"
   ]
  },
  {
   "cell_type": "code",
   "execution_count": 31,
   "metadata": {},
   "outputs": [
    {
     "name": "stdout",
     "output_type": "stream",
     "text": [
      "Python> 2021-03-22 09:28:57,644 [info] Getting news about {'GOOGL': 'google-inc', 'MSFT': 'microsoft-corp', 'AMZN': 'amazon-com-inc', 'AAPL': 'apple-computer-inc'}\n",
      "Python> 2021-03-22 09:28:57,645 [info] Getting news about GOOGL\n",
      "Python> 2021-03-22 09:29:21,325 [info] getting score for article 1\\10\n",
      "Python> 2021-03-22 09:29:21,624 [info] getting score for article 2\\10\n",
      "Python> 2021-03-22 09:29:22,828 [info] getting score for article 3\\10\n",
      "Python> 2021-03-22 09:29:23,088 [info] getting score for article 4\\10\n",
      "Python> 2021-03-22 09:29:23,515 [info] getting score for article 5\\10\n",
      "Python> 2021-03-22 09:29:23,644 [info] getting score for article 6\\10\n",
      "Python> 2021-03-22 09:29:23,913 [info] getting score for article 7\\10\n",
      "Python> 2021-03-22 09:29:25,478 [info] getting score for article 8\\10\n",
      "Python> 2021-03-22 09:29:26,098 [info] getting score for article 9\\10\n",
      "Python> 2021-03-22 09:29:26,256 [info] getting score for article 10\\10\n",
      "Python> 2021-03-22 09:29:26,614 [info] Getting news about MSFT\n",
      "Python> 2021-03-22 09:29:51,148 [info] getting score for article 1\\9\n",
      "Python> 2021-03-22 09:29:52,152 [info] getting score for article 2\\9\n",
      "Python> 2021-03-22 09:29:52,417 [info] getting score for article 3\\9\n",
      "Python> 2021-03-22 09:29:53,037 [info] getting score for article 4\\9\n",
      "Python> 2021-03-22 09:29:53,465 [info] getting score for article 5\\9\n",
      "Python> 2021-03-22 09:29:53,742 [info] getting score for article 6\\9\n",
      "Python> 2021-03-22 09:29:54,221 [info] getting score for article 7\\9\n",
      "Python> 2021-03-22 09:29:54,575 [info] getting score for article 8\\9\n",
      "Python> 2021-03-22 09:29:54,782 [info] getting score for article 9\\9\n",
      "Python> 2021-03-22 09:29:55,173 [info] Getting news about AMZN\n",
      "Python> 2021-03-22 09:30:17,990 [info] getting score for article 1\\9\n",
      "Python> 2021-03-22 09:30:18,341 [info] getting score for article 2\\9\n",
      "Python> 2021-03-22 09:30:19,019 [info] getting score for article 3\\9\n",
      "Python> 2021-03-22 09:30:19,301 [info] getting score for article 4\\9\n",
      "Python> 2021-03-22 09:30:20,115 [info] getting score for article 5\\9\n",
      "Python> 2021-03-22 09:30:21,129 [info] getting score for article 6\\9\n",
      "Python> 2021-03-22 09:30:21,556 [info] getting score for article 7\\9\n",
      "Python> 2021-03-22 09:30:21,857 [info] getting score for article 8\\9\n",
      "Python> 2021-03-22 09:30:23,475 [info] getting score for article 9\\9\n",
      "Python> 2021-03-22 09:30:23,881 [info] Getting news about AAPL\n",
      "Python> 2021-03-22 09:30:52,169 [info] getting score for article 1\\10\n",
      "Python> 2021-03-22 09:30:53,029 [info] getting score for article 2\\10\n",
      "Python> 2021-03-22 09:30:53,429 [info] getting score for article 3\\10\n",
      "Python> 2021-03-22 09:30:53,531 [info] getting score for article 4\\10\n",
      "Python> 2021-03-22 09:30:53,726 [info] getting score for article 5\\10\n",
      "Python> 2021-03-22 09:30:53,920 [info] getting score for article 6\\10\n",
      "Python> 2021-03-22 09:30:54,023 [info] getting score for article 7\\10\n",
      "Python> 2021-03-22 09:30:55,197 [info] getting score for article 8\\10\n",
      "Python> 2021-03-22 09:30:55,479 [info] getting score for article 9\\10\n",
      "Python> 2021-03-22 09:30:55,676 [info] getting score for article 10\\10\n",
      "Python> 2021-03-22 09:30:56,165 [info] Ingesting new information to feature store\n",
      "['2021-03-22 08:05:29', '2021-03-22 06:35:23', '2021-03-22 00:40:26', '2021-03-21 23:20:28', '2021-03-21 19:20:15', '2021-03-21 12:30:26', '2021-03-21 10:20:50', '2021-03-21 09:00:51', '2021-03-20 16:55:40', '2021-03-19 20:12:22', '2021-03-22 06:35:23', '2021-03-21 23:20:28', '2021-03-19 20:12:22', '2021-03-19 17:50:50', '2021-03-19 04:10:08', '2021-03-18 20:06:24', '2021-03-18 18:48:45', '2021-03-17 19:25:21', '2021-03-17 14:10:31', '2021-03-22 09:26:42', '2021-03-22 08:30:46', '2021-03-22 07:50:27', '2021-03-22 06:35:23', '2021-03-22 04:26:23', '2021-03-22 00:40:26', '2021-03-21 17:25:58', '2021-03-21 10:20:50', '2021-03-20 16:55:40', '2021-03-22 06:35:23', '2021-03-22 00:40:26', '2021-03-21 15:20:24', '2021-03-20 18:25:52', '2021-03-20 16:55:40', '2021-03-20 15:00:20', '2021-03-19 20:35:27', '2021-03-19 20:12:22', '2021-03-19 18:15:25', '2021-03-19 17:50:50']\n"
     ]
    }
   ],
   "source": [
    "handler(context, event)"
   ]
  },
  {
   "cell_type": "markdown",
   "metadata": {},
   "source": [
    "## Deploy to cluster"
   ]
  },
  {
   "cell_type": "code",
   "execution_count": 14,
   "metadata": {},
   "outputs": [
    {
     "name": "stdout",
     "output_type": "stream",
     "text": [
      "> 2020-10-14 07:00:08,593 [info] function spec saved to path: 02-read-news.yaml\n"
     ]
    }
   ],
   "source": [
    "from mlrun import code_to_function\n",
    "\n",
    "# Export bare function\n",
    "fn = code_to_function('read-news',\n",
    "                      handler='handler')\n",
    "fn.export('02-read-news.yaml')\n",
    "\n",
    "# Set parameters for current deployment\n",
    "fn.add_trigger('cron', nuclio.triggers.CronTrigger('10s'))\n",
    "fn.set_envs({'V3IO_CONTAINER': 'users',\n",
    "             'STOCKS_STREAM': os.getenv('V3IO_USERNAME') + '/stocks/stocks_stream',\n",
    "             'STOCKS_TSDB_TABLE': os.getenv('V3IO_USERNAME') + '/stocks/stocks_tsdb',\n",
    "             'SENTIMENT_MODEL_ENDPOINT': 'http://nuclio-stocks-sentiment-analysis-serving:8080',\n",
    "             'PROJECT_NAME' : \"stocks-avia\"})\n",
    "fn.spec.max_replicas = 1"
   ]
  },
  {
   "cell_type": "code",
   "execution_count": 15,
   "metadata": {},
   "outputs": [
    {
     "name": "stdout",
     "output_type": "stream",
     "text": [
      "> 2020-10-14 07:00:08,600 [info] deploy started\n",
      "[nuclio] 2020-10-14 07:01:08,879 (info) Build complete\n",
      "[nuclio] 2020-10-14 07:01:17,040 (info) Function deploy complete\n",
      "[nuclio] 2020-10-14 07:01:17,048 done updating stocks-read-news, function address: 192.168.224.209:30776\n",
      "> 2020-10-14 07:01:17,057 [warning] warning!, server (0.5.1) and client (0.5.2) ver dont match\n"
     ]
    },
    {
     "data": {
      "text/plain": [
       "'http://192.168.224.209:30776'"
      ]
     },
     "execution_count": 15,
     "metadata": {},
     "output_type": "execute_result"
    }
   ],
   "source": [
    "fn.deploy(project='stocks')"
   ]
  },
  {
   "cell_type": "code",
   "execution_count": null,
   "metadata": {},
   "outputs": [],
   "source": []
  }
 ],
 "metadata": {
  "kernelspec": {
   "display_name": "Python 3",
   "language": "python",
   "name": "python3"
  },
  "language_info": {
   "codemirror_mode": {
    "name": "ipython",
    "version": 3
   },
   "file_extension": ".py",
   "mimetype": "text/x-python",
   "name": "python",
   "nbconvert_exporter": "python",
   "pygments_lexer": "ipython3",
   "version": "3.7.6"
  }
 },
 "nbformat": 4,
 "nbformat_minor": 4
}
