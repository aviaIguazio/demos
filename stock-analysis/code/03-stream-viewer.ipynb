{
 "cells": [
  {
   "cell_type": "markdown",
   "metadata": {},
   "source": [
    "# Real-Time Stream Viewer (HTTP)\n",
    "the following function responds to HTTP requests with the list of last 10 processed twitter messages + sentiments in reverse order (newest on top), it reads records from the enriched stream, take the recent 10 messages, and reverse sort them. the function is using nuclio context to store the last results and stream pointers for max efficiency.<br> \n",
    "\n",
    "The code is automatically converted into a nuclio (serverless) function and and respond to HTTP requests<br>\n",
    "\n",
    "the example demonstrate the use of `%nuclio` magic commands to specify environment variables, package dependencies,<br>configurations, and to deploy functions automatically onto a cluster.\n",
    "\n",
    "\n",
    "## Initialize nuclio emulation, environment variables and configuration\n",
    "use `# nuclio: ignore` for sections that don't need to be copied to the function"
   ]
  },
  {
   "cell_type": "code",
   "execution_count": 56,
   "metadata": {},
   "outputs": [],
   "source": [
    "# nuclio: ignore\n",
    "# if the nuclio-jupyter package is not installed run !pip install nuclio-jupyter\n",
    "import nuclio "
   ]
  },
  {
   "cell_type": "code",
   "execution_count": 57,
   "metadata": {},
   "outputs": [],
   "source": [
    "%nuclio env -c V3IO_ACCESS_KEY=${V3IO_ACCESS_KEY}\n",
    "%nuclio env -c V3IO_USERNAME=${V3IO_USERNAME}\n",
    "%nuclio env -c V3IO_API=${V3IO_API}"
   ]
  },
  {
   "cell_type": "markdown",
   "metadata": {},
   "source": [
    "### Set function configuration \n",
    "use a cron trigger with 5min interval and define the base image<br>\n",
    "for more details check [nuclio function configuration reference](https://github.com/nuclio/nuclio/blob/master/docs/reference/function-configuration/function-configuration-reference.md)"
   ]
  },
  {
   "cell_type": "code",
   "execution_count": 58,
   "metadata": {},
   "outputs": [
    {
     "name": "stdout",
     "output_type": "stream",
     "text": [
      "%nuclio: setting kind to 'nuclio'\n",
      "%nuclio: setting spec.build.baseImage to 'mlrun/mlrun'\n"
     ]
    }
   ],
   "source": [
    "%%nuclio config \n",
    "kind = \"nuclio\"\n",
    "spec.build.baseImage = \"mlrun/mlrun\""
   ]
  },
  {
   "cell_type": "markdown",
   "metadata": {},
   "source": [
    "### Install required packages\n",
    "`%nuclio cmd` allows you to run image build instructions and install packages<br>\n",
    "Note: `-c` option will only install in nuclio, not locally"
   ]
  },
  {
   "cell_type": "code",
   "execution_count": 59,
   "metadata": {},
   "outputs": [],
   "source": [
    "%nuclio cmd -c pip install v3io"
   ]
  },
  {
   "cell_type": "markdown",
   "metadata": {},
   "source": [
    "## Nuclio function implementation\n",
    "this function can run in Jupyter or in nuclio (real-time serverless)"
   ]
  },
  {
   "cell_type": "code",
   "execution_count": 60,
   "metadata": {},
   "outputs": [],
   "source": [
    "import v3io.dataplane\n",
    "import json\n",
    "import os\n",
    "\n",
    "def init_context(context):\n",
    "    access_key = os.getenv('V3IO_ACCESS_KEY', None)\n",
    "    setattr(context, 'container', os.getenv('V3IO_CONTAINER', 'users'))\n",
    "    setattr(context, 'stream_path', os.getenv('STOCKS_STREAM',os.getenv('V3IO_USERNAME') + '/stocks/stocks_stream'))\n",
    "    \n",
    "    v3io_client = v3io.dataplane.Client(endpoint=os.getenv('V3IO_API', None), access_key=access_key)\n",
    "    setattr(context, 'data', [])\n",
    "    setattr(context, 'v3io_client', v3io_client) \n",
    "    setattr(context, 'limit', os.getenv('LIMIT', 10))\n",
    "    try:\n",
    "        resp = v3io_client.seek_shard(container=context.container, path=f'{context.stream_path}/0', seek_type='EARLIEST')\n",
    "        setattr(context, 'next_location', resp.output.location)\n",
    "    except:\n",
    "        context.logger.info('Stream not updated yet')\n",
    "    \n",
    "\n",
    "    \n",
    "def handler(context, event):\n",
    "    \n",
    "    if hasattr(context, 'next_location'):\n",
    "        resp = context.v3io_client.get_records(container=context.container, path=f'{context.stream_path}/0', location=context.next_location, limit=context.limit)\n",
    "    else:\n",
    "        resp = context.v3io_client.seek_shard(container=context.container, path=f'{context.stream_path}/0', seek_type='EARLIEST')\n",
    "        setattr(context, 'next_location', resp.output.location)\n",
    "    context.next_location = resp.output.next_location\n",
    "    context.logger.info('location: %s', context.next_location)\n",
    "\n",
    "    for rec in resp.output.records:\n",
    "        rec_data = rec.data.decode('utf-8')\n",
    "        rec_json = json.loads(rec_data)\n",
    "        context.data.append({'Time': rec_json['time'],\n",
    "                             'Symbol': rec_json['symbol'],\n",
    "                             'Sentiment': rec_json['sentiment'],\n",
    "                             'Link': rec_json['link'],\n",
    "                             'Content': rec_json['content']})\n",
    "\n",
    "    context.data = context.data[-context.limit:]\n",
    "    \n",
    "    columns = [{'text': key, 'type': 'object'} for key in ['Time', 'Symbol', 'Sentiment', 'Link', 'Content']]\n",
    "    data = [list(item.values()) for item in context.data]\n",
    "    response = [{'columns': columns,\n",
    "                'rows': data,\n",
    "                'type': 'table'}]\n",
    "\n",
    "    return response\n",
    "                            "
   ]
  },
  {
   "cell_type": "code",
   "execution_count": 61,
   "metadata": {},
   "outputs": [],
   "source": [
    "# nuclio: end-code"
   ]
  },
  {
   "cell_type": "markdown",
   "metadata": {},
   "source": [
    "## Function invocation\n",
    "the following section simulates nuclio function invocation and will emit the function results"
   ]
  },
  {
   "cell_type": "code",
   "execution_count": 62,
   "metadata": {},
   "outputs": [
    {
     "name": "stdout",
     "output_type": "stream",
     "text": [
      "Python> 2021-03-25 14:01:20,229 [info] location: AQAAAGYAAABHAEBeFwAAAA==\n"
     ]
    }
   ],
   "source": [
    "# create a test event and invoke the function locally\n",
    "init_context(context)\n",
    "event = nuclio.Event(body='')\n",
    "resp = handler(context, event)"
   ]
  },
  {
   "cell_type": "code",
   "execution_count": 63,
   "metadata": {},
   "outputs": [
    {
     "data": {
      "text/plain": [
       "[{'columns': [{'text': 'Time', 'type': 'object'},\n",
       "   {'text': 'Symbol', 'type': 'object'},\n",
       "   {'text': 'Sentiment', 'type': 'object'},\n",
       "   {'text': 'Link', 'type': 'object'},\n",
       "   {'text': 'Content', 'type': 'object'}],\n",
       "  'rows': [['2021-03-24 11:20:26',\n",
       "    'GOOGL',\n",
       "    -2.6666666666666665,\n",
       "    'https://www.investing.com/news/stock-market-news/futures-rise-ahead-of-march-business-surveys-intel-shines-2455638',\n",
       "    'By Devik Jain and Medha Singh\\n(Reuters) - U.S. stock index futures rose on Wednesday as Intel  s shares surged on plans to expand advanced chip making capacity, while investors looked to business surveys for March and another day of testimonies from the top two U.S. economic officials.\\nThe chipmaker s shares jumped about 5.7% as it announced plans to spend as much as $20 billion to build two factories in Arizona and open its factories to outside customers.\\nU.S.-listed shares of rival Taiwan Semiconductor dropped 2.6%, while semiconductor equipment makers  Lam Research Corp  , Applied Materials Inc  and ASML Holding  gained between 4.4% and 5.7%.\\nWall Street s main indexes stumbled on Tuesday, weighed down by concerns about the cost of infrastructure spending and potential tax hikes to pay for President Joe Biden s $1.9 trillion relief bill.\\nU.S. Federal Reserve chair Jerome Powell and Treasury Secretary Janet Yellen will resume their Congressional hearings later in the day.\\nEconomy-linked energy and banks stocks have come under pressure recently as investors booked profits after a sharp rally on recovery hopes and moved into beaten-down technology and growth names that were hit by elevated bond yields.\\n Facebook Inc  , Alphabet  Inc, Apple Inc ,  Microsoft Corp   and Amazon.com Inc  rose between 0.6% and 0.7%.\\nAt 6:30 a.m. ET, Dow E-minis were up 96 points, or 0.3%, S&P 500 E-minis were up 14 points, or 0.36% and Nasdaq 100 E-minis were up 100.75 points, or 0.77%.\\nBitcoin gained about 4% as Tesla  Inc chief Elon Musk said the company s electric vehicles can now be bought using bitcoin and the option will be available outside the United States later this year.\\nTesla s shares advanced about 1.6%.\\n GameStop Corp   dropped 13% after the video game retailer said it may sell new shares as the company that led the Reddit rally of \"meme stocks\" looks to take advantage of a more than 800% surge in its stock price since January.\\nEnergy stocks  Exxon Mobil  ,  Chevron  Corp , Schlumberger NV , Occidental Petroleum  and  Marathon Oil   were up between 1% and 4.2%, as crude prices rebounded from a 6% fall in the last session. [O/R]\\n\\nIHS Markit s flash reading at 9:45 a.m ET is likely to show business activity in the manufacturing and services sectors improved in March from the prior month.'],\n",
       "   ['2021-03-24 10:55:41',\n",
       "    'GOOGL',\n",
       "    -0.6666666666666666,\n",
       "    'https://www.investing.com/news/technology-news/italys-rcs-signs-deal-with-google-for-access-to-dailies-on-showcase-2455438',\n",
       "    'MILAN (Reuters) - Alphabet  Inc s Google said on Wednesday it had sealed agreements with various Italian publishers to offer access to some of their content on the U.S. tech giant s Showcase news platform.\\nGoogle News Showcase is a global vehicle to pay news publishers for their content online and a new service that would allow partnering publishers to curate content and provide limited access to paywalled stories for users.\\nThe accord was signed with a number of Italian publishers, including RCS Mediagroup, which publishes daily Corriere della Sera as well as popular sports daily Gazzetta dello Sport, the publisher of financial daily Il Sole 24 ore, Caltagirone editore, which owns Rome-based paper Il Messaggero, and Monrif, which publishes local papers such as Il Giorno and La Nazione.\\nTo date, 13 Italian editorial companies have finalised agreements with Google, giving users access to content from 76 national and local papers.\\n\"We are pleased to have reached this agreement which, by also regulating the issue of related rights, recognises the importance of quality information and the authority of our publications,\" RCS Chief Exectuive Urbano Cairo said in a statement. \\nNo financial details of the accord were disclosed. \\nNews publishers have long fought the world s most popular internet search engine for compensation for using their content, with European media groups leading the charge.\\n\\nGoogle said in October it planned to pay $1 billion to publishers globally for their news over the next three years via Showcase, which will launch first in Germany, then in Belgium, India, the Netherlands and other countries.'],\n",
       "   ['2021-03-24 10:40:17',\n",
       "    'GOOGL',\n",
       "    -0.6666666666666666,\n",
       "    'https://www.investing.com/news/cryptocurrency-news/nifty-news-nft-searches-at-icomania-levels-a-robot-and-snoop-dog-drop-nfts-plus-more-2455592',\n",
       "    'Interest in non-fungible tokens, or NFTs, has surged to almost the level of searches for the term  ICO  during the 2017 bull market mania, according to data from Google  Trends. With eight days left in March, the current spike in interest could even surpass interest in ICOs back then, which would be an impressive feat indeed.\\nThe Initial Coin Offering mania in 2017 was partly the cause, and partly the result, of the 2017 bull run that culminated in Bitcoin peaking just shy of $20,000. '],\n",
       "   ['2021-03-24 10:19:16',\n",
       "    'GOOGL',\n",
       "    -2.3333333333333335,\n",
       "    'https://www.investing.com/news/economy/gamestops-bullish-miss-suez-woes-intels-grand-designs--whats-up-in-markets-2455570',\n",
       "    'By Geoffrey Smith \\nInvesting.com -- GameStop  serves up a quarterly report with something for everyone, Intel  lays out its new strategy, and Disney hedges its bets on consumers  willingness to return to movie theaters. PMIs in Europe and Japan are surprisingly strong. The Federal Reserve s Jerome Powell returns to Congress, while three of his colleagues will speak elsewhere later. Durable goods orders for February are due. Oil prices are bouncing sharply after a container ship blocks the Suez Canal. And Elon Musk gives Bitcoin another pump. Here s what you need to know in financial markets on Wednesday, March 24th. \\n1. GameStop s bullish miss\\nGameStop, the company at the center of the most volatile trading of 2021, disappointed with its quarterly results. Overall sales fell 3.3%, while earnings per share were some 8% shy of expectations.\\nHowever, GameStop said its comparable store sales rose 6.5% in the three months through January, while e-commerce sales were up 175%, a development that will support hopes of a successful reinvention as a principally online retailer.\\nThe reinvention will continue with new management at the helm. Amazon  and Google  veteran Jenna Owens will join at the end of the month as chief operating officer, while Neda Pacifico, formerly of Chewy , will take responsibility for e-commerce. Zulily’s Ken Suzuki will take over as head of supply-chain systems.\\nThe news was enough, on the whole, to persuade at least one former bear to change its mind. Jefferies  reportedly raised its price target to $175 from $15 in response. GameStop stock was down 11% at $161.90 in premarket trade\\n2. Intel CEO lays out his new strategy\\nIntel mapped out its plans to re-establish itself as the world’s leading chipmaker with a new $20 billion strategic plan that envisages the construction of two new fabrication plants in Arizona.\\nThe plan signals a reaffirmation of Intel’s commitment to making its own chips, even as it signaled its openness to more outsourcing and to contract manufacturing on behalf of others. The plan comes at an opportune time, when the shortcomings of extended supply chains spanning continents are painfully apparent.\\nNew CEO Pat Gelsinger also said the company’s sales will fall less than feared this year, after revenue and profit both exceeded internal expectations in the first quarter. Intel stock rose 5.6% in premarket trading.\\n3. Stocks set to open higher; Disney eyed; Musk s latest Bitcoin pump\\nU.S. stock markets are set to open higher after falling Tuesday in response to fears that the latest wave of Covid-19 sweeping Europe, India and South America could set back the global economic recovery.\\nBy 6:20 AM ET (1020 GMT), Dow Jones Futures were up 75 points, or 0.2%, while S&P 500 futures were up 0.3% and Nasdaq 100 futures were up 0.9%.\\nStocks likely to be in focus later include Tesla , whose CEO Elon Musk announced via Twitter that the car maker is now accepting Bitcoin as payments (he didn’t say anything about pricing policy). The news sent Bitcoin up 5%.\\nAlso in focus could be Disney and AMC Entertainment , after the movie giant said it will launch two big movie releases on its streaming channel and theaters at the same time – hedging its bets on consumers’ willingness to venture back into cinemas. \\n4. Strong PMIs in Europe, Japan; U.S. durable goods and Fed speakers due\\nThe latest round of business surveys across the world showed economic activity accelerated more in March, with IHS Markit’s purchasing managers indices coming in sharply above expectations in both Japan and the Eurozone as well as the U.K.\\nThe surveys predate latest tightening of restrictions in Germany (which has reportedly dropped its plans for a five-day national shutdown at Easter) and weren’t enough to reverse broad stock market losses in early trading.\\nIn the U.S. later, Federal Reserve Chairman Jerome Powell and Treasury Secretary Janet Yellen reprise their testimony in front of the Senate Banking Committee, a day after Yellen flagged the possibility of tax increases to plug the budget deficit.  There will also be durable goods orders data for February and weekly mortgage refinancing numbers. The Federal Reserve’s John Williams, Mary Daly and Charles Evans all speak later.\\n5. Suez blockage lifts oil prices\\nCrude oil prices rose sharply after a large container ship ran aground in the Suez Canal, blocking one of the world’s most important trade routes. Reports suggest that unblocking the canal may take as much as three days.\\nBy 10:20 AM ET, U.S. crude futures were up 2.9% at $59.43 a barrel, while Brent crude futures were up 2.8% at $62.50 a barrel.'],\n",
       "   ['2021-03-24 10:00:09',\n",
       "    'GOOGL',\n",
       "    -0.3333333333333333,\n",
       "    'https://www.investing.com/news/technology-news/crypto-firm-blockchaincom-raises-300-million-valued-at-52-billion-2455544',\n",
       "    'LONDON (Reuters) - Cryptocurrency firm Blockchain.com said on Wednesday it had raised $300 million in its latest funding round at a valuation of $5.2 billion. \\nThe round was led by DST Global, Lightspeed Venture Partners and VY Capital, the London-based company said\\nBlockchain.com offers digital wallets for storage of cryptocurrencies as well as retail trading and other services for larger investors. \\nBitcoin soared to a record just shy of $62,000 this month as mainstream firms and investors increasingly embrace cryptocurrencies, leading to ballooning valuations of related companies. \\nBlockchain.com said last month it raised about $120 million, with investments from Alphabet  Inc s venture capital unit.'],\n",
       "   ['2021-03-24 09:40:25',\n",
       "    'GOOGL',\n",
       "    0.0,\n",
       "    'https://www.investing.com/news/technology-news/google-signs-deals-with-italian-publishers-for-content-on-news-showcase-2455531',\n",
       "    'ROME (Reuters) - Google  signed on Monday a license deal with various Italian publishers to offer news content through News Showcase, a new platform which makes news available on Google s news website, the search giant said on Wednesday. \\nThe accord was signed with many national news outlets, including Italy s RCS Mediagroup, which publishes daily Corriere della Sera as well as popular sports daily Gazzetta dello Sport, the publisher of financial daily Il Sole 24 ore, Caltagirone editore, which owns Rome-based paper Il Messaggero, and Monrif, which publishes local papers such as Il Giorno and La Nazione. \\n\\nTo date, 13 editorial companies have finalized agreements with Google, a statement said, adding that readers could now access news from 76 national and local papers. '],\n",
       "   ['2021-03-24 08:55:47',\n",
       "    'GOOGL',\n",
       "    -1.3333333333333333,\n",
       "    'https://www.investing.com/news/economy/silicon-valley-firms-in-no-hurry-to-open-up-offices-despite-easing-of-virus-ban-2455350',\n",
       "    'By Paresh Dave\\nSAN FRANCISCO (Reuters) - Several of San Francisco Bay Area s largest technology companies including  Twitter Inc   and Google plan to keep their offices largely closed for months more despite the government allowing them on Tuesday to be opened in a limited capacity.\\nTaking into account declining coronavirus infections, San Francisco and Santa Clara counties eased guidelines that had kept most office buildings closed for the last year except to crucial security and support staff.\\nStarting Wednesday, companies are allowed to open up their offices for up to a quarter of their capacity. \\n\"San Francisco is going to come alive,\" Mayor London Breed told reporters. \"When we start to reopen, more and more people are going to want to return to work and want to be around other folks.\"\\nBut Silicon Valley companies that committed last year to allowing workers to stay home until this summer or indefinitely said that they stood by their timelines. \\nThey cited their own analyses of public health data, other safety considerations and workers  preferences. Adoption of vaccines, which in California are accessible to only the most vulnerable populations, is also a factor but a smaller one.\\nNetworking gear maker Cisco Systems Inc  and file-storage service Dropbox  Inc said their mandatory work from home policies would remain effect until June, while Box Inc said its reopening is still scheduled for September. \\nPinterest  Inc is not eyeing a significant reopening until at least August, Alphabet  Inc s Google until September and DocuSign  Inc not before October.\\nTwitter, Adobe  Inc,  PayPal Holdings Inc  , Twilio  Inc,  Yelp   Inc and  Zoom Video Communications   Inc also will stay closed despite what Breed and other local government officials described as a move to the \"orange tier\" from the \"red tier\" of California lockdown restrictions.\\nBreed s spokesman Jeff Cretan said San Francisco officials expect smaller and mid-sized companies to be the first to return.\\n HIRING ADVANTAGE \\nAmong the few companies aiming to take advantage of the easing were SAP SE , which said it is strongly considering partially reopening its Bay Area offices within weeks, and Slack Technologies , which is weighing a date to invite back some workers.\\nSan Francisco ecommerce software startup Fast will open its doors - and windows for safety - to up to 25% of its 56 Bay Area employees on Wednesday, spokesman Jason Alderman said. He said the company expects to start getting job applications from people forced to work remotely by their current employers.\\n\"Companies like Fast that are allowing people to come into the office if they want to is going to be a hiring advantage,\" he said. \\nA survey late last year of 9,000 knowledge workers commissioned by workplace chat software company Slack found 20% want to work remotely, 17% in the office and 63% a mix of the two. \\n Facebook Inc  , whose offices otherwise remain closed globally until July 2, said this month it is opening 10% of seats in Seattle area offices to help workers struggling at home. It did not have similar news to share about its San Francisco offices.\\n Microsoft Corp  , which announced plans on Monday to partially reopen its Redmond, Washington, headquarters next week, did not immediately comment on San Francisco locations.\\n\\n IBM   declined to discuss Bay Area plans. But several senior executives at its New York headquarters have begun working from their offices with doors closed.'],\n",
       "   ['2021-03-23 21:31:51',\n",
       "    'GOOGL',\n",
       "    -3.6666666666666665,\n",
       "    'https://www.investing.com/news/technology-news/parler-is-sued-by-cofounder-matze-over-ouster-following-us-capitol-riot-2455192',\n",
       "    'By Jonathan Stempel\\n(Reuters) - Parler, a social media app popular among right-wing users, is being sued by co-founder John Matze for wrongful termination and taking away his 40% stake after the app was taken offline following the Jan. 6 riot at the U.S. Capitol.\\nIn a complaint filed on Monday, Matze said Parler officials and investors conspired to steal his ownership stake and fire him as chief executive, including by leveling false accusations of misconduct, so co-owner Rebekah Mercer could co-opt the platform for \"her brand of conservatism.\"\\nHe said this occurred after Parler resisted his efforts following the riot to ban \"identifiable extremist groups like QAnon and neo Nazis,\" while preserving the platform as a forum for free expression.\\n\"Matze s proposal was met with dead silence, which he took to be a rejection of his proposal,\" the complaint said.\\nLawyers for the Parler defendants did not immediately respond to requests for comment or could not immediately be reached. Mercer s father is the wealthy financier and Republican donor Robert Mercer.\\nMatze is seeking millions of dollars in his lawsuit filed in a Nevada state court in Clark County, which includes Las Vegas. Parler is based in nearby Henderson, Nevada.\\nThe lawsuit did not say what Matze s Parler stake was worth, but accused various defendants of fabricating misconduct claims to justify stripping it from him for $3. \\nParler went dark for about one month after Amazon.com Inc  suspended web-hosting services following the Capitol attack by supporters of then-U.S. President Donald Trump.\\nAmazon justified its action by accusing Parler of failing to effectively moderate violent content. Parler later sued Amazon, accusing it of trying to destroy its business.\\nApple Inc  and Alphabet  Inc s Google also removed Parler from their online stores.\\nFounded in 2018, Parler claimed to have had more than 12 million users before going dark. It returned online with private cloud infrastructure from SkySilk, of Los Angeles.\\n\\nMatze s complaint was posted online by the Las Vegas Sun. A copy could not immediately be located in online court records.'],\n",
       "   ['2021-03-23 20:08:26',\n",
       "    'GOOGL',\n",
       "    -3.0,\n",
       "    'https://www.investing.com/news/stock-market-news/sp-500-slumps-as-europe-lockdowns-muddy-reopening-optimism-2455085',\n",
       "    'By Yasin Ebrahim\\nInvesting.com – The S&P 500 slumped Tuesday, unable to mark its one-year bull run in style as fresh lockdowns in Europe muddied the outlook for global economic growth, souring investor appetite for cyclical stocks.\\nThe S&P 500 was down 0.74%, and has rebounded about 70% higher since March 23. The Dow Jones Industrial Average fell 0.94%, or 268 points, the Nasdaq Composite was down 1.12%.\\nEurope is facing a third wave of Covid-19 that has forced major countries in the bloc including Germany, France and the Netherlands to batten down the hatches with fresh lockdown into easter that will likely set global growth back.\\nThe risk of slower global growth led to a 6% rout in oil prices on bets the recovery in travel-related demand may not return as fast as many expect.\\nNov , Halliburton  and  Marathon Oil   were among the biggest decliners with the latter down 6%.\\nThe reopening trade – bullish bets on stocks tied to the progress of the economic reopening – was also scaled back with airlines and cruise lines closing in the red.\\nUnited Airlines Holdings ,  American Airlines Group  , Carnival  and Norwegian Cruise  were sharply lower.\\nSupportive remarks from Federal Reserve chair Jerome Powell and U.S. Treasury Secretary Janet Yellen provided little reprieve for the broader market.\\nPowell shrugged off inflationary pressure and continued to back the Fed s accommodate monetary policy stance, saying the rise in price pressures this year will likely be a \"one-off.\"\\nThe U.S. 10-year yield remained at one-week lows near 1.65%, though it had dipped to the 1.30%-to-1.40% level of support.\\nPowell s doubling down on lower for longer monetary policy comes just a day after more hawkish members of the Federal Open Market Committee, the fed s rate setting arm, signaled that the first rate could hike could come sooner than 2024.\\nDallas Federal Reserve President Robert Kaplan, a non-voting FOMC member, told CNBC Tuesday that he was one of four Fed officials who backed first benchmark rate hike next year at the Fed’s policy meeting last week.\\nThe move lower in rates kept the bulk of megacap tech stocks above the flatline.\\nApple  and Facebook  were lower, while Google-parent Alphabet  and  Microsoft , and Amazon.com  ended in the green.\\nOn the economic front, housing market activity continued to ease as new home sales fell by a more-than-expected 18.2% to 775,000 units in February.\\n\"[R]ising mortgage rates and rising materials costs could push more first-time buyers out of the market,\" Yelena Maleyev, an economist at Grant Thornton said.'],\n",
       "   ['2021-03-24 11:20:26',\n",
       "    'MSFT',\n",
       "    -2.6666666666666665,\n",
       "    'https://www.investing.com/news/stock-market-news/futures-rise-ahead-of-march-business-surveys-intel-shines-2455638',\n",
       "    'By Devik Jain and Medha Singh\\n(Reuters) - U.S. stock index futures rose on Wednesday as Intel  s shares surged on plans to expand advanced chip making capacity, while investors looked to business surveys for March and another day of testimonies from the top two U.S. economic officials.\\nThe chipmaker s shares jumped about 5.7% as it announced plans to spend as much as $20 billion to build two factories in Arizona and open its factories to outside customers.\\nU.S.-listed shares of rival Taiwan Semiconductor dropped 2.6%, while semiconductor equipment makers  Lam Research Corp  , Applied Materials Inc  and ASML Holding  gained between 4.4% and 5.7%.\\nWall Street s main indexes stumbled on Tuesday, weighed down by concerns about the cost of infrastructure spending and potential tax hikes to pay for President Joe Biden s $1.9 trillion relief bill.\\nU.S. Federal Reserve chair Jerome Powell and Treasury Secretary Janet Yellen will resume their Congressional hearings later in the day.\\nEconomy-linked energy and banks stocks have come under pressure recently as investors booked profits after a sharp rally on recovery hopes and moved into beaten-down technology and growth names that were hit by elevated bond yields.\\n Facebook Inc  , Alphabet  Inc, Apple Inc ,  Microsoft Corp   and Amazon.com Inc  rose between 0.6% and 0.7%.\\nAt 6:30 a.m. ET, Dow E-minis were up 96 points, or 0.3%, S&P 500 E-minis were up 14 points, or 0.36% and Nasdaq 100 E-minis were up 100.75 points, or 0.77%.\\nBitcoin gained about 4% as Tesla  Inc chief Elon Musk said the company s electric vehicles can now be bought using bitcoin and the option will be available outside the United States later this year.\\nTesla s shares advanced about 1.6%.\\n GameStop Corp   dropped 13% after the video game retailer said it may sell new shares as the company that led the Reddit rally of \"meme stocks\" looks to take advantage of a more than 800% surge in its stock price since January.\\nEnergy stocks  Exxon Mobil  ,  Chevron  Corp , Schlumberger NV , Occidental Petroleum  and  Marathon Oil   were up between 1% and 4.2%, as crude prices rebounded from a 6% fall in the last session. [O/R]\\n\\nIHS Markit s flash reading at 9:45 a.m ET is likely to show business activity in the manufacturing and services sectors improved in March from the prior month.']],\n",
       "  'type': 'table'}]"
      ]
     },
     "execution_count": 63,
     "metadata": {},
     "output_type": "execute_result"
    }
   ],
   "source": [
    "resp"
   ]
  },
  {
   "cell_type": "markdown",
   "metadata": {},
   "source": [
    "## Deploy a function onto a cluster\n",
    "the `%nuclio deploy` command deploy functions into a cluster, make sure the notebook is saved prior to running it !<br>check the help (`%nuclio help deploy`) for more information"
   ]
  },
  {
   "cell_type": "code",
   "execution_count": 64,
   "metadata": {},
   "outputs": [],
   "source": [
    "import os"
   ]
  },
  {
   "cell_type": "code",
   "execution_count": 65,
   "metadata": {},
   "outputs": [
    {
     "name": "stdout",
     "output_type": "stream",
     "text": [
      "> 2021-03-25 14:02:06,405 [info] function spec saved to path: 03-stream-viewer.yaml\n"
     ]
    }
   ],
   "source": [
    "from mlrun import code_to_function\n",
    "\n",
    "# Export the bare function\n",
    "fn = code_to_function('stream-viewer',\n",
    "                      handler='handler')\n",
    "fn.export('03-stream-viewer.yaml')\n",
    "\n",
    "# Set parameters for current deployment\n",
    "fn.set_envs({'V3IO_CONTAINER': 'users',\n",
    "             'STOCKS_STREAM':  os.getenv('V3IO_USERNAME') + '/stocks/stocks_stream'})\n",
    "fn.spec.max_replicas = 2"
   ]
  },
  {
   "cell_type": "code",
   "execution_count": 66,
   "metadata": {},
   "outputs": [
    {
     "name": "stdout",
     "output_type": "stream",
     "text": [
      "> 2021-03-25 14:02:06,411 [info] Starting remote function deploy\n",
      "2021-03-25 14:02:06  (info) Deploying function\n",
      "2021-03-25 14:02:06  (info) Building\n",
      "2021-03-25 14:02:06  (info) Staging files and preparing base images\n",
      "2021-03-25 14:02:06  (info) Building processor image\n",
      "2021-03-25 14:02:08  (info) Build complete\n",
      "2021-03-25 14:02:12  (info) Function deploy complete\n",
      "> 2021-03-25 14:02:13,174 [info] function deployed, address=default-tenant.app.dev8.lab.iguazeng.com:32536\n"
     ]
    }
   ],
   "source": [
    "addr = fn.deploy(project='stocks-test-dani')"
   ]
  },
  {
   "cell_type": "code",
   "execution_count": null,
   "metadata": {},
   "outputs": [],
   "source": [
    "# nuclio: ignore\n",
    "# test the new API end point, take the address from the deploy log above\n",
    "!curl {addr}"
   ]
  },
  {
   "cell_type": "code",
   "execution_count": null,
   "metadata": {},
   "outputs": [],
   "source": []
  }
 ],
 "metadata": {
  "kernelspec": {
   "display_name": "Python 3",
   "language": "python",
   "name": "python3"
  },
  "language_info": {
   "codemirror_mode": {
    "name": "ipython",
    "version": 3
   },
   "file_extension": ".py",
   "mimetype": "text/x-python",
   "name": "python",
   "nbconvert_exporter": "python",
   "pygments_lexer": "ipython3",
   "version": "3.7.6"
  }
 },
 "nbformat": 4,
 "nbformat_minor": 4
}
