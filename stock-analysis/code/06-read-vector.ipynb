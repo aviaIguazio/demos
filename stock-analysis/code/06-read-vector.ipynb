{
 "cells": [
  {
   "cell_type": "code",
   "execution_count": 1,
   "metadata": {},
   "outputs": [],
   "source": [
    "import nuclio \n",
    "import mlrun"
   ]
  },
  {
   "cell_type": "code",
   "execution_count": 2,
   "metadata": {},
   "outputs": [],
   "source": [
    "%nuclio env -c V3IO_ACCESS_KEY=${V3IO_ACCESS_KEY}\n",
    "%nuclio env -c V3IO_USERNAME=${V3IO_USERNAME}\n",
    "%nuclio env -c V3IO_API=${V3IO_API}"
   ]
  },
  {
   "cell_type": "code",
   "execution_count": 3,
   "metadata": {},
   "outputs": [],
   "source": [
    "%%nuclio cmd -c\n",
    "pip install beautifulsoup4\n",
    "pip install pandas\n",
    "pip install v3io_frames"
   ]
  },
  {
   "cell_type": "code",
   "execution_count": 4,
   "metadata": {},
   "outputs": [
    {
     "name": "stdout",
     "output_type": "stream",
     "text": [
      "%nuclio: setting kind to 'nuclio'\n",
      "%nuclio: setting spec.build.baseImage to 'mlrun/ml-models'\n"
     ]
    }
   ],
   "source": [
    "%%nuclio config \n",
    "kind = \"nuclio\"\n",
    "spec.build.baseImage = \"mlrun/ml-models\""
   ]
  },
  {
   "cell_type": "code",
   "execution_count": 5,
   "metadata": {},
   "outputs": [],
   "source": [
    "# nuclio: start-code"
   ]
  },
  {
   "cell_type": "code",
   "execution_count": 6,
   "metadata": {},
   "outputs": [],
   "source": [
    "import mlrun.feature_store as fs\n",
    "from mlrun.feature_store.steps import *\n",
    "import mlrun\n",
    "import pandas as pd\n",
    "import os"
   ]
  },
  {
   "cell_type": "code",
   "execution_count": 7,
   "metadata": {},
   "outputs": [],
   "source": [
    "def handler(context, event):\n",
    "    context.logger.info(\"Reading features from feature vector\")\n",
    "    stock_list = []\n",
    "    # Reading the data from feature service\n",
    "    service = fs.get_online_feature_service(\"stocks-vec\")\n",
    "    for key,value in context.sym_to_url.items():\n",
    "        context.logger.info(key)\n",
    "        context.logger.info(service.get([{\"symbol\": key}],as_list = True))\n",
    "        data = service.get([{\"symbol\": key}])[0]\n",
    "        data[\"symbol\"] = key\n",
    "        stock_list.append(data)\n",
    "    \n",
    "    data = [list(item.values()) for item in stock_list]\n",
    "    \n",
    "    columns = [{'text': key, 'type': 'object'} for key in stock_list[0].keys()]\n",
    "    \n",
    "    #data = [list(item.values()) for item in context.data]\n",
    "    response = [{'columns': columns,\n",
    "                'rows': data,\n",
    "                'type': 'table'}]\n",
    "    return response"
   ]
  },
  {
   "cell_type": "code",
   "execution_count": 8,
   "metadata": {},
   "outputs": [],
   "source": [
    "def init_context(context):\n",
    "    # Setting our enviornment\n",
    "    context.logger.info(\"Initalizing context & constructing featrure vector\")\n",
    "    setattr(context, 'PROJECT_NAME', os.getenv('PROJECT_NAME', 'stocks-test-' + os.getenv('V3IO_USERNAME')))\n",
    "    mlrun.set_environment(project=context.PROJECT_NAME)\n",
    "    \n",
    "    sym_to_url = {'GOOGL': 'google-inc', 'MSFT': 'microsoft-corp', 'AMZN': 'amazon-com-inc',\n",
    "                  'AAPL': 'apple-computer-inc'}\n",
    "    setattr(context, 'sym_to_url', sym_to_url)\n",
    "    setattr(context, 'stocks_vec', \"stocks-vec\")\n",
    "    \n",
    "    # Declaring the features we would like to add to our vector\n",
    "    features = [\"stocks.prices_min_1h\",\n",
    "                \"stocks.prices_max_1h\",\n",
    "                \"stocks.volumes_min_1h\",\n",
    "                \"stocks.volumes_max_1h\",\n",
    "                \"stocks.price\",\n",
    "                \"stocks.volume\",\n",
    "                \"stocks.last_updated\",\n",
    "                \"news.sentiments_min_1h\",\n",
    "                \"news.sentiments_max_1h\",\n",
    "                \"news.sentiment\",\n",
    "                \"news.last_reaction\"]\n",
    "    \n",
    "    # Making our vector\n",
    "    vector = fs.FeatureVector(context.stocks_vec, features, description=\"stocks demo feature vector\")\n",
    "    vector.save()"
   ]
  },
  {
   "cell_type": "code",
   "execution_count": 9,
   "metadata": {},
   "outputs": [],
   "source": [
    "# nuclio: end-code"
   ]
  },
  {
   "cell_type": "code",
   "execution_count": 10,
   "metadata": {},
   "outputs": [
    {
     "name": "stdout",
     "output_type": "stream",
     "text": [
      "Python> 2021-03-24 09:00:29,010 [info] Initalizing context & constructing featrure vector\n",
      "Python> 2021-03-24 09:00:29,054 [info] Reading features from feature vector\n",
      "Python> 2021-03-24 09:00:29,115 [info] GOOGL\n",
      "Python> 2021-03-24 09:00:29,130 [info] [[inf, -inf, inf, -inf, 2041.31005859375, 23487.0, '2021-03-23 15:59:00-04:00', 1.6666666666666667, 1.6666666666666667, 1.666666666666667, '2021-03-24 07:15:27']]\n",
      "Python> 2021-03-24 09:00:29,134 [info] MSFT\n",
      "Python> 2021-03-24 09:00:29,138 [info] [[inf, -inf, inf, -inf, 237.5, 555171.0, '2021-03-23 15:59:00-04:00', 0.0, 0.0, 0.0, '2021-03-24 08:30:45']]\n",
      "Python> 2021-03-24 09:00:29,142 [info] AMZN\n",
      "Python> 2021-03-24 09:00:29,146 [info] [[inf, -inf, inf, -inf, 3137.5, 37334.0, '2021-03-23 15:59:00-04:00', -2.0, -2.0, -2.0, '2021-03-24 08:30:45']]\n",
      "Python> 2021-03-24 09:00:29,150 [info] AAPL\n",
      "Python> 2021-03-24 09:00:29,154 [info] [[inf, -inf, inf, -inf, 122.5350036621094, 861260.0, '2021-03-23 15:59:00-04:00', -0.6666666666666666, -0.6666666666666666, -0.6666666666666666, '2021-03-24 08:50:28']]\n"
     ]
    }
   ],
   "source": [
    "# test local\n",
    "init_context(context)\n",
    "event = \"\"#nuclio.Event(body='')\n",
    "df = handler(context,event)"
   ]
  },
  {
   "cell_type": "code",
   "execution_count": 16,
   "metadata": {},
   "outputs": [],
   "source": [
    "# test remote deployment\n",
    "from mlrun import code_to_function\n",
    "fn = code_to_function('vector_reader',\n",
    "                      handler='handler')\n",
    "\n",
    "# Set parameters for current deployment\n",
    "fn.set_envs({'PROJECT_NAME' : 'stocks-test-dani',\n",
    "             'STOCKS_STREAM':  os.getenv('V3IO_USERNAME') +' /stocks/stocks_stream'})\n",
    "fn.spec.max_replicas = 2"
   ]
  },
  {
   "cell_type": "code",
   "execution_count": 12,
   "metadata": {},
   "outputs": [
    {
     "name": "stdout",
     "output_type": "stream",
     "text": [
      "> 2021-03-24 09:00:45,632 [info] Starting remote function deploy\n",
      "2021-03-24 09:00:45  (info) Deploying function\n",
      "2021-03-24 09:00:45  (info) Building\n",
      "2021-03-24 09:00:45  (info) Staging files and preparing base images\n",
      "2021-03-24 09:00:45  (info) Building processor image\n",
      "2021-03-24 09:00:47  (info) Build complete\n",
      "2021-03-24 09:00:53  (info) Function deploy complete\n",
      "> 2021-03-24 09:00:53,223 [info] function deployed, address=default-tenant.app.dev8.lab.iguazeng.com:30499\n"
     ]
    }
   ],
   "source": [
    "addr = fn.deploy(project='stocks-test-dani')"
   ]
  },
  {
   "cell_type": "code",
   "execution_count": 14,
   "metadata": {},
   "outputs": [
    {
     "name": "stdout",
     "output_type": "stream",
     "text": [
      "[{\"columns\": [{\"text\": \"sentiments_min_1h\", \"type\": \"object\"}, {\"text\": \"sentiments_max_1h\", \"type\": \"object\"}, {\"text\": \"prices_min_1h\", \"type\": \"object\"}, {\"text\": \"prices_max_1h\", \"type\": \"object\"}, {\"text\": \"volumes_min_1h\", \"type\": \"object\"}, {\"text\": \"volumes_max_1h\", \"type\": \"object\"}, {\"text\": \"price\", \"type\": \"object\"}, {\"text\": \"volume\", \"type\": \"object\"}, {\"text\": \"last_updated\", \"type\": \"object\"}, {\"text\": \"sentiment\", \"type\": \"object\"}, {\"text\": \"last_reaction\", \"type\": \"object\"}, {\"text\": \"symbol\", \"type\": \"object\"}], \"rows\": [[1.6666666666666667, 1.6666666666666667, Infinity, -Infinity, Infinity, -Infinity, 2041.31005859375, 23487.0, \"2021-03-23 15:59:00-04:00\", 1.666666666666667, \"2021-03-24 07:15:27\", \"GOOGL\"], [0.0, 0.0, Infinity, -Infinity, Infinity, -Infinity, 237.5, 555171.0, \"2021-03-23 15:59:00-04:00\", 0.0, \"2021-03-24 08:30:45\", \"MSFT\"], [-2.0, -2.0, Infinity, -Infinity, Infinity, -Infinity, 3137.5, 37334.0, \"2021-03-23 15:59:00-04:00\", -2.0, \"2021-03-24 08:30:45\", \"AMZN\"], [-0.6666666666666666, -0.6666666666666666, Infinity, -Infinity, Infinity, -Infinity, 122.5350036621094, 861260.0, \"2021-03-23 15:59:00-04:00\", -0.6666666666666666, \"2021-03-24 08:50:28\", \"AAPL\"]], \"type\": \"table\"}]"
     ]
    }
   ],
   "source": [
    "!curl {addr}"
   ]
  }
 ],
 "metadata": {
  "kernelspec": {
   "display_name": "Python 3",
   "language": "python",
   "name": "python3"
  },
  "language_info": {
   "codemirror_mode": {
    "name": "ipython",
    "version": 3
   },
   "file_extension": ".py",
   "mimetype": "text/x-python",
   "name": "python",
   "nbconvert_exporter": "python",
   "pygments_lexer": "ipython3",
   "version": "3.7.6"
  }
 },
 "nbformat": 4,
 "nbformat_minor": 4
}
