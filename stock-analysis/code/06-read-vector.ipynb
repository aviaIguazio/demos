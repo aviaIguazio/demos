{
 "cells": [
  {
   "cell_type": "code",
   "execution_count": null,
   "metadata": {},
   "outputs": [],
   "source": [
    "# nuclio: start-code"
   ]
  },
  {
   "cell_type": "code",
   "execution_count": 80,
   "metadata": {},
   "outputs": [],
   "source": [
    "import mlrun.feature_store as fs\n",
    "from mlrun.feature_store.steps import *\n",
    "import mlrun\n",
    "import pandas as pd"
   ]
  },
  {
   "cell_type": "code",
   "execution_count": 90,
   "metadata": {},
   "outputs": [],
   "source": [
    "def handler(context):\n",
    "    context.logger.info(\"Reading features from feature vector\")\n",
    "    stock_list = []\n",
    "    service = fs.get_online_feature_service(\"stocks-vec\")\n",
    "    for key,value in context.sym_to_url.items():\n",
    "        context.logger.info(key)\n",
    "        context.logger.info(service.get([{\"symbol\": key}],as_list = True))\n",
    "        #stock_list += service.get([{\"symbol\": key}],as_list = True)\n",
    "    #df = pd.DataFrame(stock_list,index = [item[0] for item in context.sym_to_url.items()])\n",
    "    #df.index.name = \"symbol\"\n",
    "#     df.columns = [\"price\",\"volume\",\"last_updated\",\"sentiment\"]\n",
    "    #return df"
   ]
  },
  {
   "cell_type": "code",
   "execution_count": 94,
   "metadata": {},
   "outputs": [],
   "source": [
    "def init_context(context):\n",
    "    # Setting our enviornment\n",
    "    context.logger.info(\"Initalizing context & constructing featrure vector\")\n",
    "    mlrun.set_environment(project=\"stocks-test-avia\")\n",
    "    sym_to_url = {'GOOGL': 'google-inc', 'MSFT': 'microsoft-corp', 'AMZN': 'amazon-com-inc',\n",
    "                  'AAPL': 'apple-computer-inc'}\n",
    "    setattr(context, 'sym_to_url', sym_to_url)\n",
    "    setattr(context, 'stocks_vec', \"stocks-vec\")\n",
    "    setattr(context, 'news', \"news\")\n",
    "    setattr(context, 'stocks', \"stocks\")\n",
    "    \n",
    "    # Declaring the features we would like to add to our vector\n",
    "    features = [\"stocks.*\",\n",
    "               \"news.*\"]\n",
    "    \n",
    "    # Making our vector\n",
    "    vector = fs.FeatureVector(context.stocks_vec, features, description=\"stocks demo feature vector\")\n",
    "    vector.save()"
   ]
  },
  {
   "cell_type": "code",
   "execution_count": 83,
   "metadata": {},
   "outputs": [],
   "source": [
    "# nuclio: end-code"
   ]
  },
  {
   "cell_type": "code",
   "execution_count": 95,
   "metadata": {},
   "outputs": [
    {
     "name": "stdout",
     "output_type": "stream",
     "text": [
      "Python> 2021-03-21 08:54:18,721 [info] Initalizing context & constructing featrure vector\n",
      "Python> 2021-03-21 08:54:18,791 [info] Reading features from feature vector\n"
     ]
    }
   ],
   "source": [
    "# test local\n",
    "init_context(context)\n",
    "df = handler(context)"
   ]
  },
  {
   "cell_type": "code",
   "execution_count": 96,
   "metadata": {},
   "outputs": [
    {
     "data": {
      "text/html": [
       "<div>\n",
       "<style scoped>\n",
       "    .dataframe tbody tr th:only-of-type {\n",
       "        vertical-align: middle;\n",
       "    }\n",
       "\n",
       "    .dataframe tbody tr th {\n",
       "        vertical-align: top;\n",
       "    }\n",
       "\n",
       "    .dataframe thead th {\n",
       "        text-align: right;\n",
       "    }\n",
       "</style>\n",
       "<table border=\"1\" class=\"dataframe\">\n",
       "  <thead>\n",
       "    <tr style=\"text-align: right;\">\n",
       "      <th></th>\n",
       "      <th>0</th>\n",
       "      <th>1</th>\n",
       "      <th>2</th>\n",
       "      <th>3</th>\n",
       "      <th>4</th>\n",
       "      <th>5</th>\n",
       "      <th>6</th>\n",
       "      <th>7</th>\n",
       "      <th>8</th>\n",
       "      <th>9</th>\n",
       "      <th>10</th>\n",
       "    </tr>\n",
       "    <tr>\n",
       "      <th>symbol</th>\n",
       "      <th></th>\n",
       "      <th></th>\n",
       "      <th></th>\n",
       "      <th></th>\n",
       "      <th></th>\n",
       "      <th></th>\n",
       "      <th></th>\n",
       "      <th></th>\n",
       "      <th></th>\n",
       "      <th></th>\n",
       "      <th></th>\n",
       "    </tr>\n",
       "  </thead>\n",
       "  <tbody>\n",
       "    <tr>\n",
       "      <th>GOOGL</th>\n",
       "      <td>2024.939941</td>\n",
       "      <td>2024.939941</td>\n",
       "      <td>4049.879883</td>\n",
       "      <td>61282.0</td>\n",
       "      <td>61282.0</td>\n",
       "      <td>2024.939941</td>\n",
       "      <td>61282.0</td>\n",
       "      <td>2021-03-19 15:59:00-04:00</td>\n",
       "      <td>-1.333333</td>\n",
       "      <td>-1.333333</td>\n",
       "      <td>-1.333333</td>\n",
       "    </tr>\n",
       "    <tr>\n",
       "      <th>MSFT</th>\n",
       "      <td>229.910004</td>\n",
       "      <td>229.910004</td>\n",
       "      <td>459.820007</td>\n",
       "      <td>656800.0</td>\n",
       "      <td>656800.0</td>\n",
       "      <td>229.910004</td>\n",
       "      <td>656800.0</td>\n",
       "      <td>2021-03-19 15:59:00-04:00</td>\n",
       "      <td>-1.666667</td>\n",
       "      <td>-1.666667</td>\n",
       "      <td>-1.666667</td>\n",
       "    </tr>\n",
       "    <tr>\n",
       "      <th>AMZN</th>\n",
       "      <td>3072.989990</td>\n",
       "      <td>3072.989990</td>\n",
       "      <td>6145.979980</td>\n",
       "      <td>115780.0</td>\n",
       "      <td>115780.0</td>\n",
       "      <td>3072.989990</td>\n",
       "      <td>115780.0</td>\n",
       "      <td>2021-03-19 15:59:00-04:00</td>\n",
       "      <td>-2.000000</td>\n",
       "      <td>-2.000000</td>\n",
       "      <td>-2.000000</td>\n",
       "    </tr>\n",
       "    <tr>\n",
       "      <th>AAPL</th>\n",
       "      <td>119.870003</td>\n",
       "      <td>119.870003</td>\n",
       "      <td>239.740005</td>\n",
       "      <td>2036818.0</td>\n",
       "      <td>2036818.0</td>\n",
       "      <td>119.870003</td>\n",
       "      <td>2036818.0</td>\n",
       "      <td>2021-03-19 15:59:00-04:00</td>\n",
       "      <td>3.000000</td>\n",
       "      <td>3.000000</td>\n",
       "      <td>3.000000</td>\n",
       "    </tr>\n",
       "  </tbody>\n",
       "</table>\n",
       "</div>"
      ],
      "text/plain": [
       "                 0            1            2          3          4   \\\n",
       "symbol                                                                \n",
       "GOOGL   2024.939941  2024.939941  4049.879883    61282.0    61282.0   \n",
       "MSFT     229.910004   229.910004   459.820007   656800.0   656800.0   \n",
       "AMZN    3072.989990  3072.989990  6145.979980   115780.0   115780.0   \n",
       "AAPL     119.870003   119.870003   239.740005  2036818.0  2036818.0   \n",
       "\n",
       "                 5          6                          7         8         9   \\\n",
       "symbol                                                                          \n",
       "GOOGL   2024.939941    61282.0  2021-03-19 15:59:00-04:00 -1.333333 -1.333333   \n",
       "MSFT     229.910004   656800.0  2021-03-19 15:59:00-04:00 -1.666667 -1.666667   \n",
       "AMZN    3072.989990   115780.0  2021-03-19 15:59:00-04:00 -2.000000 -2.000000   \n",
       "AAPL     119.870003  2036818.0  2021-03-19 15:59:00-04:00  3.000000  3.000000   \n",
       "\n",
       "              10  \n",
       "symbol            \n",
       "GOOGL  -1.333333  \n",
       "MSFT   -1.666667  \n",
       "AMZN   -2.000000  \n",
       "AAPL    3.000000  "
      ]
     },
     "execution_count": 96,
     "metadata": {},
     "output_type": "execute_result"
    }
   ],
   "source": []
  },
  {
   "cell_type": "code",
   "execution_count": 99,
   "metadata": {},
   "outputs": [],
   "source": [
    "stock_feature_set = fs.FeatureSet(\"stocks_vec\", entities=[fs.Entity(\"symbol\")])"
   ]
  },
  {
   "cell_type": "code",
   "execution_count": 78,
   "metadata": {},
   "outputs": [],
   "source": [
    "stock_feature_set.add_aggregation(\"sentiments\",\"sentiment\",[\"min\",\"max\"],[\"1h\"],\"10m\")\n",
    "stock_feature_set.add_aggregation(\"prices\",\"price\",[\"min\",\"max\",\"sum\"],[\"1h\"],\"10m\")\n",
    "stock_feature_set.add_aggregation(\"volumes\",\"volume\",[\"min\",\"max\"],[\"1h\"],\"10m\")"
   ]
  },
  {
   "cell_type": "code",
   "execution_count": 98,
   "metadata": {},
   "outputs": [
    {
     "ename": "TypeError",
     "evalue": "infer() missing 1 required positional argument: 'source'",
     "output_type": "error",
     "traceback": [
      "\u001b[0;31m---------------------------------------------------------------------------\u001b[0m",
      "\u001b[0;31mTypeError\u001b[0m                                 Traceback (most recent call last)",
      "\u001b[0;32m<ipython-input-98-c5adadf3a834>\u001b[0m in \u001b[0;36m<module>\u001b[0;34m\u001b[0m\n\u001b[1;32m      2\u001b[0m     \u001b[0mstock_feature_set\u001b[0m\u001b[0;34m,\u001b[0m\u001b[0;34m\u001b[0m\u001b[0;34m\u001b[0m\u001b[0m\n\u001b[1;32m      3\u001b[0m     \u001b[0mentity_columns\u001b[0m\u001b[0;34m=\u001b[0m\u001b[0;34m[\u001b[0m\u001b[0;34m\"symbol\"\u001b[0m\u001b[0;34m]\u001b[0m\u001b[0;34m,\u001b[0m\u001b[0;34m\u001b[0m\u001b[0;34m\u001b[0m\u001b[0m\n\u001b[0;32m----> 4\u001b[0;31m     \u001b[0moptions\u001b[0m\u001b[0;34m=\u001b[0m\u001b[0mfs\u001b[0m\u001b[0;34m.\u001b[0m\u001b[0mInferOptions\u001b[0m\u001b[0;34m.\u001b[0m\u001b[0mdefault\u001b[0m\u001b[0;34m(\u001b[0m\u001b[0;34m)\u001b[0m\u001b[0;34m,\u001b[0m\u001b[0;34m\u001b[0m\u001b[0;34m\u001b[0m\u001b[0m\n\u001b[0m\u001b[1;32m      5\u001b[0m )\n",
      "\u001b[0;31mTypeError\u001b[0m: infer() missing 1 required positional argument: 'source'"
     ]
    }
   ],
   "source": [
    "fs.infer_metadata(\n",
    "    stock_feature_set,\n",
    "    df,\n",
    "    entity_columns=[\"symbol\"],\n",
    "    options=fs.InferOptions.default(),\n",
    ")\n",
    "[prices_min_1h,prices_max_1h,volumes_min_1h,volumes_max_1h,price,volume,last_updated,sentiments_min_1h]"
   ]
  },
  {
   "cell_type": "code",
   "execution_count": 105,
   "metadata": {},
   "outputs": [
    {
     "data": {
      "text/plain": [
       "{'kind': 'FeatureSet',\n",
       " 'metadata': {'name': 'stocks_vec'},\n",
       " 'spec': {'entities': [{'name': 'symbol', 'value_type': 'str'}],\n",
       "  'partition_keys': [],\n",
       "  'source': {'path': 'None'},\n",
       "  'graph': {'engine': 'async'}},\n",
       " 'status': {'state': 'created', 'preview': []}}"
      ]
     },
     "execution_count": 105,
     "metadata": {},
     "output_type": "execute_result"
    }
   ],
   "source": [
    "stock_feature_set.to_dict()"
   ]
  }
 ],
 "metadata": {
  "kernelspec": {
   "display_name": "Python 3",
   "language": "python",
   "name": "python3"
  },
  "language_info": {
   "codemirror_mode": {
    "name": "ipython",
    "version": 3
   },
   "file_extension": ".py",
   "mimetype": "text/x-python",
   "name": "python",
   "nbconvert_exporter": "python",
   "pygments_lexer": "ipython3",
   "version": "3.7.6"
  }
 },
 "nbformat": 4,
 "nbformat_minor": 4
}
