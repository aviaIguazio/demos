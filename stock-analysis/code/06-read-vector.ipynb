{
 "cells": [
  {
   "cell_type": "code",
   "execution_count": null,
   "metadata": {},
   "outputs": [],
   "source": [
    "import nuclio \n",
    "import mlrun"
   ]
  },
  {
   "cell_type": "code",
   "execution_count": null,
   "metadata": {},
   "outputs": [],
   "source": [
    "%nuclio env -c V3IO_ACCESS_KEY=${V3IO_ACCESS_KEY}\n",
    "%nuclio env -c V3IO_USERNAME=${V3IO_USERNAME}\n",
    "%nuclio env -c V3IO_API=${V3IO_API}"
   ]
  },
  {
   "cell_type": "code",
   "execution_count": null,
   "metadata": {},
   "outputs": [],
   "source": [
    "%%nuclio cmd -c\n",
    "pip install beautifulsoup4\n",
    "pip install pandas\n",
    "pip install v3io_frames"
   ]
  },
  {
   "cell_type": "code",
   "execution_count": null,
   "metadata": {},
   "outputs": [],
   "source": [
    "%%nuclio config \n",
    "kind = \"nuclio\"\n",
    "spec.build.baseImage = \"mlrun/ml-models\""
   ]
  },
  {
   "cell_type": "code",
   "execution_count": 18,
   "metadata": {},
   "outputs": [],
   "source": [
    "# nuclio: start-code"
   ]
  },
  {
   "cell_type": "code",
   "execution_count": 19,
   "metadata": {},
   "outputs": [],
   "source": [
    "import mlrun.feature_store as fs\n",
    "from mlrun.feature_store.steps import *\n",
    "import mlrun\n",
    "import pandas as pd\n",
    "import os"
   ]
  },
  {
   "cell_type": "code",
   "execution_count": 37,
   "metadata": {},
   "outputs": [],
   "source": [
    "def handler(context, event):\n",
    "    context.logger.info(\"Reading features from feature vector\")\n",
    "    stock_list = []\n",
    "    # Reading the data from feature service\n",
    "    service = fs.get_online_feature_service(\"stocks-vec\")\n",
    "    for key,value in context.sym_to_url.items():\n",
    "        context.logger.info(key)\n",
    "        context.logger.info(service.get([{\"symbol\": key}],as_list = True))\n",
    "        stock_list.append(*service.get([{\"symbol\": key}],as_list = True))\n",
    "        \n",
    "    columns = [{'text': key, 'type': 'object'} for key in [\"stocks.prices_min_1h\",\n",
    "                \"stocks.prices_max_1h\",\n",
    "                \"stocks.volumes_min_1h\",\n",
    "                \"stocks.volumes_max_1h\",\n",
    "                \"stocks.price\",\n",
    "                \"stocks.volume\",\n",
    "                \"stocks.last_updated\",\n",
    "                \"news.sentiments_min_1h\",\n",
    "                \"news.sentiments_max_1h\",\n",
    "                \"news.sentiment\"]]\n",
    "    \n",
    "    #data = [list(item.values()) for item in context.data]\n",
    "    response = [{'columns': columns,\n",
    "                'rows': stock_list,\n",
    "                'type': 'table'}]\n",
    "    return response"
   ]
  },
  {
   "cell_type": "code",
   "execution_count": 38,
   "metadata": {},
   "outputs": [],
   "source": [
    "def init_context(context):\n",
    "    # Setting our enviornment\n",
    "    context.logger.info(\"Initalizing context & constructing featrure vector\")\n",
    "    setattr(context, 'PROJECT_NAME', os.getenv('PROJECT_NAME', 'stocks-test-' + os.getenv('V3IO_USERNAME')))\n",
    "    mlrun.set_environment(project=context.PROJECT_NAME)\n",
    "    \n",
    "    sym_to_url = {'GOOGL': 'google-inc', 'MSFT': 'microsoft-corp', 'AMZN': 'amazon-com-inc',\n",
    "                  'AAPL': 'apple-computer-inc'}\n",
    "    setattr(context, 'sym_to_url', sym_to_url)\n",
    "    setattr(context, 'stocks_vec', \"stocks-vec\")\n",
    "    \n",
    "    # Declaring the features we would like to add to our vector\n",
    "    features = [\"stocks.prices_min_1h\",\n",
    "                \"stocks.prices_max_1h\",\n",
    "                \"stocks.volumes_min_1h\",\n",
    "                \"stocks.volumes_max_1h\",\n",
    "                \"stocks.price\",\n",
    "                \"stocks.volume\",\n",
    "                \"stocks.last_updated\",\n",
    "                \"news.sentiments_min_1h\",\n",
    "                \"news.sentiments_max_1h\",\n",
    "                \"news.sentiment\"]\n",
    "    \n",
    "    # Making our vector\n",
    "    vector = fs.FeatureVector(context.stocks_vec, features, description=\"stocks demo feature vector\")\n",
    "    vector.save()"
   ]
  },
  {
   "cell_type": "code",
   "execution_count": 39,
   "metadata": {},
   "outputs": [],
   "source": [
    "# nuclio: end-code"
   ]
  },
  {
   "cell_type": "code",
   "execution_count": 40,
   "metadata": {},
   "outputs": [
    {
     "name": "stdout",
     "output_type": "stream",
     "text": [
      "Python> 2021-03-22 13:53:53,049 [info] Initalizing context & constructing featrure vector\n",
      "Python> 2021-03-22 13:53:53,088 [info] Reading features from feature vector\n",
      "Python> 2021-03-22 13:53:53,146 [info] GOOGL\n",
      "Python> 2021-03-22 13:53:53,167 [info] [[2016.4599609375, 2029.8399658203125, 0.0, 0.0, 2029.839965820312, 0.0, '2021-03-22 09:53:21-04:00', -2.3333333333333335, -2.3333333333333335, -2.333333333333333]]\n",
      "Python> 2021-03-22 13:53:53,171 [info] MSFT\n",
      "Python> 2021-03-22 13:53:53,176 [info] [[232.07000732421875, 233.0863037109375, 0.0, 0.0, 233.0863037109375, 0.0, '2021-03-22 09:53:25-04:00', -1.3333333333333333, -1.3333333333333333, -1.333333333333333]]\n",
      "Python> 2021-03-22 13:53:53,179 [info] AMZN\n",
      "Python> 2021-03-22 13:53:53,183 [info] [[3078.739990234375, 3096.719970703125, 0.0, 0.0, 3096.719970703125, 0.0, '2021-03-22 09:53:22-04:00', -2.0, -1.6666666666666667, -2.0]]\n",
      "Python> 2021-03-22 13:53:53,187 [info] AAPL\n",
      "Python> 2021-03-22 13:53:53,191 [info] [[121.25, 121.45999908447266, 0.0, 0.0, 121.4349975585938, 0.0, '2021-03-22 09:53:25-04:00', -2.3333333333333335, -0.3333333333333333, -2.333333333333333]]\n"
     ]
    }
   ],
   "source": [
    "# test local\n",
    "init_context(context)\n",
    "event = \"\"#nuclio.Event(body='')\n",
    "df = handler(context,event)"
   ]
  },
  {
   "cell_type": "code",
   "execution_count": null,
   "metadata": {},
   "outputs": [],
   "source": [
    "[\"prices_min_1h\",\"prices_max_1h\",\"volumes_min_1h\",\"volumes_max_1h\",\"price\",\"volume\",\"last_updated\",\n",
    "\"sentimenst_min_1h\",\"sentiments_max_1h\",\"sentiment\"]"
   ]
  },
  {
   "cell_type": "code",
   "execution_count": null,
   "metadata": {},
   "outputs": [],
   "source": [
    "df"
   ]
  }
 ],
 "metadata": {
  "kernelspec": {
   "display_name": "Python 3",
   "language": "python",
   "name": "python3"
  },
  "language_info": {
   "codemirror_mode": {
    "name": "ipython",
    "version": 3
   },
   "file_extension": ".py",
   "mimetype": "text/x-python",
   "name": "python",
   "nbconvert_exporter": "python",
   "pygments_lexer": "ipython3",
   "version": "3.7.6"
  }
 },
 "nbformat": 4,
 "nbformat_minor": 4
}
