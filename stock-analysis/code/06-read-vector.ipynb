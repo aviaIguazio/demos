{
 "cells": [
  {
   "cell_type": "code",
   "execution_count": null,
   "metadata": {},
   "outputs": [],
   "source": [
    "# nuclio: start-code"
   ]
  },
  {
   "cell_type": "code",
   "execution_count": 12,
   "metadata": {},
   "outputs": [],
   "source": [
    "import mlrun.feature_store as fs\n",
    "from mlrun.feature_store.steps import *\n",
    "import mlrun\n",
    "import pandas as pd"
   ]
  },
  {
   "cell_type": "code",
   "execution_count": 46,
   "metadata": {},
   "outputs": [],
   "source": [
    "def handler(context):\n",
    "    context.logger.info(\"Reading features from feature vector\")\n",
    "    stock_list = []\n",
    "    service = fs.get_online_feature_service(\"stocks-vec\")\n",
    "    for key,value in context.sym_to_url.items():\n",
    "        stock_list += service.get([{\"symbol\": key}],as_list = True)\n",
    "    df = pd.DataFrame(stock_list,index = [item[0] for item in context.sym_to_url.items()])\n",
    "    df.index.name = \"symbol\"\n",
    "    df.columns = [\"price\",\"volume\",\"last_updated\",\"sentiment\"]\n",
    "    return df"
   ]
  },
  {
   "cell_type": "code",
   "execution_count": 18,
   "metadata": {},
   "outputs": [],
   "source": [
    "def init_context(context):\n",
    "    # Setting our enviornment\n",
    "    context.logger.info(\"Initalizing context & constructing featrure vector\")\n",
    "    mlrun.set_environment(project=\"stocks-avia\")\n",
    "    sym_to_url = {'GOOGL': 'google-inc', 'MSFT': 'microsoft-corp', 'AMZN': 'amazon-com-inc',\n",
    "                  'AAPL': 'apple-computer-inc'}\n",
    "    setattr(context, 'sym_to_url', sym_to_url)\n",
    "    setattr(context, 'stocks_vec', \"stocks-vec\")\n",
    "    setattr(context, 'news', \"news\")\n",
    "    setattr(context, 'stocks', \"stocks\")\n",
    "    \n",
    "    # Declaring the features we would like to add to our vector\n",
    "    features = [\"stocks.price\",\n",
    "               \"stocks.volume\",\n",
    "               \"stocks.last_updated\",\n",
    "               \"news.sentiment\"]\n",
    "    \n",
    "    # Making our vector\n",
    "    vector = fs.FeatureVector(context.stocks_vec, features, description=\"stocks demo feature vector\")\n",
    "    vector.save()"
   ]
  },
  {
   "cell_type": "code",
   "execution_count": 15,
   "metadata": {},
   "outputs": [],
   "source": [
    "# nuclio: end-code"
   ]
  },
  {
   "cell_type": "code",
   "execution_count": 59,
   "metadata": {},
   "outputs": [
    {
     "name": "stdout",
     "output_type": "stream",
     "text": [
      "Python> 2021-03-21 06:24:07,970 [info] Initalizing context & constructing featrure vector\n",
      "Python> 2021-03-21 06:24:08,025 [info] Reading features from feature vector\n"
     ]
    }
   ],
   "source": [
    "# test local\n",
    "init_context(context)\n",
    "df = handler(context)"
   ]
  },
  {
   "cell_type": "code",
   "execution_count": 76,
   "metadata": {},
   "outputs": [
    {
     "data": {
      "text/html": [
       "<div>\n",
       "<style scoped>\n",
       "    .dataframe tbody tr th:only-of-type {\n",
       "        vertical-align: middle;\n",
       "    }\n",
       "\n",
       "    .dataframe tbody tr th {\n",
       "        vertical-align: top;\n",
       "    }\n",
       "\n",
       "    .dataframe thead th {\n",
       "        text-align: right;\n",
       "    }\n",
       "</style>\n",
       "<table border=\"1\" class=\"dataframe\">\n",
       "  <thead>\n",
       "    <tr style=\"text-align: right;\">\n",
       "      <th></th>\n",
       "      <th>price</th>\n",
       "      <th>volume</th>\n",
       "      <th>last_updated</th>\n",
       "      <th>sentiment</th>\n",
       "    </tr>\n",
       "    <tr>\n",
       "      <th>symbol</th>\n",
       "      <th></th>\n",
       "      <th></th>\n",
       "      <th></th>\n",
       "      <th></th>\n",
       "    </tr>\n",
       "  </thead>\n",
       "  <tbody>\n",
       "    <tr>\n",
       "      <th>GOOGL</th>\n",
       "      <td>2026.959961</td>\n",
       "      <td>61164.0</td>\n",
       "      <td>2021-03-19 15:59:00-04:00</td>\n",
       "      <td>-1.333333</td>\n",
       "    </tr>\n",
       "    <tr>\n",
       "      <th>MSFT</th>\n",
       "      <td>229.910004</td>\n",
       "      <td>656799.0</td>\n",
       "      <td>2021-03-19 15:59:00-04:00</td>\n",
       "      <td>-1.666667</td>\n",
       "    </tr>\n",
       "    <tr>\n",
       "      <th>AMZN</th>\n",
       "      <td>3074.959961</td>\n",
       "      <td>113128.0</td>\n",
       "      <td>2021-03-19 15:59:00-04:00</td>\n",
       "      <td>-2.000000</td>\n",
       "    </tr>\n",
       "    <tr>\n",
       "      <th>AAPL</th>\n",
       "      <td>119.870003</td>\n",
       "      <td>2036817.0</td>\n",
       "      <td>2021-03-19 15:59:00-04:00</td>\n",
       "      <td>3.000000</td>\n",
       "    </tr>\n",
       "  </tbody>\n",
       "</table>\n",
       "</div>"
      ],
      "text/plain": [
       "              price     volume               last_updated  sentiment\n",
       "symbol                                                              \n",
       "GOOGL   2026.959961    61164.0  2021-03-19 15:59:00-04:00  -1.333333\n",
       "MSFT     229.910004   656799.0  2021-03-19 15:59:00-04:00  -1.666667\n",
       "AMZN    3074.959961   113128.0  2021-03-19 15:59:00-04:00  -2.000000\n",
       "AAPL     119.870003  2036817.0  2021-03-19 15:59:00-04:00   3.000000"
      ]
     },
     "execution_count": 76,
     "metadata": {},
     "output_type": "execute_result"
    }
   ],
   "source": [
    "df"
   ]
  },
  {
   "cell_type": "code",
   "execution_count": 77,
   "metadata": {},
   "outputs": [],
   "source": [
    "stock_feature_set = fs.FeatureSet(\"stocks_fs\", entities=[fs.Entity(\"symbol\")])"
   ]
  },
  {
   "cell_type": "code",
   "execution_count": 78,
   "metadata": {},
   "outputs": [],
   "source": [
    "stock_feature_set.add_aggregation(\"sentiments\",\"sentiment\",[\"min\",\"max\"],[\"1h\"],\"10m\")\n",
    "stock_feature_set.add_aggregation(\"prices\",\"price\",[\"min\",\"max\",\"sum\"],[\"1h\"],\"10m\")\n",
    "stock_feature_set.add_aggregation(\"volumes\",\"volume\",[\"min\",\"max\"],[\"1h\"],\"10m\")"
   ]
  },
  {
   "cell_type": "code",
   "execution_count": 79,
   "metadata": {},
   "outputs": [
    {
     "data": {
      "text/html": [
       "<div>\n",
       "<style scoped>\n",
       "    .dataframe tbody tr th:only-of-type {\n",
       "        vertical-align: middle;\n",
       "    }\n",
       "\n",
       "    .dataframe tbody tr th {\n",
       "        vertical-align: top;\n",
       "    }\n",
       "\n",
       "    .dataframe thead th {\n",
       "        text-align: right;\n",
       "    }\n",
       "</style>\n",
       "<table border=\"1\" class=\"dataframe\">\n",
       "  <thead>\n",
       "    <tr style=\"text-align: right;\">\n",
       "      <th></th>\n",
       "      <th>sentiments_max_1h</th>\n",
       "      <th>sentiments_min_1h</th>\n",
       "      <th>prices_max_1h</th>\n",
       "      <th>prices_min_1h</th>\n",
       "      <th>prices_sum_1h</th>\n",
       "      <th>volumes_max_1h</th>\n",
       "      <th>volumes_min_1h</th>\n",
       "      <th>price</th>\n",
       "      <th>volume</th>\n",
       "      <th>last_updated</th>\n",
       "      <th>sentiment</th>\n",
       "    </tr>\n",
       "    <tr>\n",
       "      <th>symbol</th>\n",
       "      <th></th>\n",
       "      <th></th>\n",
       "      <th></th>\n",
       "      <th></th>\n",
       "      <th></th>\n",
       "      <th></th>\n",
       "      <th></th>\n",
       "      <th></th>\n",
       "      <th></th>\n",
       "      <th></th>\n",
       "      <th></th>\n",
       "    </tr>\n",
       "  </thead>\n",
       "  <tbody>\n",
       "    <tr>\n",
       "      <th>GOOGL</th>\n",
       "      <td>-1.333333</td>\n",
       "      <td>-1.333333</td>\n",
       "      <td>2026.959961</td>\n",
       "      <td>2026.959961</td>\n",
       "      <td>2026.959961</td>\n",
       "      <td>61164.0</td>\n",
       "      <td>61164.0</td>\n",
       "      <td>2026.959961</td>\n",
       "      <td>61164.0</td>\n",
       "      <td>2021-03-19 15:59:00-04:00</td>\n",
       "      <td>-1.333333</td>\n",
       "    </tr>\n",
       "    <tr>\n",
       "      <th>MSFT</th>\n",
       "      <td>-1.666667</td>\n",
       "      <td>-1.666667</td>\n",
       "      <td>229.910004</td>\n",
       "      <td>229.910004</td>\n",
       "      <td>229.910004</td>\n",
       "      <td>656799.0</td>\n",
       "      <td>656799.0</td>\n",
       "      <td>229.910004</td>\n",
       "      <td>656799.0</td>\n",
       "      <td>2021-03-19 15:59:00-04:00</td>\n",
       "      <td>-1.666667</td>\n",
       "    </tr>\n",
       "    <tr>\n",
       "      <th>AMZN</th>\n",
       "      <td>-2.000000</td>\n",
       "      <td>-2.000000</td>\n",
       "      <td>3074.959961</td>\n",
       "      <td>3074.959961</td>\n",
       "      <td>3074.959961</td>\n",
       "      <td>113128.0</td>\n",
       "      <td>113128.0</td>\n",
       "      <td>3074.959961</td>\n",
       "      <td>113128.0</td>\n",
       "      <td>2021-03-19 15:59:00-04:00</td>\n",
       "      <td>-2.000000</td>\n",
       "    </tr>\n",
       "    <tr>\n",
       "      <th>AAPL</th>\n",
       "      <td>3.000000</td>\n",
       "      <td>3.000000</td>\n",
       "      <td>119.870003</td>\n",
       "      <td>119.870003</td>\n",
       "      <td>119.870003</td>\n",
       "      <td>2036817.0</td>\n",
       "      <td>2036817.0</td>\n",
       "      <td>119.870003</td>\n",
       "      <td>2036817.0</td>\n",
       "      <td>2021-03-19 15:59:00-04:00</td>\n",
       "      <td>3.000000</td>\n",
       "    </tr>\n",
       "  </tbody>\n",
       "</table>\n",
       "</div>"
      ],
      "text/plain": [
       "        sentiments_max_1h  sentiments_min_1h  prices_max_1h  prices_min_1h  \\\n",
       "symbol                                                                       \n",
       "GOOGL           -1.333333          -1.333333    2026.959961    2026.959961   \n",
       "MSFT            -1.666667          -1.666667     229.910004     229.910004   \n",
       "AMZN            -2.000000          -2.000000    3074.959961    3074.959961   \n",
       "AAPL             3.000000           3.000000     119.870003     119.870003   \n",
       "\n",
       "        prices_sum_1h  volumes_max_1h  volumes_min_1h        price     volume  \\\n",
       "symbol                                                                          \n",
       "GOOGL     2026.959961         61164.0         61164.0  2026.959961    61164.0   \n",
       "MSFT       229.910004        656799.0        656799.0   229.910004   656799.0   \n",
       "AMZN      3074.959961        113128.0        113128.0  3074.959961   113128.0   \n",
       "AAPL       119.870003       2036817.0       2036817.0   119.870003  2036817.0   \n",
       "\n",
       "                     last_updated  sentiment  \n",
       "symbol                                        \n",
       "GOOGL   2021-03-19 15:59:00-04:00  -1.333333  \n",
       "MSFT    2021-03-19 15:59:00-04:00  -1.666667  \n",
       "AMZN    2021-03-19 15:59:00-04:00  -2.000000  \n",
       "AAPL    2021-03-19 15:59:00-04:00   3.000000  "
      ]
     },
     "execution_count": 79,
     "metadata": {},
     "output_type": "execute_result"
    }
   ],
   "source": [
    "fs.infer_metadata(\n",
    "    stock_feature_set,\n",
    "    df,\n",
    "    entity_columns=[\"symbol\"],\n",
    "    options=fs.InferOptions.default(),\n",
    ")"
   ]
  },
  {
   "cell_type": "code",
   "execution_count": null,
   "metadata": {},
   "outputs": [],
   "source": []
  }
 ],
 "metadata": {
  "kernelspec": {
   "display_name": "Python 3",
   "language": "python",
   "name": "python3"
  },
  "language_info": {
   "codemirror_mode": {
    "name": "ipython",
    "version": 3
   },
   "file_extension": ".py",
   "mimetype": "text/x-python",
   "name": "python",
   "nbconvert_exporter": "python",
   "pygments_lexer": "ipython3",
   "version": "3.7.6"
  }
 },
 "nbformat": 4,
 "nbformat_minor": 4
}
