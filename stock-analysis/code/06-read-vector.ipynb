{
 "cells": [
  {
   "cell_type": "code",
   "execution_count": 106,
   "metadata": {},
   "outputs": [],
   "source": [
    "import nuclio \n",
    "import mlrun"
   ]
  },
  {
   "cell_type": "code",
   "execution_count": 107,
   "metadata": {},
   "outputs": [],
   "source": [
    "%nuclio env -c V3IO_ACCESS_KEY=${V3IO_ACCESS_KEY}\n",
    "%nuclio env -c V3IO_USERNAME=${V3IO_USERNAME}\n",
    "%nuclio env -c V3IO_API=${V3IO_API}"
   ]
  },
  {
   "cell_type": "code",
   "execution_count": 108,
   "metadata": {},
   "outputs": [],
   "source": [
    "%%nuclio cmd -c\n",
    "pip install beautifulsoup4\n",
    "pip install pandas\n",
    "pip install v3io_frames"
   ]
  },
  {
   "cell_type": "code",
   "execution_count": 109,
   "metadata": {},
   "outputs": [
    {
     "name": "stdout",
     "output_type": "stream",
     "text": [
      "%nuclio: setting kind to 'nuclio'\n",
      "%nuclio: setting spec.build.baseImage to 'mlrun/ml-models'\n"
     ]
    }
   ],
   "source": [
    "%%nuclio config \n",
    "kind = \"nuclio\"\n",
    "spec.build.baseImage = \"mlrun/ml-models\""
   ]
  },
  {
   "cell_type": "code",
   "execution_count": 110,
   "metadata": {},
   "outputs": [],
   "source": [
    "%nuclio cmd -c pip install v3io"
   ]
  },
  {
   "cell_type": "code",
   "execution_count": 111,
   "metadata": {},
   "outputs": [],
   "source": [
    "# nuclio: start-code"
   ]
  },
  {
   "cell_type": "code",
   "execution_count": 112,
   "metadata": {},
   "outputs": [],
   "source": [
    "import mlrun.feature_store as fs\n",
    "from mlrun.feature_store.steps import *\n",
    "import mlrun\n",
    "import pandas as pd\n",
    "import numpy\n",
    "import os"
   ]
  },
  {
   "cell_type": "code",
   "execution_count": 148,
   "metadata": {},
   "outputs": [],
   "source": [
    "def handler(context, event):\n",
    "    context.logger.info(\"Reading features from feature vector\")\n",
    "    stock_list = []\n",
    "    # Reading the data from feature service\n",
    "    service = fs.get_online_feature_service(\"stocks-vec\")\n",
    "    for key,value in context.sym_to_url.items():\n",
    "        context.logger.info(key)\n",
    "        context.logger.info(service.get([{\"symbol\": key}],as_list = True))\n",
    "        data = service.get([{\"symbol\": key}])[0]\n",
    "        data[\"symbol\"] = key\n",
    "        stock_list.append(data)\n",
    "    \n",
    "    data = [list(item.values()) for item in stock_list]\n",
    "    \n",
    "    columns = [{'text': key, 'type': 'object'} for key in stock_list[0].keys()]\n",
    "    \n",
    "    response = [{'columns': columns,\n",
    "                'rows': data,\n",
    "                'type': 'table'}]\n",
    "    return response"
   ]
  },
  {
   "cell_type": "code",
   "execution_count": 149,
   "metadata": {},
   "outputs": [],
   "source": [
    "def init_context(context):\n",
    "    # Setting our enviornment\n",
    "    context.logger.info(\"Initalizing context & constructing featrure vector\")\n",
    "    setattr(context, 'PROJECT_NAME', os.getenv('PROJECT_NAME', 'stocks-test-' + os.getenv('V3IO_USERNAME')))\n",
    "    mlrun.set_environment(project=context.PROJECT_NAME)\n",
    "    \n",
    "    sym_to_url = {'GOOGL': 'google-inc', 'MSFT': 'microsoft-corp', 'AMZN': 'amazon-com-inc',\n",
    "                  'AAPL': 'apple-computer-inc'}\n",
    "    setattr(context, 'sym_to_url', sym_to_url)\n",
    "    setattr(context, 'stocks_vec', \"stocks-vec\")\n",
    "    \n",
    "    # Declaring the features we would like to add to our vector\n",
    "    features = [\"stocks.prices_min_1h\",\n",
    "                \"stocks.prices_max_1h\",\n",
    "                \"stocks.volumes_min_1h\",\n",
    "                \"stocks.volumes_max_1h\",\n",
    "                \"stocks.price\",\n",
    "                \"stocks.volume\",\n",
    "                \"stocks.last_updated\",\n",
    "                \"news.sentiments_min_1h\",\n",
    "                \"news.sentiments_max_1h\",\n",
    "                \"news.sentiment\",\n",
    "                \"news.last_reaction\"]\n",
    "    \n",
    "    # Making our vector\n",
    "    vector = fs.FeatureVector(context.stocks_vec, features, description=\"stocks demo feature vector\")\n",
    "    vector.save()"
   ]
  },
  {
   "cell_type": "code",
   "execution_count": 150,
   "metadata": {},
   "outputs": [],
   "source": [
    "# nuclio: end-code"
   ]
  },
  {
   "cell_type": "code",
   "execution_count": 151,
   "metadata": {},
   "outputs": [
    {
     "name": "stdout",
     "output_type": "stream",
     "text": [
      "Python> 2021-03-25 13:15:58,818 [info] Initalizing context & constructing featrure vector\n",
      "Python> 2021-03-25 13:15:58,858 [info] Reading features from feature vector\n",
      "Python> 2021-03-25 13:15:58,921 [info] GOOGL\n",
      "Python> 2021-03-25 13:15:58,935 [info] [[inf, -inf, inf, -inf, 2033.22998046875, 29723.0, '2021-03-24 15:59:00-04:00', -3.3333333333333335, -3.3333333333333335, -3.333333333333333, '2021-03-25 12:50:55']]\n",
      "Python> 2021-03-25 13:15:58,939 [info] MSFT\n",
      "Python> 2021-03-25 13:15:58,943 [info] [[inf, -inf, inf, -inf, 235.4600067138672, 496721.0, '2021-03-24 15:59:00-04:00', 0.3333333333333333, 0.3333333333333333, 0.3333333333333333, '2021-03-25 12:50:55']]\n",
      "Python> 2021-03-25 13:15:58,947 [info] AMZN\n",
      "Python> 2021-03-25 13:15:58,951 [info] [[inf, -inf, inf, -inf, 3087.169921875, 64163.0, '2021-03-24 15:59:00-04:00', -2.6666666666666665, -1.6666666666666667, -1.666666666666667, '2021-03-25 12:55:22']]\n",
      "Python> 2021-03-25 13:15:58,955 [info] AAPL\n",
      "Python> 2021-03-25 13:15:58,963 [info] [[inf, -inf, inf, -inf, 120.0699996948242, 1303896.0, '2021-03-24 15:59:00-04:00', -3.3333333333333335, -0.6666666666666666, -3.333333333333333, '2021-03-25 12:55:22']]\n"
     ]
    }
   ],
   "source": [
    "# test local\n",
    "init_context(context)\n",
    "event = \"\"#nuclio.Event(body='')\n",
    "df = handler(context,event)"
   ]
  },
  {
   "cell_type": "code",
   "execution_count": 143,
   "metadata": {},
   "outputs": [],
   "source": [
    "# test remote deployment\n",
    "from mlrun import code_to_function\n",
    "fn = code_to_function('vector_reader',\n",
    "                      handler='handler')\n",
    "\n",
    "# Set parameters for current deployment\n",
    "fn.set_envs({'PROJECT_NAME' : 'stocks-test-dani',\n",
    "             'STOCKS_STREAM':  os.getenv('V3IO_USERNAME') +' /stocks/stocks_stream'})\n",
    "fn.spec.max_replicas = 2"
   ]
  },
  {
   "cell_type": "code",
   "execution_count": 144,
   "metadata": {},
   "outputs": [
    {
     "name": "stdout",
     "output_type": "stream",
     "text": [
      "> 2021-03-25 13:13:29,982 [info] Starting remote function deploy\n",
      "2021-03-25 13:13:30  (info) Deploying function\n",
      "2021-03-25 13:13:30  (info) Building\n",
      "2021-03-25 13:13:30  (info) Staging files and preparing base images\n",
      "2021-03-25 13:13:30  (info) Building processor image\n",
      "2021-03-25 13:13:31  (info) Build complete\n",
      "> 2021-03-25 13:13:35,488 [info] function deployed, address=default-tenant.app.dev8.lab.iguazeng.com:32364\n"
     ]
    }
   ],
   "source": [
    "addr = fn.deploy(project='stocks-test-dani')"
   ]
  },
  {
   "cell_type": "code",
   "execution_count": 145,
   "metadata": {},
   "outputs": [
    {
     "name": "stdout",
     "output_type": "stream",
     "text": [
      "[{\"columns\": [{\"text\": \"sentiments_min_1h\", \"type\": \"object\"}, {\"text\": \"sentiments_max_1h\", \"type\": \"object\"}, {\"text\": \"prices_min_1h\", \"type\": \"object\"}, {\"text\": \"prices_max_1h\", \"type\": \"object\"}, {\"text\": \"volumes_min_1h\", \"type\": \"object\"}, {\"text\": \"volumes_max_1h\", \"type\": \"object\"}, {\"text\": \"price\", \"type\": \"object\"}, {\"text\": \"volume\", \"type\": \"object\"}, {\"text\": \"last_updated\", \"type\": \"object\"}, {\"text\": \"sentiment\", \"type\": \"object\"}, {\"text\": \"last_reaction\", \"type\": \"object\"}, {\"text\": \"symbol\", \"type\": \"object\"}], \"rows\": [[-3.3333333333333335, -3.3333333333333335, Infinity, -Infinity, Infinity, -Infinity, 2033.22998046875, 29723.0, \"2021-03-24 15:59:00-04:00\", -3.333333333333333, \"2021-03-25 12:50:55\", \"GOOGL\"], [0.3333333333333333, 0.3333333333333333, Infinity, -Infinity, Infinity, -Infinity, 235.4600067138672, 496721.0, \"2021-03-24 15:59:00-04:00\", 0.3333333333333333, \"2021-03-25 12:50:55\", \"MSFT\"], [-2.6666666666666665, -1.6666666666666667, Infinity, -Infinity, Infinity, -Infinity, 3087.169921875, 64163.0, \"2021-03-24 15:59:00-04:00\", -1.666666666666667, \"2021-03-25 12:55:22\", \"AMZN\"], [-3.3333333333333335, -0.6666666666666666, Infinity, -Infinity, Infinity, -Infinity, 120.0699996948242, 1303896.0, \"2021-03-24 15:59:00-04:00\", -3.333333333333333, \"2021-03-25 12:55:22\", \"AAPL\"]], \"type\": \"table\"}]"
     ]
    }
   ],
   "source": [
    "!curl {addr}"
   ]
  }
 ],
 "metadata": {
  "kernelspec": {
   "display_name": "Python 3",
   "language": "python",
   "name": "python3"
  },
  "language_info": {
   "codemirror_mode": {
    "name": "ipython",
    "version": 3
   },
   "file_extension": ".py",
   "mimetype": "text/x-python",
   "name": "python",
   "nbconvert_exporter": "python",
   "pygments_lexer": "ipython3",
   "version": "3.7.6"
  }
 },
 "nbformat": 4,
 "nbformat_minor": 4
}
