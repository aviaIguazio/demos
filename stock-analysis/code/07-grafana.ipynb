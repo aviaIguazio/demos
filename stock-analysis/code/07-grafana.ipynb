{
 "cells": [
  {
   "cell_type": "code",
   "execution_count": 14,
   "metadata": {},
   "outputs": [],
   "source": [
    "# nuclio: ignore\n",
    "import nuclio"
   ]
  },
  {
   "cell_type": "code",
   "execution_count": 15,
   "metadata": {},
   "outputs": [],
   "source": [
    "%nuclio env -c V3IO_ACCESS_KEY=${V3IO_ACCESS_KEY}\n",
    "%nuclio env -c V3IO_USERNAME=${V3IO_USERNAME}\n",
    "%nuclio env -c V3IO_API=${V3IO_API}"
   ]
  },
  {
   "cell_type": "code",
   "execution_count": 16,
   "metadata": {},
   "outputs": [
    {
     "name": "stdout",
     "output_type": "stream",
     "text": [
      "%nuclio: setting kind to 'nuclio'\n",
      "%nuclio: setting spec.build.baseImage to 'mlrun/ml-models'\n"
     ]
    }
   ],
   "source": [
    "%%nuclio config \n",
    "kind = \"nuclio\"\n",
    "spec.build.baseImage = \"mlrun/ml-models\""
   ]
  },
  {
   "cell_type": "code",
   "execution_count": 17,
   "metadata": {},
   "outputs": [],
   "source": [
    "%nuclio cmd -c pip install git+https://github.com/v3io/grafwiz --upgrade\n",
    "%nuclio cmd -c pip install v3io_frames"
   ]
  },
  {
   "cell_type": "code",
   "execution_count": 18,
   "metadata": {},
   "outputs": [],
   "source": [
    "# nuclio: start-code"
   ]
  },
  {
   "cell_type": "code",
   "execution_count": 19,
   "metadata": {},
   "outputs": [],
   "source": [
    "from grafwiz import *\n",
    "import os\n",
    "import v3io_frames as v3f"
   ]
  },
  {
   "cell_type": "code",
   "execution_count": 40,
   "metadata": {},
   "outputs": [],
   "source": [
    "def handler(context,event):\n",
    "    \n",
    "    grafana_url = \"http://grafana-dani\"\n",
    "    streamview_url = context.streamview_url\n",
    "    readvector_url =context.readvector_url\n",
    "    v3io_container = context.V3IO_CONTAINER\n",
    "    \n",
    "    context.logger.info(\"Initializing DataSources1\")\n",
    "    context.logger.info(streamview_url)\n",
    "    context.logger.info(readvector_url)\n",
    "    \n",
    "    DataSource(name='Iguazio').deploy(grafana_url, use_auth=True)\n",
    "    DataSource(name='stream-viewer', frames_url=streamview_url).deploy(grafana_url, use_auth=False, overwrite=False)\n",
    "    DataSource(name='read-vector', frames_url=readvector_url).deploy(grafana_url, use_auth=False, overwrite=False)\n",
    "    \n",
    "    dash = Dashboard(\"stocks\", start='now-7d', dataSource='Iguazio')\n",
    "    \n",
    "    # Add a symbol combo box (template) with data from the stocks table\n",
    "    dash.template(name=\"SYMBOL\", label=\"Symbol\", query=\"fields=symbol;table=\" + os.getenv('V3IO_USERNAME') + \"/stocks/stocks_kv;backend=kv;container=users\")\n",
    "\n",
    "    # Create a table and log viewer in one row\n",
    "    tbl = Table('Current Stocks Value', span=12).source(table=context.stocks_kv,fields=['symbol','volume', 'price', 'sentiment', 'last_updated'],container=v3io_container)\n",
    "    dash.row([tbl])\n",
    "    \n",
    "    # Create 2 charts on the second row\n",
    "    metrics_row = [Graph(metric).series(table=context.stocks_tsdb, fields=[metric], filter='symbol==\"$SYMBOL\"',container=v3io_container) for metric in ['price','volume']]\n",
    "    metrics_row.append(Graph('sentiment').series(table=context.stocks_tsdb, fields=['sentiment'], filter='symbol==\"$SYMBOL\"', container=v3io_container))\n",
    "    dash.row(metrics_row)\n",
    "    \n",
    "    log = Table('Articles Log', dataSource='stream-viewer', span=12)\n",
    "    dash.row([log])\n",
    "\n",
    "    log = Table('Vector Log', dataSource='read-vector', span=12)\n",
    "    dash.row([log])\n",
    "    \n",
    "    dash.deploy(grafana_url)\n",
    "    \n",
    "    return \"Done\""
   ]
  },
  {
   "cell_type": "code",
   "execution_count": 51,
   "metadata": {},
   "outputs": [],
   "source": [
    "def init_context(context):\n",
    "    context.logger.info(\"init context\") \n",
    "    setattr(context, 'stocks_stream', os.getenv('STOCKS_STREAM', os.getenv('V3IO_USERNAME') + '/stocks/stocks_stream'))\n",
    "    setattr(context, 'stocks_tsdb', os.getenv('STOCKS_TSDB_TABLE', os.getenv('V3IO_USERNAME') + '/stocks/stocks_tsdb'))\n",
    "    setattr(context, 'stocks_kv', os.getenv('STOCKS_KV', os.getenv('V3IO_USERNAME') + '/stocks/stocks_kv'))\n",
    "    setattr(context, 'V3IO_CONTAINER', os.getenv('V3IO_CONTAINER', 'users'))\n",
    "    setattr(context, 'streamview_url', os.getenv('streamview_url', 'http://default-tenant.app.dev8.lab.iguazeng.com:30819'))\n",
    "    setattr(context, 'readvector_url', os.getenv('readvector_url', 'http://default-tenant.app.dev8.lab.iguazeng.com:31577'))"
   ]
  },
  {
   "cell_type": "code",
   "execution_count": 52,
   "metadata": {},
   "outputs": [],
   "source": [
    "# nuclio: end-code"
   ]
  },
  {
   "cell_type": "code",
   "execution_count": null,
   "metadata": {},
   "outputs": [],
   "source": [
    "# create a test event and invoke the function locally\n",
    "init_context(context)\n",
    "event = nuclio.Event(body='')\n",
    "resp = handler(context, event)"
   ]
  },
  {
   "cell_type": "code",
   "execution_count": 35,
   "metadata": {},
   "outputs": [],
   "source": [
    "from mlrun import code_to_function\n",
    "fn = code_to_function('grafana-tryout',\n",
    "                      handler='handler')"
   ]
  },
  {
   "cell_type": "code",
   "execution_count": 36,
   "metadata": {},
   "outputs": [
    {
     "name": "stdout",
     "output_type": "stream",
     "text": [
      "> 2021-04-04 11:22:07,377 [info] Starting remote function deploy\n",
      "2021-04-04 11:22:07  (info) Deploying function\n",
      "2021-04-04 11:22:07  (info) Building\n",
      "2021-04-04 11:22:07  (info) Staging files and preparing base images\n",
      "2021-04-04 11:22:07  (info) Building processor image\n",
      "2021-04-04 11:22:12  (info) Build complete\n",
      "2021-04-04 11:22:16  (info) Function deploy complete\n",
      "> 2021-04-04 11:22:17,306 [info] function deployed, address=default-tenant.app.dev8.lab.iguazeng.com:30574\n"
     ]
    }
   ],
   "source": [
    "addr = fn.deploy()"
   ]
  },
  {
   "cell_type": "code",
   "execution_count": 34,
   "metadata": {},
   "outputs": [
    {
     "name": "stdout",
     "output_type": "stream",
     "text": [
      "Done"
     ]
    }
   ],
   "source": [
    "!curl {addr}"
   ]
  },
  {
   "cell_type": "code",
   "execution_count": null,
   "metadata": {},
   "outputs": [],
   "source": []
  }
 ],
 "metadata": {
  "kernelspec": {
   "display_name": "Python 3",
   "language": "python",
   "name": "python3"
  },
  "language_info": {
   "codemirror_mode": {
    "name": "ipython",
    "version": 3
   },
   "file_extension": ".py",
   "mimetype": "text/x-python",
   "name": "python",
   "nbconvert_exporter": "python",
   "pygments_lexer": "ipython3",
   "version": "3.7.6"
  }
 },
 "nbformat": 4,
 "nbformat_minor": 4
}
